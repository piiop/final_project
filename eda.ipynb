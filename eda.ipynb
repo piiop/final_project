{
 "cells": [
  {
   "cell_type": "code",
   "execution_count": 32,
   "metadata": {},
   "outputs": [],
   "source": [
    "import pandas as pd\n",
    "import os"
   ]
  },
  {
   "cell_type": "code",
   "execution_count": 33,
   "metadata": {},
   "outputs": [],
   "source": [
    "images_df = pd.read_csv(\"images_dataframe.csv\")"
   ]
  },
  {
   "cell_type": "code",
   "execution_count": 34,
   "metadata": {},
   "outputs": [
    {
     "name": "stdout",
     "output_type": "stream",
     "text": [
      "<class 'pandas.core.frame.DataFrame'>\n",
      "RangeIndex: 6739 entries, 0 to 6738\n",
      "Data columns (total 7 columns):\n",
      " #   Column              Non-Null Count  Dtype \n",
      "---  ------              --------------  ----- \n",
      " 0   artwork_type_title  6739 non-null   object\n",
      " 1   style_title         3550 non-null   object\n",
      " 2   id                  6739 non-null   int64 \n",
      " 3   image_id            6679 non-null   object\n",
      " 4   title               6739 non-null   object\n",
      " 5   search_term         6739 non-null   object\n",
      " 6   file_name           6610 non-null   object\n",
      "dtypes: int64(1), object(6)\n",
      "memory usage: 368.7+ KB\n"
     ]
    }
   ],
   "source": [
    "images_df.info()"
   ]
  },
  {
   "cell_type": "code",
   "execution_count": 35,
   "metadata": {},
   "outputs": [
    {
     "data": {
      "text/html": [
       "<div>\n",
       "<style scoped>\n",
       "    .dataframe tbody tr th:only-of-type {\n",
       "        vertical-align: middle;\n",
       "    }\n",
       "\n",
       "    .dataframe tbody tr th {\n",
       "        vertical-align: top;\n",
       "    }\n",
       "\n",
       "    .dataframe thead th {\n",
       "        text-align: right;\n",
       "    }\n",
       "</style>\n",
       "<table border=\"1\" class=\"dataframe\">\n",
       "  <thead>\n",
       "    <tr style=\"text-align: right;\">\n",
       "      <th></th>\n",
       "      <th>artwork_type_title</th>\n",
       "      <th>style_title</th>\n",
       "      <th>id</th>\n",
       "      <th>image_id</th>\n",
       "      <th>title</th>\n",
       "      <th>search_term</th>\n",
       "      <th>file_name</th>\n",
       "    </tr>\n",
       "  </thead>\n",
       "  <tbody>\n",
       "    <tr>\n",
       "      <th>0</th>\n",
       "      <td>Painting</td>\n",
       "      <td>Impressionism</td>\n",
       "      <td>64729</td>\n",
       "      <td>ef96e79b-f481-8114-0804-4bd39c101983</td>\n",
       "      <td>Early Morning, Tarpon Springs</td>\n",
       "      <td>Impressionism</td>\n",
       "      <td>ef96e79b-f481-8114-0804-4bd39c101983.jpg</td>\n",
       "    </tr>\n",
       "    <tr>\n",
       "      <th>1</th>\n",
       "      <td>Painting</td>\n",
       "      <td>Impressionism</td>\n",
       "      <td>138</td>\n",
       "      <td>e72305c9-1a1c-8a36-7450-582619366338</td>\n",
       "      <td>Flower Girl in Holland</td>\n",
       "      <td>Impressionism</td>\n",
       "      <td>e72305c9-1a1c-8a36-7450-582619366338.jpg</td>\n",
       "    </tr>\n",
       "    <tr>\n",
       "      <th>2</th>\n",
       "      <td>Painting</td>\n",
       "      <td>Impressionism</td>\n",
       "      <td>70065</td>\n",
       "      <td>2e796bd8-4e0b-f55a-7c69-75a70a3e97d7</td>\n",
       "      <td>Afterglow</td>\n",
       "      <td>Impressionism</td>\n",
       "      <td>2e796bd8-4e0b-f55a-7c69-75a70a3e97d7.jpg</td>\n",
       "    </tr>\n",
       "    <tr>\n",
       "      <th>3</th>\n",
       "      <td>Painting</td>\n",
       "      <td>Impressionism</td>\n",
       "      <td>90899</td>\n",
       "      <td>9604cbbd-722b-8de3-e7cc-4a80be648d79</td>\n",
       "      <td>Lady in Green and Gray</td>\n",
       "      <td>Impressionism</td>\n",
       "      <td>9604cbbd-722b-8de3-e7cc-4a80be648d79.jpg</td>\n",
       "    </tr>\n",
       "    <tr>\n",
       "      <th>4</th>\n",
       "      <td>Painting</td>\n",
       "      <td>Pointillism</td>\n",
       "      <td>27992</td>\n",
       "      <td>2d484387-2509-5e8e-2c43-22f9981972eb</td>\n",
       "      <td>A Sunday on La Grande Jatte — 1884</td>\n",
       "      <td>Impressionism</td>\n",
       "      <td>2d484387-2509-5e8e-2c43-22f9981972eb.jpg</td>\n",
       "    </tr>\n",
       "  </tbody>\n",
       "</table>\n",
       "</div>"
      ],
      "text/plain": [
       "  artwork_type_title    style_title     id  \\\n",
       "0           Painting  Impressionism  64729   \n",
       "1           Painting  Impressionism    138   \n",
       "2           Painting  Impressionism  70065   \n",
       "3           Painting  Impressionism  90899   \n",
       "4           Painting    Pointillism  27992   \n",
       "\n",
       "                               image_id                               title  \\\n",
       "0  ef96e79b-f481-8114-0804-4bd39c101983       Early Morning, Tarpon Springs   \n",
       "1  e72305c9-1a1c-8a36-7450-582619366338              Flower Girl in Holland   \n",
       "2  2e796bd8-4e0b-f55a-7c69-75a70a3e97d7                           Afterglow   \n",
       "3  9604cbbd-722b-8de3-e7cc-4a80be648d79              Lady in Green and Gray   \n",
       "4  2d484387-2509-5e8e-2c43-22f9981972eb  A Sunday on La Grande Jatte — 1884   \n",
       "\n",
       "     search_term                                 file_name  \n",
       "0  Impressionism  ef96e79b-f481-8114-0804-4bd39c101983.jpg  \n",
       "1  Impressionism  e72305c9-1a1c-8a36-7450-582619366338.jpg  \n",
       "2  Impressionism  2e796bd8-4e0b-f55a-7c69-75a70a3e97d7.jpg  \n",
       "3  Impressionism  9604cbbd-722b-8de3-e7cc-4a80be648d79.jpg  \n",
       "4  Impressionism  2d484387-2509-5e8e-2c43-22f9981972eb.jpg  "
      ]
     },
     "execution_count": 35,
     "metadata": {},
     "output_type": "execute_result"
    }
   ],
   "source": [
    "images_df.head()"
   ]
  },
  {
   "cell_type": "code",
   "execution_count": 36,
   "metadata": {},
   "outputs": [
    {
     "name": "stdout",
     "output_type": "stream",
     "text": [
      "<class 'pandas.core.frame.DataFrame'>\n",
      "Index: 6610 entries, 0 to 6738\n",
      "Data columns (total 7 columns):\n",
      " #   Column              Non-Null Count  Dtype \n",
      "---  ------              --------------  ----- \n",
      " 0   artwork_type_title  6610 non-null   object\n",
      " 1   style_title         3520 non-null   object\n",
      " 2   id                  6610 non-null   int64 \n",
      " 3   image_id            6610 non-null   object\n",
      " 4   title               6610 non-null   object\n",
      " 5   search_term         6610 non-null   object\n",
      " 6   file_name           6610 non-null   object\n",
      "dtypes: int64(1), object(6)\n",
      "memory usage: 413.1+ KB\n"
     ]
    }
   ],
   "source": [
    "images_df = images_df.dropna(subset=['file_name'])\n",
    "images_df.info()"
   ]
  },
  {
   "cell_type": "code",
   "execution_count": 40,
   "metadata": {},
   "outputs": [
    {
     "name": "stdout",
     "output_type": "stream",
     "text": [
      "Number of duplicate entries: 5205\n",
      "Number of rows after removing duplicates: 1405\n"
     ]
    }
   ],
   "source": [
    "# Find duplicates\n",
    "duplicate_image_ids = images_df['image_id'].duplicated(keep='first')\n",
    "\n",
    "# Print the number of duplicates found\n",
    "print(f\"Number of duplicate entries: {duplicate_image_ids.sum()}\")\n",
    "\n",
    "# Remove duplicates, keeping the first occurrence\n",
    "cleaned_images_df = images_df.drop_duplicates(subset=['image_id'], keep='first')\n",
    "\n",
    "# Print the number of rows in the new DataFrame\n",
    "print(f\"Number of rows after removing duplicates: {len(cleaned_images_df)}\")"
   ]
  },
  {
   "cell_type": "code",
   "execution_count": 41,
   "metadata": {},
   "outputs": [
    {
     "data": {
      "text/plain": [
       "artwork_type_title      0\n",
       "style_title           525\n",
       "id                      0\n",
       "image_id                0\n",
       "title                   0\n",
       "search_term             0\n",
       "file_name               0\n",
       "dtype: int64"
      ]
     },
     "execution_count": 41,
     "metadata": {},
     "output_type": "execute_result"
    }
   ],
   "source": [
    "cleaned_images_df.isna().sum()"
   ]
  },
  {
   "cell_type": "code",
   "execution_count": 43,
   "metadata": {},
   "outputs": [
    {
     "name": "stdout",
     "output_type": "stream",
     "text": [
      "Files that exist: 1405\n",
      "Files that are missing: 0\n"
     ]
    }
   ],
   "source": [
    "def verify_file_exists(file_name):\n",
    "    return os.path.isfile(os.path.join('downloaded_images_aic', file_name))\n",
    "\n",
    "# Create an explicit copy of the DataFrame\n",
    "cleaned_images_df = cleaned_images_df.copy()\n",
    "\n",
    "# Apply the verification function to each file name\n",
    "cleaned_images_df.loc[:, 'file_exists'] = cleaned_images_df['file_name'].apply(verify_file_exists)\n",
    "\n",
    "# Count how many files exist and how many are missing\n",
    "files_exist = cleaned_images_df['file_exists'].sum()\n",
    "files_missing = len(cleaned_images_df) - files_exist\n",
    "\n",
    "print(f\"Files that exist: {files_exist}\")\n",
    "print(f\"Files that are missing: {files_missing}\")"
   ]
  },
  {
   "cell_type": "code",
   "execution_count": 45,
   "metadata": {},
   "outputs": [
    {
     "data": {
      "text/plain": [
       "31"
      ]
     },
     "execution_count": 45,
     "metadata": {},
     "output_type": "execute_result"
    }
   ],
   "source": [
    "cleaned_images_df['search_term'].nunique()"
   ]
  },
  {
   "cell_type": "code",
   "execution_count": 46,
   "metadata": {},
   "outputs": [
    {
     "data": {
      "text/plain": [
       "search_term\n",
       "modern art                604\n",
       "Impressionism             262\n",
       "northern renaissance       62\n",
       "mannerism                  61\n",
       "Realism                    58\n",
       "Abstract Expressionism     58\n",
       "modernism                  55\n",
       "neo-romantic               46\n",
       "Baroque                    28\n",
       "Pop art                    22\n",
       "Art Informel               21\n",
       "late renaissance           18\n",
       "Conceptual Art             15\n",
       "surrealism                 14\n",
       "contemporary               14\n",
       "ukiyo-e                    10\n",
       "early renaissance           8\n",
       "Neoclassicism               7\n",
       "high renaissance            6\n",
       "Op Art                      5\n",
       "symbolism                   5\n",
       "Mannerism                   4\n",
       "Rococo                      4\n",
       "Expressionism               4\n",
       "Cubism                      4\n",
       "romantic                    3\n",
       "Pop Art                     2\n",
       "Modern Art                  2\n",
       "minimalism                  1\n",
       "Post-Impressionism          1\n",
       "lyrical abstraction         1\n",
       "Name: count, dtype: int64"
      ]
     },
     "execution_count": 46,
     "metadata": {},
     "output_type": "execute_result"
    }
   ],
   "source": [
    "cleaned_images_df['search_term'].value_counts()"
   ]
  }
 ],
 "metadata": {
  "kernelspec": {
   "display_name": "dev",
   "language": "python",
   "name": "python3"
  },
  "language_info": {
   "codemirror_mode": {
    "name": "ipython",
    "version": 3
   },
   "file_extension": ".py",
   "mimetype": "text/x-python",
   "name": "python",
   "nbconvert_exporter": "python",
   "pygments_lexer": "ipython3",
   "version": "3.10.14"
  }
 },
 "nbformat": 4,
 "nbformat_minor": 2
}
