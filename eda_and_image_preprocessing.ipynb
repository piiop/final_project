{
 "cells": [
  {
   "cell_type": "code",
   "execution_count": 88,
   "metadata": {},
   "outputs": [],
   "source": [
    "import pandas as pd\n",
    "import numpy as np\n",
    "from PIL import Image\n",
    "import os\n",
    "import io\n",
    "\n",
    "import seaborn as sns\n",
    "import matplotlib.pyplot as plt\n",
    "import plotly.express as px\n",
    "import plotly.graph_objects as go"
   ]
  },
  {
   "cell_type": "code",
   "execution_count": 89,
   "metadata": {},
   "outputs": [],
   "source": [
    "# Load and join the dataframes \n",
    "wiki_art_imgs = pd.read_csv(\"wikiart_df.csv\")\n",
    "aic_art_imgs = pd.read_csv(\"aic_images.csv\")\n"
   ]
  },
  {
   "cell_type": "code",
   "execution_count": 90,
   "metadata": {},
   "outputs": [
    {
     "name": "stdout",
     "output_type": "stream",
     "text": [
      "<class 'pandas.core.frame.DataFrame'>\n",
      "RangeIndex: 4122 entries, 0 to 4121\n",
      "Data columns (total 7 columns):\n",
      " #   Column              Non-Null Count  Dtype \n",
      "---  ------              --------------  ----- \n",
      " 0   artwork_type_title  4122 non-null   object\n",
      " 1   style_title         4122 non-null   object\n",
      " 2   id                  4122 non-null   int64 \n",
      " 3   image_id            4122 non-null   object\n",
      " 4   title               4122 non-null   object\n",
      " 5   search_term         4122 non-null   object\n",
      " 6   file_name           4122 non-null   object\n",
      "dtypes: int64(1), object(6)\n",
      "memory usage: 225.5+ KB\n"
     ]
    }
   ],
   "source": [
    "aic_art_imgs.info()"
   ]
  },
  {
   "cell_type": "code",
   "execution_count": 91,
   "metadata": {},
   "outputs": [
    {
     "name": "stdout",
     "output_type": "stream",
     "text": [
      "<class 'pandas.core.frame.DataFrame'>\n",
      "RangeIndex: 4314 entries, 0 to 4313\n",
      "Data columns (total 11 columns):\n",
      " #   Column            Non-Null Count  Dtype  \n",
      "---  ------            --------------  -----  \n",
      " 0   id                4314 non-null   object \n",
      " 1   title             4314 non-null   object \n",
      " 2   url               4314 non-null   object \n",
      " 3   artistUrl         4314 non-null   object \n",
      " 4   artistName        4314 non-null   object \n",
      " 5   artistId          4314 non-null   object \n",
      " 6   completitionYear  4313 non-null   float64\n",
      " 7   width             4314 non-null   int64  \n",
      " 8   image             4314 non-null   object \n",
      " 9   height            4314 non-null   int64  \n",
      " 10  Style             4254 non-null   object \n",
      "dtypes: float64(1), int64(2), object(8)\n",
      "memory usage: 370.9+ KB\n"
     ]
    }
   ],
   "source": [
    "wiki_art_imgs.info()"
   ]
  },
  {
   "cell_type": "markdown",
   "metadata": {},
   "source": [
    "Check and clean the wiki art file images and df, the aic was already checked in its\n",
    "data collection notebook."
   ]
  },
  {
   "cell_type": "code",
   "execution_count": 92,
   "metadata": {},
   "outputs": [
    {
     "name": "stdout",
     "output_type": "stream",
     "text": [
      "file_name column added.\n",
      "No duplicate filenames found.\n"
     ]
    }
   ],
   "source": [
    "# Create file_name column by adding .jpg extension to id\n",
    "wiki_art_imgs['file_name'] = wiki_art_imgs['id'] + '.jpg'\n",
    "print(\"file_name column added.\")\n",
    "\n",
    "# First check if any ids are None\n",
    "wiki_art_imgs = wiki_art_imgs.dropna(subset=['id'])\n",
    "\n",
    "# Check which files exist in the directory\n",
    "image_dir = 'downloaded_images_wikiart'\n",
    "exists_mask = wiki_art_imgs['file_name'].apply(lambda x: os.path.exists(os.path.join(image_dir, x)))\n",
    "\n",
    "# Filter to keep only rows where files exist\n",
    "wiki_art_imgs = wiki_art_imgs[exists_mask]\n",
    "\n",
    "# Let's check if there are any duplicates while we're at it\n",
    "duplicate_count = wiki_art_imgs['file_name'].duplicated().sum()\n",
    "\n",
    "if duplicate_count > 0:\n",
    "    print(f\"Found {duplicate_count} duplicate entries\")\n",
    "else:\n",
    "    print(\"No duplicate filenames found.\")"
   ]
  },
  {
   "cell_type": "code",
   "execution_count": 93,
   "metadata": {},
   "outputs": [
    {
     "name": "stdout",
     "output_type": "stream",
     "text": [
      "<class 'pandas.core.frame.DataFrame'>\n",
      "RangeIndex: 4314 entries, 0 to 4313\n",
      "Data columns (total 12 columns):\n",
      " #   Column            Non-Null Count  Dtype  \n",
      "---  ------            --------------  -----  \n",
      " 0   id                4314 non-null   object \n",
      " 1   title             4314 non-null   object \n",
      " 2   url               4314 non-null   object \n",
      " 3   artistUrl         4314 non-null   object \n",
      " 4   artistName        4314 non-null   object \n",
      " 5   artistId          4314 non-null   object \n",
      " 6   completitionYear  4313 non-null   float64\n",
      " 7   width             4314 non-null   int64  \n",
      " 8   image             4314 non-null   object \n",
      " 9   height            4314 non-null   int64  \n",
      " 10  Style             4254 non-null   object \n",
      " 11  file_name         4314 non-null   object \n",
      "dtypes: float64(1), int64(2), object(9)\n",
      "memory usage: 404.6+ KB\n"
     ]
    }
   ],
   "source": [
    "wiki_art_imgs.info()"
   ]
  },
  {
   "cell_type": "code",
   "execution_count": 94,
   "metadata": {},
   "outputs": [],
   "source": [
    "# Drop columns \n",
    "\n",
    "wiki_art_imgs = wiki_art_imgs.drop(columns=['id','title','url','artistUrl','artistName','artistId','completitionYear',\n",
    "                                            'width','image','height'])\n",
    "aic_art_imgs = aic_art_imgs.drop(columns=['artwork_type_title','id','image_id','title','style_title'])"
   ]
  },
  {
   "cell_type": "code",
   "execution_count": 95,
   "metadata": {},
   "outputs": [],
   "source": [
    "imgs = pd.concat([wiki_art_imgs, aic_art_imgs], axis=0)"
   ]
  },
  {
   "cell_type": "code",
   "execution_count": 96,
   "metadata": {},
   "outputs": [
    {
     "name": "stdout",
     "output_type": "stream",
     "text": [
      "<class 'pandas.core.frame.DataFrame'>\n",
      "Index: 8436 entries, 0 to 4121\n",
      "Data columns (total 3 columns):\n",
      " #   Column       Non-Null Count  Dtype \n",
      "---  ------       --------------  ----- \n",
      " 0   Style        4254 non-null   object\n",
      " 1   file_name    8436 non-null   object\n",
      " 2   search_term  4122 non-null   object\n",
      "dtypes: object(3)\n",
      "memory usage: 263.6+ KB\n"
     ]
    }
   ],
   "source": [
    "imgs.info()"
   ]
  },
  {
   "cell_type": "markdown",
   "metadata": {},
   "source": [
    "### Standardize the styles to use for classification"
   ]
  },
  {
   "cell_type": "code",
   "execution_count": 97,
   "metadata": {},
   "outputs": [
    {
     "data": {
      "text/plain": [
       "Style\n",
       "Art Informel              568\n",
       "Cubism                    561\n",
       "Abstract Expressionism    557\n",
       "Conceptual Art            535\n",
       "Expressionism             515\n",
       "Contemporary              494\n",
       "Baroque                   359\n",
       "Contemporary Realism      346\n",
       "Early Renaissance         319\n",
       "Name: count, dtype: int64"
      ]
     },
     "execution_count": 97,
     "metadata": {},
     "output_type": "execute_result"
    }
   ],
   "source": [
    "\n",
    "imgs['Style'].value_counts()"
   ]
  },
  {
   "cell_type": "code",
   "execution_count": 98,
   "metadata": {},
   "outputs": [
    {
     "data": {
      "text/plain": [
       "search_term\n",
       "Modern Art                617\n",
       "ukiyo-e                   536\n",
       "Pop Art                   476\n",
       "Mannerism                 382\n",
       "Post-Impressionism        304\n",
       "Cubism                    260\n",
       "Realism                   195\n",
       "early renaissance         123\n",
       "neo-romantic              122\n",
       "late renaissance          118\n",
       "Baroque                   106\n",
       "abstract figures           98\n",
       "northern renaissance       88\n",
       "Abstract Expressionism     83\n",
       "Art Informel               59\n",
       "Surrealism                 56\n",
       "Conceptual Art             54\n",
       "Modernism                  52\n",
       "Rococo                     45\n",
       "abstract patterns          44\n",
       "high renaissance           43\n",
       "mannerism                  42\n",
       "Symbolism                  35\n",
       "abstract objects           33\n",
       "Fauvism                    22\n",
       "abstract motifs            22\n",
       "contemporary               19\n",
       "abstract shapes            18\n",
       "abstract imagist           15\n",
       "abstract forms             11\n",
       "lyrical abstraction        11\n",
       "Neoclassicism               7\n",
       "Abstract                    6\n",
       "modernist                   4\n",
       "Expressionism               4\n",
       "romantic                    4\n",
       "Op Art                      3\n",
       "eccentric abstraction       2\n",
       "symbolism                   2\n",
       "Minimalism                  1\n",
       "Name: count, dtype: int64"
      ]
     },
     "execution_count": 98,
     "metadata": {},
     "output_type": "execute_result"
    }
   ],
   "source": [
    "imgs['search_term'].value_counts()"
   ]
  },
  {
   "cell_type": "code",
   "execution_count": 99,
   "metadata": {},
   "outputs": [],
   "source": [
    "\n",
    "def clean_art_styles(df):\n",
    "    \"\"\"\n",
    "    Cleans art styles in a dataframe by:\n",
    "    1. Dropping rows where search_term contains 'abstract' (except 'Abstract Expressionism')\n",
    "    2. Capitalizing first letter of each word in search_term\n",
    "    3. Filling empty Style values with search_term values\n",
    "    \n",
    "    Parameters:\n",
    "    df (pandas.DataFrame): DataFrame with 'search_term' and 'Style' columns\n",
    "    \n",
    "    Returns:\n",
    "    pandas.DataFrame: Cleaned DataFrame\n",
    "    \"\"\"\n",
    "    # Create a copy of the DataFrame\n",
    "    df = df.copy()\n",
    "    \n",
    "    # Drop rows containing 'abstract' except 'Abstract Expressionism'\n",
    "    # First, create a mask for rows containing 'abstract'\n",
    "    abstract_mask = df['search_term'].fillna('').str.contains('abstract', case=False)\n",
    "\n",
    "    # Then, create a mask for rows containing 'Abstract Expressionism'\n",
    "    expressionism_mask = df['search_term'].fillna('').str.contains('Abstract Expressionism', case=False)\n",
    "    \n",
    "    # Keep rows that either don't contain 'abstract' or contain 'Abstract Expressionism'\n",
    "    df = df[~abstract_mask | expressionism_mask]\n",
    "    \n",
    "    # Capitalize first letter of each word in search_term\n",
    "    df['search_term'] = df['search_term'].apply(lambda x: ' '.join(word.capitalize() for word in x.split()) if isinstance(x, str) else x)\n",
    "    \n",
    "    # Fill empty Style values with search_term values\n",
    "    df.loc[df['Style'].isna(), 'Style'] = df.loc[df['Style'].isna(), 'search_term']\n",
    "    \n",
    "    return df\n",
    "\n",
    "\n",
    "# Usage\n",
    "\n",
    "imgs_cleaned = clean_art_styles(imgs)"
   ]
  },
  {
   "cell_type": "code",
   "execution_count": 100,
   "metadata": {},
   "outputs": [
    {
     "name": "stdout",
     "output_type": "stream",
     "text": [
      "<class 'pandas.core.frame.DataFrame'>\n",
      "Index: 8176 entries, 0 to 4121\n",
      "Data columns (total 3 columns):\n",
      " #   Column       Non-Null Count  Dtype \n",
      "---  ------       --------------  ----- \n",
      " 0   Style        8116 non-null   object\n",
      " 1   file_name    8176 non-null   object\n",
      " 2   search_term  3862 non-null   object\n",
      "dtypes: object(3)\n",
      "memory usage: 255.5+ KB\n"
     ]
    }
   ],
   "source": [
    "imgs_cleaned.info()"
   ]
  },
  {
   "cell_type": "code",
   "execution_count": 101,
   "metadata": {},
   "outputs": [],
   "source": [
    "# Drop the search_term column\n",
    "imgs_cleaned = imgs_cleaned.drop(columns='search_term')\n",
    "# Drop any remaining entries that don't have a Style term\n",
    "imgs_cleaned = imgs_cleaned.dropna()\n"
   ]
  },
  {
   "cell_type": "code",
   "execution_count": 102,
   "metadata": {},
   "outputs": [
    {
     "data": {
      "text/plain": [
       "Style\n",
       "Cubism                    821\n",
       "Abstract Expressionism    640\n",
       "Art Informel              627\n",
       "Modern Art                617\n",
       "Conceptual Art            589\n",
       "Ukiyo-e                   536\n",
       "Expressionism             519\n",
       "Contemporary              513\n",
       "Pop Art                   476\n",
       "Baroque                   465\n",
       "Early Renaissance         442\n",
       "Mannerism                 424\n",
       "Contemporary Realism      346\n",
       "Post-impressionism        304\n",
       "Realism                   195\n",
       "Neo-romantic              122\n",
       "Late Renaissance          118\n",
       "Northern Renaissance       88\n",
       "Surrealism                 56\n",
       "Modernism                  52\n",
       "Rococo                     45\n",
       "High Renaissance           43\n",
       "Symbolism                  37\n",
       "Fauvism                    22\n",
       "Neoclassicism               7\n",
       "Modernist                   4\n",
       "Romantic                    4\n",
       "Op Art                      3\n",
       "Minimalism                  1\n",
       "Name: count, dtype: int64"
      ]
     },
     "execution_count": 102,
     "metadata": {},
     "output_type": "execute_result"
    }
   ],
   "source": [
    "imgs_cleaned['Style'].value_counts()"
   ]
  },
  {
   "cell_type": "code",
   "execution_count": 103,
   "metadata": {},
   "outputs": [],
   "source": [
    "# Drop Styles with too few entries\n",
    "# Filter the 'Style' column based on value counts\n",
    "style_counts = imgs_cleaned['Style'].value_counts()\n",
    "\n",
    "# Keep only the styles that occur more than 10 times\n",
    "imgs_filtered = imgs_cleaned[imgs_cleaned['Style'].isin(style_counts[style_counts > 10].index)]"
   ]
  },
  {
   "cell_type": "markdown",
   "metadata": {},
   "source": [
    "Calculate basic statistics (# of classes, images per class, image sizes)"
   ]
  },
  {
   "cell_type": "code",
   "execution_count": 104,
   "metadata": {},
   "outputs": [
    {
     "data": {
      "text/plain": [
       "Style\n",
       "Cubism                    821\n",
       "Abstract Expressionism    640\n",
       "Art Informel              627\n",
       "Modern Art                617\n",
       "Conceptual Art            589\n",
       "Ukiyo-e                   536\n",
       "Expressionism             519\n",
       "Contemporary              513\n",
       "Pop Art                   476\n",
       "Baroque                   465\n",
       "Early Renaissance         442\n",
       "Mannerism                 424\n",
       "Contemporary Realism      346\n",
       "Post-impressionism        304\n",
       "Realism                   195\n",
       "Neo-romantic              122\n",
       "Late Renaissance          118\n",
       "Northern Renaissance       88\n",
       "Surrealism                 56\n",
       "Modernism                  52\n",
       "Rococo                     45\n",
       "High Renaissance           43\n",
       "Symbolism                  37\n",
       "Fauvism                    22\n",
       "Name: count, dtype: int64"
      ]
     },
     "execution_count": 104,
     "metadata": {},
     "output_type": "execute_result"
    }
   ],
   "source": [
    "imgs_filtered['Style'].value_counts()"
   ]
  },
  {
   "cell_type": "code",
   "execution_count": null,
   "metadata": {},
   "outputs": [],
   "source": []
  },
  {
   "cell_type": "markdown",
   "metadata": {},
   "source": [
    "Visualizations\n",
    "- Create sample visualizations of images across different styles\n",
    "- [ ] Generate distribution plots of image properties\n",
    "- [ ] Analyze color distributions\n",
    "- [ ] Create dimensionality reduction visualizations (t-SNE, UMAP)"
   ]
  },
  {
   "cell_type": "code",
   "execution_count": 111,
   "metadata": {},
   "outputs": [
    {
     "data": {
      "application/vnd.plotly.v1+json": {
       "config": {
        "plotlyServerURL": "https://plot.ly"
       },
       "data": [
        {
         "hole": 0.3,
         "hovertemplate": "<b>%{label}</b><br>Count: %{value}<br>Percentage: %{percent}<extra></extra>",
         "labels": [
          "Cubism",
          "Abstract Expressionism",
          "Art Informel",
          "Modern Art",
          "Conceptual Art",
          "Ukiyo-e",
          "Expressionism",
          "Contemporary",
          "Pop Art",
          "Baroque",
          "Early Renaissance",
          "Mannerism",
          "Contemporary Realism",
          "Post-impressionism",
          "Realism",
          "Neo-romantic",
          "Late Renaissance",
          "Northern Renaissance",
          "Surrealism",
          "Modernism",
          "Rococo",
          "High Renaissance",
          "Symbolism",
          "Fauvism"
         ],
         "type": "pie",
         "values": [
          821,
          640,
          627,
          617,
          589,
          536,
          519,
          513,
          476,
          465,
          442,
          424,
          346,
          304,
          195,
          122,
          118,
          88,
          56,
          52,
          45,
          43,
          37,
          22
         ]
        }
       ],
       "layout": {
        "height": 800,
        "template": {
         "data": {
          "bar": [
           {
            "error_x": {
             "color": "#2a3f5f"
            },
            "error_y": {
             "color": "#2a3f5f"
            },
            "marker": {
             "line": {
              "color": "#E5ECF6",
              "width": 0.5
             },
             "pattern": {
              "fillmode": "overlay",
              "size": 10,
              "solidity": 0.2
             }
            },
            "type": "bar"
           }
          ],
          "barpolar": [
           {
            "marker": {
             "line": {
              "color": "#E5ECF6",
              "width": 0.5
             },
             "pattern": {
              "fillmode": "overlay",
              "size": 10,
              "solidity": 0.2
             }
            },
            "type": "barpolar"
           }
          ],
          "carpet": [
           {
            "aaxis": {
             "endlinecolor": "#2a3f5f",
             "gridcolor": "white",
             "linecolor": "white",
             "minorgridcolor": "white",
             "startlinecolor": "#2a3f5f"
            },
            "baxis": {
             "endlinecolor": "#2a3f5f",
             "gridcolor": "white",
             "linecolor": "white",
             "minorgridcolor": "white",
             "startlinecolor": "#2a3f5f"
            },
            "type": "carpet"
           }
          ],
          "choropleth": [
           {
            "colorbar": {
             "outlinewidth": 0,
             "ticks": ""
            },
            "type": "choropleth"
           }
          ],
          "contour": [
           {
            "colorbar": {
             "outlinewidth": 0,
             "ticks": ""
            },
            "colorscale": [
             [
              0,
              "#0d0887"
             ],
             [
              0.1111111111111111,
              "#46039f"
             ],
             [
              0.2222222222222222,
              "#7201a8"
             ],
             [
              0.3333333333333333,
              "#9c179e"
             ],
             [
              0.4444444444444444,
              "#bd3786"
             ],
             [
              0.5555555555555556,
              "#d8576b"
             ],
             [
              0.6666666666666666,
              "#ed7953"
             ],
             [
              0.7777777777777778,
              "#fb9f3a"
             ],
             [
              0.8888888888888888,
              "#fdca26"
             ],
             [
              1,
              "#f0f921"
             ]
            ],
            "type": "contour"
           }
          ],
          "contourcarpet": [
           {
            "colorbar": {
             "outlinewidth": 0,
             "ticks": ""
            },
            "type": "contourcarpet"
           }
          ],
          "heatmap": [
           {
            "colorbar": {
             "outlinewidth": 0,
             "ticks": ""
            },
            "colorscale": [
             [
              0,
              "#0d0887"
             ],
             [
              0.1111111111111111,
              "#46039f"
             ],
             [
              0.2222222222222222,
              "#7201a8"
             ],
             [
              0.3333333333333333,
              "#9c179e"
             ],
             [
              0.4444444444444444,
              "#bd3786"
             ],
             [
              0.5555555555555556,
              "#d8576b"
             ],
             [
              0.6666666666666666,
              "#ed7953"
             ],
             [
              0.7777777777777778,
              "#fb9f3a"
             ],
             [
              0.8888888888888888,
              "#fdca26"
             ],
             [
              1,
              "#f0f921"
             ]
            ],
            "type": "heatmap"
           }
          ],
          "heatmapgl": [
           {
            "colorbar": {
             "outlinewidth": 0,
             "ticks": ""
            },
            "colorscale": [
             [
              0,
              "#0d0887"
             ],
             [
              0.1111111111111111,
              "#46039f"
             ],
             [
              0.2222222222222222,
              "#7201a8"
             ],
             [
              0.3333333333333333,
              "#9c179e"
             ],
             [
              0.4444444444444444,
              "#bd3786"
             ],
             [
              0.5555555555555556,
              "#d8576b"
             ],
             [
              0.6666666666666666,
              "#ed7953"
             ],
             [
              0.7777777777777778,
              "#fb9f3a"
             ],
             [
              0.8888888888888888,
              "#fdca26"
             ],
             [
              1,
              "#f0f921"
             ]
            ],
            "type": "heatmapgl"
           }
          ],
          "histogram": [
           {
            "marker": {
             "pattern": {
              "fillmode": "overlay",
              "size": 10,
              "solidity": 0.2
             }
            },
            "type": "histogram"
           }
          ],
          "histogram2d": [
           {
            "colorbar": {
             "outlinewidth": 0,
             "ticks": ""
            },
            "colorscale": [
             [
              0,
              "#0d0887"
             ],
             [
              0.1111111111111111,
              "#46039f"
             ],
             [
              0.2222222222222222,
              "#7201a8"
             ],
             [
              0.3333333333333333,
              "#9c179e"
             ],
             [
              0.4444444444444444,
              "#bd3786"
             ],
             [
              0.5555555555555556,
              "#d8576b"
             ],
             [
              0.6666666666666666,
              "#ed7953"
             ],
             [
              0.7777777777777778,
              "#fb9f3a"
             ],
             [
              0.8888888888888888,
              "#fdca26"
             ],
             [
              1,
              "#f0f921"
             ]
            ],
            "type": "histogram2d"
           }
          ],
          "histogram2dcontour": [
           {
            "colorbar": {
             "outlinewidth": 0,
             "ticks": ""
            },
            "colorscale": [
             [
              0,
              "#0d0887"
             ],
             [
              0.1111111111111111,
              "#46039f"
             ],
             [
              0.2222222222222222,
              "#7201a8"
             ],
             [
              0.3333333333333333,
              "#9c179e"
             ],
             [
              0.4444444444444444,
              "#bd3786"
             ],
             [
              0.5555555555555556,
              "#d8576b"
             ],
             [
              0.6666666666666666,
              "#ed7953"
             ],
             [
              0.7777777777777778,
              "#fb9f3a"
             ],
             [
              0.8888888888888888,
              "#fdca26"
             ],
             [
              1,
              "#f0f921"
             ]
            ],
            "type": "histogram2dcontour"
           }
          ],
          "mesh3d": [
           {
            "colorbar": {
             "outlinewidth": 0,
             "ticks": ""
            },
            "type": "mesh3d"
           }
          ],
          "parcoords": [
           {
            "line": {
             "colorbar": {
              "outlinewidth": 0,
              "ticks": ""
             }
            },
            "type": "parcoords"
           }
          ],
          "pie": [
           {
            "automargin": true,
            "type": "pie"
           }
          ],
          "scatter": [
           {
            "fillpattern": {
             "fillmode": "overlay",
             "size": 10,
             "solidity": 0.2
            },
            "type": "scatter"
           }
          ],
          "scatter3d": [
           {
            "line": {
             "colorbar": {
              "outlinewidth": 0,
              "ticks": ""
             }
            },
            "marker": {
             "colorbar": {
              "outlinewidth": 0,
              "ticks": ""
             }
            },
            "type": "scatter3d"
           }
          ],
          "scattercarpet": [
           {
            "marker": {
             "colorbar": {
              "outlinewidth": 0,
              "ticks": ""
             }
            },
            "type": "scattercarpet"
           }
          ],
          "scattergeo": [
           {
            "marker": {
             "colorbar": {
              "outlinewidth": 0,
              "ticks": ""
             }
            },
            "type": "scattergeo"
           }
          ],
          "scattergl": [
           {
            "marker": {
             "colorbar": {
              "outlinewidth": 0,
              "ticks": ""
             }
            },
            "type": "scattergl"
           }
          ],
          "scattermapbox": [
           {
            "marker": {
             "colorbar": {
              "outlinewidth": 0,
              "ticks": ""
             }
            },
            "type": "scattermapbox"
           }
          ],
          "scatterpolar": [
           {
            "marker": {
             "colorbar": {
              "outlinewidth": 0,
              "ticks": ""
             }
            },
            "type": "scatterpolar"
           }
          ],
          "scatterpolargl": [
           {
            "marker": {
             "colorbar": {
              "outlinewidth": 0,
              "ticks": ""
             }
            },
            "type": "scatterpolargl"
           }
          ],
          "scatterternary": [
           {
            "marker": {
             "colorbar": {
              "outlinewidth": 0,
              "ticks": ""
             }
            },
            "type": "scatterternary"
           }
          ],
          "surface": [
           {
            "colorbar": {
             "outlinewidth": 0,
             "ticks": ""
            },
            "colorscale": [
             [
              0,
              "#0d0887"
             ],
             [
              0.1111111111111111,
              "#46039f"
             ],
             [
              0.2222222222222222,
              "#7201a8"
             ],
             [
              0.3333333333333333,
              "#9c179e"
             ],
             [
              0.4444444444444444,
              "#bd3786"
             ],
             [
              0.5555555555555556,
              "#d8576b"
             ],
             [
              0.6666666666666666,
              "#ed7953"
             ],
             [
              0.7777777777777778,
              "#fb9f3a"
             ],
             [
              0.8888888888888888,
              "#fdca26"
             ],
             [
              1,
              "#f0f921"
             ]
            ],
            "type": "surface"
           }
          ],
          "table": [
           {
            "cells": {
             "fill": {
              "color": "#EBF0F8"
             },
             "line": {
              "color": "white"
             }
            },
            "header": {
             "fill": {
              "color": "#C8D4E3"
             },
             "line": {
              "color": "white"
             }
            },
            "type": "table"
           }
          ]
         },
         "layout": {
          "annotationdefaults": {
           "arrowcolor": "#2a3f5f",
           "arrowhead": 0,
           "arrowwidth": 1
          },
          "autotypenumbers": "strict",
          "coloraxis": {
           "colorbar": {
            "outlinewidth": 0,
            "ticks": ""
           }
          },
          "colorscale": {
           "diverging": [
            [
             0,
             "#8e0152"
            ],
            [
             0.1,
             "#c51b7d"
            ],
            [
             0.2,
             "#de77ae"
            ],
            [
             0.3,
             "#f1b6da"
            ],
            [
             0.4,
             "#fde0ef"
            ],
            [
             0.5,
             "#f7f7f7"
            ],
            [
             0.6,
             "#e6f5d0"
            ],
            [
             0.7,
             "#b8e186"
            ],
            [
             0.8,
             "#7fbc41"
            ],
            [
             0.9,
             "#4d9221"
            ],
            [
             1,
             "#276419"
            ]
           ],
           "sequential": [
            [
             0,
             "#0d0887"
            ],
            [
             0.1111111111111111,
             "#46039f"
            ],
            [
             0.2222222222222222,
             "#7201a8"
            ],
            [
             0.3333333333333333,
             "#9c179e"
            ],
            [
             0.4444444444444444,
             "#bd3786"
            ],
            [
             0.5555555555555556,
             "#d8576b"
            ],
            [
             0.6666666666666666,
             "#ed7953"
            ],
            [
             0.7777777777777778,
             "#fb9f3a"
            ],
            [
             0.8888888888888888,
             "#fdca26"
            ],
            [
             1,
             "#f0f921"
            ]
           ],
           "sequentialminus": [
            [
             0,
             "#0d0887"
            ],
            [
             0.1111111111111111,
             "#46039f"
            ],
            [
             0.2222222222222222,
             "#7201a8"
            ],
            [
             0.3333333333333333,
             "#9c179e"
            ],
            [
             0.4444444444444444,
             "#bd3786"
            ],
            [
             0.5555555555555556,
             "#d8576b"
            ],
            [
             0.6666666666666666,
             "#ed7953"
            ],
            [
             0.7777777777777778,
             "#fb9f3a"
            ],
            [
             0.8888888888888888,
             "#fdca26"
            ],
            [
             1,
             "#f0f921"
            ]
           ]
          },
          "colorway": [
           "#636efa",
           "#EF553B",
           "#00cc96",
           "#ab63fa",
           "#FFA15A",
           "#19d3f3",
           "#FF6692",
           "#B6E880",
           "#FF97FF",
           "#FECB52"
          ],
          "font": {
           "color": "#2a3f5f"
          },
          "geo": {
           "bgcolor": "white",
           "lakecolor": "white",
           "landcolor": "#E5ECF6",
           "showlakes": true,
           "showland": true,
           "subunitcolor": "white"
          },
          "hoverlabel": {
           "align": "left"
          },
          "hovermode": "closest",
          "mapbox": {
           "style": "light"
          },
          "paper_bgcolor": "white",
          "plot_bgcolor": "#E5ECF6",
          "polar": {
           "angularaxis": {
            "gridcolor": "white",
            "linecolor": "white",
            "ticks": ""
           },
           "bgcolor": "#E5ECF6",
           "radialaxis": {
            "gridcolor": "white",
            "linecolor": "white",
            "ticks": ""
           }
          },
          "scene": {
           "xaxis": {
            "backgroundcolor": "#E5ECF6",
            "gridcolor": "white",
            "gridwidth": 2,
            "linecolor": "white",
            "showbackground": true,
            "ticks": "",
            "zerolinecolor": "white"
           },
           "yaxis": {
            "backgroundcolor": "#E5ECF6",
            "gridcolor": "white",
            "gridwidth": 2,
            "linecolor": "white",
            "showbackground": true,
            "ticks": "",
            "zerolinecolor": "white"
           },
           "zaxis": {
            "backgroundcolor": "#E5ECF6",
            "gridcolor": "white",
            "gridwidth": 2,
            "linecolor": "white",
            "showbackground": true,
            "ticks": "",
            "zerolinecolor": "white"
           }
          },
          "shapedefaults": {
           "line": {
            "color": "#2a3f5f"
           }
          },
          "ternary": {
           "aaxis": {
            "gridcolor": "white",
            "linecolor": "white",
            "ticks": ""
           },
           "baxis": {
            "gridcolor": "white",
            "linecolor": "white",
            "ticks": ""
           },
           "bgcolor": "#E5ECF6",
           "caxis": {
            "gridcolor": "white",
            "linecolor": "white",
            "ticks": ""
           }
          },
          "title": {
           "x": 0.05
          },
          "xaxis": {
           "automargin": true,
           "gridcolor": "white",
           "linecolor": "white",
           "ticks": "",
           "title": {
            "standoff": 15
           },
           "zerolinecolor": "white",
           "zerolinewidth": 2
          },
          "yaxis": {
           "automargin": true,
           "gridcolor": "white",
           "linecolor": "white",
           "ticks": "",
           "title": {
            "standoff": 15
           },
           "zerolinecolor": "white",
           "zerolinewidth": 2
          }
         }
        },
        "title": {
         "text": "Art Style Distribution (Original Imageset)"
        },
        "width": 800
       }
      }
     },
     "metadata": {},
     "output_type": "display_data"
    }
   ],
   "source": [
    "\n",
    "def plot_style_pie(df):\n",
    "    \"\"\"\n",
    "    Creates an interactive pie chart of art style distribution using Plotly\n",
    "    \"\"\"\n",
    "    style_counts = df['Style'].value_counts()\n",
    "    \n",
    "    fig = go.Figure(data=[go.Pie(\n",
    "        labels=style_counts.index,\n",
    "        values=style_counts.values,\n",
    "        hole=.3,\n",
    "        hovertemplate=\"<b>%{label}</b><br>\" +\n",
    "                      \"Count: %{value}<br>\" +\n",
    "                      \"Percentage: %{percent}<extra></extra>\"\n",
    "    )])\n",
    "    \n",
    "    fig.update_layout(\n",
    "        title=\"Art Style Distribution (Original Imageset)\",\n",
    "        width=800,\n",
    "        height=800\n",
    "    )\n",
    "    return fig\n",
    "\n",
    "\n",
    "#Usage:\n",
    "plot_style_pie(imgs_filtered)\n"
   ]
  },
  {
   "cell_type": "markdown",
   "metadata": {},
   "source": [
    "Resize Images"
   ]
  },
  {
   "cell_type": "markdown",
   "metadata": {},
   "source": [
    "Normalize Pixel Values"
   ]
  },
  {
   "cell_type": "markdown",
   "metadata": {},
   "source": [
    "Apply Augmentations"
   ]
  }
 ],
 "metadata": {
  "kernelspec": {
   "display_name": "dev",
   "language": "python",
   "name": "python3"
  },
  "language_info": {
   "codemirror_mode": {
    "name": "ipython",
    "version": 3
   },
   "file_extension": ".py",
   "mimetype": "text/x-python",
   "name": "python",
   "nbconvert_exporter": "python",
   "pygments_lexer": "ipython3",
   "version": "3.10.14"
  }
 },
 "nbformat": 4,
 "nbformat_minor": 2
}
