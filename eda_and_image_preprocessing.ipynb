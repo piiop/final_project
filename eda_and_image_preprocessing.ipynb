{
 "cells": [
  {
   "cell_type": "code",
   "execution_count": null,
   "metadata": {},
   "outputs": [],
   "source": [
    "import pandas as pd\n",
    "import numpy as np\n",
    "from PIL import Image\n",
    "import os\n",
    "import io"
   ]
  },
  {
   "cell_type": "code",
   "execution_count": null,
   "metadata": {},
   "outputs": [],
   "source": [
    "# Load and join the dataframes \n",
    "wiki_art_imgs = pd.read_csv(\"wiki_art_final.csv\")\n",
    "aic_art_imgs = pd.read_csv(\"aic_images.csv\")\n",
    "\n",
    "image_data = "
   ]
  },
  {
   "cell_type": "markdown",
   "metadata": {},
   "source": [
    "Check for duplicates\n",
    "check to make sure files exist\n",
    "check for corrupted or blank images"
   ]
  },
  {
   "cell_type": "code",
   "execution_count": null,
   "metadata": {},
   "outputs": [],
   "source": [
    "Calculate basic statistics (# of classes, images per class, image sizes)"
   ]
  },
  {
   "cell_type": "markdown",
   "metadata": {},
   "source": [
    "Visualizations\n",
    "- Create sample visualizations of images across different styles\n",
    "- [ ] Generate distribution plots of image properties\n",
    "- [ ] Analyze color distributions\n",
    "- [ ] Create dimensionality reduction visualizations (t-SNE, UMAP)"
   ]
  },
  {
   "cell_type": "markdown",
   "metadata": {},
   "source": [
    "Resize Images"
   ]
  },
  {
   "cell_type": "markdown",
   "metadata": {},
   "source": [
    "Normalize Pixel Values"
   ]
  },
  {
   "cell_type": "markdown",
   "metadata": {},
   "source": [
    "Apply Augmentations"
   ]
  }
 ],
 "metadata": {
  "language_info": {
   "name": "python"
  }
 },
 "nbformat": 4,
 "nbformat_minor": 2
}
