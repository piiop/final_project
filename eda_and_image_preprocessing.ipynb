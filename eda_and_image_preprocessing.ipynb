{
 "cells": [
  {
   "cell_type": "code",
   "execution_count": 1,
   "metadata": {},
   "outputs": [],
   "source": [
    "import pandas as pd\n",
    "import numpy as np\n",
    "from PIL import Image\n",
    "import os\n",
    "import io"
   ]
  },
  {
   "cell_type": "code",
   "execution_count": 2,
   "metadata": {},
   "outputs": [],
   "source": [
    "# Load and join the dataframes \n",
    "wiki_art_imgs = pd.read_csv(\"wikiart_df.csv\")\n",
    "aic_art_imgs = pd.read_csv(\"aic_images.csv\")\n"
   ]
  },
  {
   "cell_type": "code",
   "execution_count": 3,
   "metadata": {},
   "outputs": [
    {
     "name": "stdout",
     "output_type": "stream",
     "text": [
      "<class 'pandas.core.frame.DataFrame'>\n",
      "RangeIndex: 6739 entries, 0 to 6738\n",
      "Data columns (total 7 columns):\n",
      " #   Column              Non-Null Count  Dtype \n",
      "---  ------              --------------  ----- \n",
      " 0   artwork_type_title  6739 non-null   object\n",
      " 1   style_title         3550 non-null   object\n",
      " 2   id                  6739 non-null   int64 \n",
      " 3   image_id            6679 non-null   object\n",
      " 4   title               6739 non-null   object\n",
      " 5   search_term         6739 non-null   object\n",
      " 6   file_name           6610 non-null   object\n",
      "dtypes: int64(1), object(6)\n",
      "memory usage: 368.7+ KB\n"
     ]
    }
   ],
   "source": [
    "aic_art_imgs.info()"
   ]
  },
  {
   "cell_type": "markdown",
   "metadata": {},
   "source": [
    "Check for duplicates\n",
    "check to make sure files exist\n",
    "check for corrupted or blank images"
   ]
  },
  {
   "cell_type": "code",
   "execution_count": null,
   "metadata": {},
   "outputs": [],
   "source": [
    "Calculate basic statistics (# of classes, images per class, image sizes)"
   ]
  },
  {
   "cell_type": "markdown",
   "metadata": {},
   "source": [
    "Visualizations\n",
    "- Create sample visualizations of images across different styles\n",
    "- [ ] Generate distribution plots of image properties\n",
    "- [ ] Analyze color distributions\n",
    "- [ ] Create dimensionality reduction visualizations (t-SNE, UMAP)"
   ]
  },
  {
   "cell_type": "markdown",
   "metadata": {},
   "source": [
    "Resize Images"
   ]
  },
  {
   "cell_type": "markdown",
   "metadata": {},
   "source": [
    "Normalize Pixel Values"
   ]
  },
  {
   "cell_type": "markdown",
   "metadata": {},
   "source": [
    "Apply Augmentations"
   ]
  }
 ],
 "metadata": {
  "kernelspec": {
   "display_name": "dev",
   "language": "python",
   "name": "python3"
  },
  "language_info": {
   "codemirror_mode": {
    "name": "ipython",
    "version": 3
   },
   "file_extension": ".py",
   "mimetype": "text/x-python",
   "name": "python",
   "nbconvert_exporter": "python",
   "pygments_lexer": "ipython3",
   "version": "3.10.14"
  }
 },
 "nbformat": 4,
 "nbformat_minor": 2
}
