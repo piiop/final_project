{
 "cells": [
  {
   "cell_type": "code",
   "execution_count": 113,
   "metadata": {},
   "outputs": [],
   "source": [
    "import pandas as pd\n",
    "import numpy as np\n",
    "from PIL import Image\n",
    "import os\n",
    "import io\n",
    "\n",
    "import seaborn as sns\n",
    "import matplotlib.pyplot as plt\n",
    "import plotly.express as px\n",
    "import plotly.graph_objects as go\n",
    "\n",
    "from tqdm import tqdm"
   ]
  },
  {
   "cell_type": "code",
   "execution_count": 89,
   "metadata": {},
   "outputs": [],
   "source": [
    "# Load and join the dataframes \n",
    "wiki_art_imgs = pd.read_csv(\"wikiart_df.csv\")\n",
    "aic_art_imgs = pd.read_csv(\"aic_images.csv\")\n"
   ]
  },
  {
   "cell_type": "code",
   "execution_count": 90,
   "metadata": {},
   "outputs": [
    {
     "name": "stdout",
     "output_type": "stream",
     "text": [
      "<class 'pandas.core.frame.DataFrame'>\n",
      "RangeIndex: 4122 entries, 0 to 4121\n",
      "Data columns (total 7 columns):\n",
      " #   Column              Non-Null Count  Dtype \n",
      "---  ------              --------------  ----- \n",
      " 0   artwork_type_title  4122 non-null   object\n",
      " 1   style_title         4122 non-null   object\n",
      " 2   id                  4122 non-null   int64 \n",
      " 3   image_id            4122 non-null   object\n",
      " 4   title               4122 non-null   object\n",
      " 5   search_term         4122 non-null   object\n",
      " 6   file_name           4122 non-null   object\n",
      "dtypes: int64(1), object(6)\n",
      "memory usage: 225.5+ KB\n"
     ]
    }
   ],
   "source": [
    "aic_art_imgs.info()"
   ]
  },
  {
   "cell_type": "code",
   "execution_count": 91,
   "metadata": {},
   "outputs": [
    {
     "name": "stdout",
     "output_type": "stream",
     "text": [
      "<class 'pandas.core.frame.DataFrame'>\n",
      "RangeIndex: 4314 entries, 0 to 4313\n",
      "Data columns (total 11 columns):\n",
      " #   Column            Non-Null Count  Dtype  \n",
      "---  ------            --------------  -----  \n",
      " 0   id                4314 non-null   object \n",
      " 1   title             4314 non-null   object \n",
      " 2   url               4314 non-null   object \n",
      " 3   artistUrl         4314 non-null   object \n",
      " 4   artistName        4314 non-null   object \n",
      " 5   artistId          4314 non-null   object \n",
      " 6   completitionYear  4313 non-null   float64\n",
      " 7   width             4314 non-null   int64  \n",
      " 8   image             4314 non-null   object \n",
      " 9   height            4314 non-null   int64  \n",
      " 10  Style             4254 non-null   object \n",
      "dtypes: float64(1), int64(2), object(8)\n",
      "memory usage: 370.9+ KB\n"
     ]
    }
   ],
   "source": [
    "wiki_art_imgs.info()"
   ]
  },
  {
   "cell_type": "markdown",
   "metadata": {},
   "source": [
    "Check and clean the wiki art file images and df, the aic was already checked in its\n",
    "data collection notebook."
   ]
  },
  {
   "cell_type": "code",
   "execution_count": 92,
   "metadata": {},
   "outputs": [
    {
     "name": "stdout",
     "output_type": "stream",
     "text": [
      "file_name column added.\n",
      "No duplicate filenames found.\n"
     ]
    }
   ],
   "source": [
    "# Create file_name column by adding .jpg extension to id\n",
    "wiki_art_imgs['file_name'] = wiki_art_imgs['id'] + '.jpg'\n",
    "print(\"file_name column added.\")\n",
    "\n",
    "# First check if any ids are None\n",
    "wiki_art_imgs = wiki_art_imgs.dropna(subset=['id'])\n",
    "\n",
    "# Check which files exist in the directory\n",
    "image_dir = 'downloaded_images_wikiart'\n",
    "exists_mask = wiki_art_imgs['file_name'].apply(lambda x: os.path.exists(os.path.join(image_dir, x)))\n",
    "\n",
    "# Filter to keep only rows where files exist\n",
    "wiki_art_imgs = wiki_art_imgs[exists_mask]\n",
    "\n",
    "# Let's check if there are any duplicates while we're at it\n",
    "duplicate_count = wiki_art_imgs['file_name'].duplicated().sum()\n",
    "\n",
    "if duplicate_count > 0:\n",
    "    print(f\"Found {duplicate_count} duplicate entries\")\n",
    "else:\n",
    "    print(\"No duplicate filenames found.\")"
   ]
  },
  {
   "cell_type": "code",
   "execution_count": 93,
   "metadata": {},
   "outputs": [
    {
     "name": "stdout",
     "output_type": "stream",
     "text": [
      "<class 'pandas.core.frame.DataFrame'>\n",
      "RangeIndex: 4314 entries, 0 to 4313\n",
      "Data columns (total 12 columns):\n",
      " #   Column            Non-Null Count  Dtype  \n",
      "---  ------            --------------  -----  \n",
      " 0   id                4314 non-null   object \n",
      " 1   title             4314 non-null   object \n",
      " 2   url               4314 non-null   object \n",
      " 3   artistUrl         4314 non-null   object \n",
      " 4   artistName        4314 non-null   object \n",
      " 5   artistId          4314 non-null   object \n",
      " 6   completitionYear  4313 non-null   float64\n",
      " 7   width             4314 non-null   int64  \n",
      " 8   image             4314 non-null   object \n",
      " 9   height            4314 non-null   int64  \n",
      " 10  Style             4254 non-null   object \n",
      " 11  file_name         4314 non-null   object \n",
      "dtypes: float64(1), int64(2), object(9)\n",
      "memory usage: 404.6+ KB\n"
     ]
    }
   ],
   "source": [
    "wiki_art_imgs.info()"
   ]
  },
  {
   "cell_type": "code",
   "execution_count": 94,
   "metadata": {},
   "outputs": [],
   "source": [
    "# Drop columns \n",
    "\n",
    "wiki_art_imgs = wiki_art_imgs.drop(columns=['id','title','url','artistUrl','artistName','artistId','completitionYear',\n",
    "                                            'width','image','height'])\n",
    "aic_art_imgs = aic_art_imgs.drop(columns=['artwork_type_title','id','image_id','title','style_title'])"
   ]
  },
  {
   "cell_type": "code",
   "execution_count": 95,
   "metadata": {},
   "outputs": [],
   "source": [
    "imgs = pd.concat([wiki_art_imgs, aic_art_imgs], axis=0)"
   ]
  },
  {
   "cell_type": "code",
   "execution_count": 96,
   "metadata": {},
   "outputs": [
    {
     "name": "stdout",
     "output_type": "stream",
     "text": [
      "<class 'pandas.core.frame.DataFrame'>\n",
      "Index: 8436 entries, 0 to 4121\n",
      "Data columns (total 3 columns):\n",
      " #   Column       Non-Null Count  Dtype \n",
      "---  ------       --------------  ----- \n",
      " 0   Style        4254 non-null   object\n",
      " 1   file_name    8436 non-null   object\n",
      " 2   search_term  4122 non-null   object\n",
      "dtypes: object(3)\n",
      "memory usage: 263.6+ KB\n"
     ]
    }
   ],
   "source": [
    "imgs.info()"
   ]
  },
  {
   "cell_type": "markdown",
   "metadata": {},
   "source": [
    "### Standardize the styles to use for classification"
   ]
  },
  {
   "cell_type": "code",
   "execution_count": 97,
   "metadata": {},
   "outputs": [
    {
     "data": {
      "text/plain": [
       "Style\n",
       "Art Informel              568\n",
       "Cubism                    561\n",
       "Abstract Expressionism    557\n",
       "Conceptual Art            535\n",
       "Expressionism             515\n",
       "Contemporary              494\n",
       "Baroque                   359\n",
       "Contemporary Realism      346\n",
       "Early Renaissance         319\n",
       "Name: count, dtype: int64"
      ]
     },
     "execution_count": 97,
     "metadata": {},
     "output_type": "execute_result"
    }
   ],
   "source": [
    "\n",
    "imgs['Style'].value_counts()"
   ]
  },
  {
   "cell_type": "code",
   "execution_count": 98,
   "metadata": {},
   "outputs": [
    {
     "data": {
      "text/plain": [
       "search_term\n",
       "Modern Art                617\n",
       "ukiyo-e                   536\n",
       "Pop Art                   476\n",
       "Mannerism                 382\n",
       "Post-Impressionism        304\n",
       "Cubism                    260\n",
       "Realism                   195\n",
       "early renaissance         123\n",
       "neo-romantic              122\n",
       "late renaissance          118\n",
       "Baroque                   106\n",
       "abstract figures           98\n",
       "northern renaissance       88\n",
       "Abstract Expressionism     83\n",
       "Art Informel               59\n",
       "Surrealism                 56\n",
       "Conceptual Art             54\n",
       "Modernism                  52\n",
       "Rococo                     45\n",
       "abstract patterns          44\n",
       "high renaissance           43\n",
       "mannerism                  42\n",
       "Symbolism                  35\n",
       "abstract objects           33\n",
       "Fauvism                    22\n",
       "abstract motifs            22\n",
       "contemporary               19\n",
       "abstract shapes            18\n",
       "abstract imagist           15\n",
       "abstract forms             11\n",
       "lyrical abstraction        11\n",
       "Neoclassicism               7\n",
       "Abstract                    6\n",
       "modernist                   4\n",
       "Expressionism               4\n",
       "romantic                    4\n",
       "Op Art                      3\n",
       "eccentric abstraction       2\n",
       "symbolism                   2\n",
       "Minimalism                  1\n",
       "Name: count, dtype: int64"
      ]
     },
     "execution_count": 98,
     "metadata": {},
     "output_type": "execute_result"
    }
   ],
   "source": [
    "imgs['search_term'].value_counts()"
   ]
  },
  {
   "cell_type": "code",
   "execution_count": 99,
   "metadata": {},
   "outputs": [],
   "source": [
    "\n",
    "def clean_art_styles(df):\n",
    "    \"\"\"\n",
    "    Cleans art styles in a dataframe by:\n",
    "    1. Dropping rows where search_term contains 'abstract' (except 'Abstract Expressionism')\n",
    "    2. Capitalizing first letter of each word in search_term\n",
    "    3. Filling empty Style values with search_term values\n",
    "    \n",
    "    Parameters:\n",
    "    df (pandas.DataFrame): DataFrame with 'search_term' and 'Style' columns\n",
    "    \n",
    "    Returns:\n",
    "    pandas.DataFrame: Cleaned DataFrame\n",
    "    \"\"\"\n",
    "    # Create a copy of the DataFrame\n",
    "    df = df.copy()\n",
    "    \n",
    "    # Drop rows containing 'abstract' except 'Abstract Expressionism'\n",
    "    # First, create a mask for rows containing 'abstract'\n",
    "    abstract_mask = df['search_term'].fillna('').str.contains('abstract', case=False)\n",
    "\n",
    "    # Then, create a mask for rows containing 'Abstract Expressionism'\n",
    "    expressionism_mask = df['search_term'].fillna('').str.contains('Abstract Expressionism', case=False)\n",
    "    \n",
    "    # Keep rows that either don't contain 'abstract' or contain 'Abstract Expressionism'\n",
    "    df = df[~abstract_mask | expressionism_mask]\n",
    "    \n",
    "    # Capitalize first letter of each word in search_term\n",
    "    df['search_term'] = df['search_term'].apply(lambda x: ' '.join(word.capitalize() for word in x.split()) if isinstance(x, str) else x)\n",
    "    \n",
    "    # Fill empty Style values with search_term values\n",
    "    df.loc[df['Style'].isna(), 'Style'] = df.loc[df['Style'].isna(), 'search_term']\n",
    "    \n",
    "    return df\n",
    "\n",
    "\n",
    "# Usage\n",
    "\n",
    "imgs_cleaned = clean_art_styles(imgs)"
   ]
  },
  {
   "cell_type": "code",
   "execution_count": 100,
   "metadata": {},
   "outputs": [
    {
     "name": "stdout",
     "output_type": "stream",
     "text": [
      "<class 'pandas.core.frame.DataFrame'>\n",
      "Index: 8176 entries, 0 to 4121\n",
      "Data columns (total 3 columns):\n",
      " #   Column       Non-Null Count  Dtype \n",
      "---  ------       --------------  ----- \n",
      " 0   Style        8116 non-null   object\n",
      " 1   file_name    8176 non-null   object\n",
      " 2   search_term  3862 non-null   object\n",
      "dtypes: object(3)\n",
      "memory usage: 255.5+ KB\n"
     ]
    }
   ],
   "source": [
    "imgs_cleaned.info()"
   ]
  },
  {
   "cell_type": "code",
   "execution_count": 101,
   "metadata": {},
   "outputs": [],
   "source": [
    "# Drop the search_term column\n",
    "imgs_cleaned = imgs_cleaned.drop(columns='search_term')\n",
    "# Drop any remaining entries that don't have a Style term\n",
    "imgs_cleaned = imgs_cleaned.dropna()\n"
   ]
  },
  {
   "cell_type": "code",
   "execution_count": 102,
   "metadata": {},
   "outputs": [
    {
     "data": {
      "text/plain": [
       "Style\n",
       "Cubism                    821\n",
       "Abstract Expressionism    640\n",
       "Art Informel              627\n",
       "Modern Art                617\n",
       "Conceptual Art            589\n",
       "Ukiyo-e                   536\n",
       "Expressionism             519\n",
       "Contemporary              513\n",
       "Pop Art                   476\n",
       "Baroque                   465\n",
       "Early Renaissance         442\n",
       "Mannerism                 424\n",
       "Contemporary Realism      346\n",
       "Post-impressionism        304\n",
       "Realism                   195\n",
       "Neo-romantic              122\n",
       "Late Renaissance          118\n",
       "Northern Renaissance       88\n",
       "Surrealism                 56\n",
       "Modernism                  52\n",
       "Rococo                     45\n",
       "High Renaissance           43\n",
       "Symbolism                  37\n",
       "Fauvism                    22\n",
       "Neoclassicism               7\n",
       "Modernist                   4\n",
       "Romantic                    4\n",
       "Op Art                      3\n",
       "Minimalism                  1\n",
       "Name: count, dtype: int64"
      ]
     },
     "execution_count": 102,
     "metadata": {},
     "output_type": "execute_result"
    }
   ],
   "source": [
    "imgs_cleaned['Style'].value_counts()"
   ]
  },
  {
   "cell_type": "code",
   "execution_count": 103,
   "metadata": {},
   "outputs": [],
   "source": [
    "# Drop Styles with too few entries\n",
    "# Filter the 'Style' column based on value counts\n",
    "style_counts = imgs_cleaned['Style'].value_counts()\n",
    "\n",
    "# Keep only the styles that occur more than 10 times\n",
    "imgs_filtered = imgs_cleaned[imgs_cleaned['Style'].isin(style_counts[style_counts > 10].index)]"
   ]
  },
  {
   "cell_type": "markdown",
   "metadata": {},
   "source": [
    "Calculate basic statistics (# of classes, images per class, image sizes)"
   ]
  },
  {
   "cell_type": "code",
   "execution_count": 104,
   "metadata": {},
   "outputs": [
    {
     "data": {
      "text/plain": [
       "Style\n",
       "Cubism                    821\n",
       "Abstract Expressionism    640\n",
       "Art Informel              627\n",
       "Modern Art                617\n",
       "Conceptual Art            589\n",
       "Ukiyo-e                   536\n",
       "Expressionism             519\n",
       "Contemporary              513\n",
       "Pop Art                   476\n",
       "Baroque                   465\n",
       "Early Renaissance         442\n",
       "Mannerism                 424\n",
       "Contemporary Realism      346\n",
       "Post-impressionism        304\n",
       "Realism                   195\n",
       "Neo-romantic              122\n",
       "Late Renaissance          118\n",
       "Northern Renaissance       88\n",
       "Surrealism                 56\n",
       "Modernism                  52\n",
       "Rococo                     45\n",
       "High Renaissance           43\n",
       "Symbolism                  37\n",
       "Fauvism                    22\n",
       "Name: count, dtype: int64"
      ]
     },
     "execution_count": 104,
     "metadata": {},
     "output_type": "execute_result"
    }
   ],
   "source": [
    "imgs_filtered['Style'].value_counts()"
   ]
  },
  {
   "cell_type": "markdown",
   "metadata": {},
   "source": [
    "Visualization of Art Style distribution before augmentation."
   ]
  },
  {
   "cell_type": "code",
   "execution_count": 111,
   "metadata": {},
   "outputs": [
    {
     "data": {
      "application/vnd.plotly.v1+json": {
       "config": {
        "plotlyServerURL": "https://plot.ly"
       },
       "data": [
        {
         "hole": 0.3,
         "hovertemplate": "<b>%{label}</b><br>Count: %{value}<br>Percentage: %{percent}<extra></extra>",
         "labels": [
          "Cubism",
          "Abstract Expressionism",
          "Art Informel",
          "Modern Art",
          "Conceptual Art",
          "Ukiyo-e",
          "Expressionism",
          "Contemporary",
          "Pop Art",
          "Baroque",
          "Early Renaissance",
          "Mannerism",
          "Contemporary Realism",
          "Post-impressionism",
          "Realism",
          "Neo-romantic",
          "Late Renaissance",
          "Northern Renaissance",
          "Surrealism",
          "Modernism",
          "Rococo",
          "High Renaissance",
          "Symbolism",
          "Fauvism"
         ],
         "type": "pie",
         "values": [
          821,
          640,
          627,
          617,
          589,
          536,
          519,
          513,
          476,
          465,
          442,
          424,
          346,
          304,
          195,
          122,
          118,
          88,
          56,
          52,
          45,
          43,
          37,
          22
         ]
        }
       ],
       "layout": {
        "height": 800,
        "template": {
         "data": {
          "bar": [
           {
            "error_x": {
             "color": "#2a3f5f"
            },
            "error_y": {
             "color": "#2a3f5f"
            },
            "marker": {
             "line": {
              "color": "#E5ECF6",
              "width": 0.5
             },
             "pattern": {
              "fillmode": "overlay",
              "size": 10,
              "solidity": 0.2
             }
            },
            "type": "bar"
           }
          ],
          "barpolar": [
           {
            "marker": {
             "line": {
              "color": "#E5ECF6",
              "width": 0.5
             },
             "pattern": {
              "fillmode": "overlay",
              "size": 10,
              "solidity": 0.2
             }
            },
            "type": "barpolar"
           }
          ],
          "carpet": [
           {
            "aaxis": {
             "endlinecolor": "#2a3f5f",
             "gridcolor": "white",
             "linecolor": "white",
             "minorgridcolor": "white",
             "startlinecolor": "#2a3f5f"
            },
            "baxis": {
             "endlinecolor": "#2a3f5f",
             "gridcolor": "white",
             "linecolor": "white",
             "minorgridcolor": "white",
             "startlinecolor": "#2a3f5f"
            },
            "type": "carpet"
           }
          ],
          "choropleth": [
           {
            "colorbar": {
             "outlinewidth": 0,
             "ticks": ""
            },
            "type": "choropleth"
           }
          ],
          "contour": [
           {
            "colorbar": {
             "outlinewidth": 0,
             "ticks": ""
            },
            "colorscale": [
             [
              0,
              "#0d0887"
             ],
             [
              0.1111111111111111,
              "#46039f"
             ],
             [
              0.2222222222222222,
              "#7201a8"
             ],
             [
              0.3333333333333333,
              "#9c179e"
             ],
             [
              0.4444444444444444,
              "#bd3786"
             ],
             [
              0.5555555555555556,
              "#d8576b"
             ],
             [
              0.6666666666666666,
              "#ed7953"
             ],
             [
              0.7777777777777778,
              "#fb9f3a"
             ],
             [
              0.8888888888888888,
              "#fdca26"
             ],
             [
              1,
              "#f0f921"
             ]
            ],
            "type": "contour"
           }
          ],
          "contourcarpet": [
           {
            "colorbar": {
             "outlinewidth": 0,
             "ticks": ""
            },
            "type": "contourcarpet"
           }
          ],
          "heatmap": [
           {
            "colorbar": {
             "outlinewidth": 0,
             "ticks": ""
            },
            "colorscale": [
             [
              0,
              "#0d0887"
             ],
             [
              0.1111111111111111,
              "#46039f"
             ],
             [
              0.2222222222222222,
              "#7201a8"
             ],
             [
              0.3333333333333333,
              "#9c179e"
             ],
             [
              0.4444444444444444,
              "#bd3786"
             ],
             [
              0.5555555555555556,
              "#d8576b"
             ],
             [
              0.6666666666666666,
              "#ed7953"
             ],
             [
              0.7777777777777778,
              "#fb9f3a"
             ],
             [
              0.8888888888888888,
              "#fdca26"
             ],
             [
              1,
              "#f0f921"
             ]
            ],
            "type": "heatmap"
           }
          ],
          "heatmapgl": [
           {
            "colorbar": {
             "outlinewidth": 0,
             "ticks": ""
            },
            "colorscale": [
             [
              0,
              "#0d0887"
             ],
             [
              0.1111111111111111,
              "#46039f"
             ],
             [
              0.2222222222222222,
              "#7201a8"
             ],
             [
              0.3333333333333333,
              "#9c179e"
             ],
             [
              0.4444444444444444,
              "#bd3786"
             ],
             [
              0.5555555555555556,
              "#d8576b"
             ],
             [
              0.6666666666666666,
              "#ed7953"
             ],
             [
              0.7777777777777778,
              "#fb9f3a"
             ],
             [
              0.8888888888888888,
              "#fdca26"
             ],
             [
              1,
              "#f0f921"
             ]
            ],
            "type": "heatmapgl"
           }
          ],
          "histogram": [
           {
            "marker": {
             "pattern": {
              "fillmode": "overlay",
              "size": 10,
              "solidity": 0.2
             }
            },
            "type": "histogram"
           }
          ],
          "histogram2d": [
           {
            "colorbar": {
             "outlinewidth": 0,
             "ticks": ""
            },
            "colorscale": [
             [
              0,
              "#0d0887"
             ],
             [
              0.1111111111111111,
              "#46039f"
             ],
             [
              0.2222222222222222,
              "#7201a8"
             ],
             [
              0.3333333333333333,
              "#9c179e"
             ],
             [
              0.4444444444444444,
              "#bd3786"
             ],
             [
              0.5555555555555556,
              "#d8576b"
             ],
             [
              0.6666666666666666,
              "#ed7953"
             ],
             [
              0.7777777777777778,
              "#fb9f3a"
             ],
             [
              0.8888888888888888,
              "#fdca26"
             ],
             [
              1,
              "#f0f921"
             ]
            ],
            "type": "histogram2d"
           }
          ],
          "histogram2dcontour": [
           {
            "colorbar": {
             "outlinewidth": 0,
             "ticks": ""
            },
            "colorscale": [
             [
              0,
              "#0d0887"
             ],
             [
              0.1111111111111111,
              "#46039f"
             ],
             [
              0.2222222222222222,
              "#7201a8"
             ],
             [
              0.3333333333333333,
              "#9c179e"
             ],
             [
              0.4444444444444444,
              "#bd3786"
             ],
             [
              0.5555555555555556,
              "#d8576b"
             ],
             [
              0.6666666666666666,
              "#ed7953"
             ],
             [
              0.7777777777777778,
              "#fb9f3a"
             ],
             [
              0.8888888888888888,
              "#fdca26"
             ],
             [
              1,
              "#f0f921"
             ]
            ],
            "type": "histogram2dcontour"
           }
          ],
          "mesh3d": [
           {
            "colorbar": {
             "outlinewidth": 0,
             "ticks": ""
            },
            "type": "mesh3d"
           }
          ],
          "parcoords": [
           {
            "line": {
             "colorbar": {
              "outlinewidth": 0,
              "ticks": ""
             }
            },
            "type": "parcoords"
           }
          ],
          "pie": [
           {
            "automargin": true,
            "type": "pie"
           }
          ],
          "scatter": [
           {
            "fillpattern": {
             "fillmode": "overlay",
             "size": 10,
             "solidity": 0.2
            },
            "type": "scatter"
           }
          ],
          "scatter3d": [
           {
            "line": {
             "colorbar": {
              "outlinewidth": 0,
              "ticks": ""
             }
            },
            "marker": {
             "colorbar": {
              "outlinewidth": 0,
              "ticks": ""
             }
            },
            "type": "scatter3d"
           }
          ],
          "scattercarpet": [
           {
            "marker": {
             "colorbar": {
              "outlinewidth": 0,
              "ticks": ""
             }
            },
            "type": "scattercarpet"
           }
          ],
          "scattergeo": [
           {
            "marker": {
             "colorbar": {
              "outlinewidth": 0,
              "ticks": ""
             }
            },
            "type": "scattergeo"
           }
          ],
          "scattergl": [
           {
            "marker": {
             "colorbar": {
              "outlinewidth": 0,
              "ticks": ""
             }
            },
            "type": "scattergl"
           }
          ],
          "scattermapbox": [
           {
            "marker": {
             "colorbar": {
              "outlinewidth": 0,
              "ticks": ""
             }
            },
            "type": "scattermapbox"
           }
          ],
          "scatterpolar": [
           {
            "marker": {
             "colorbar": {
              "outlinewidth": 0,
              "ticks": ""
             }
            },
            "type": "scatterpolar"
           }
          ],
          "scatterpolargl": [
           {
            "marker": {
             "colorbar": {
              "outlinewidth": 0,
              "ticks": ""
             }
            },
            "type": "scatterpolargl"
           }
          ],
          "scatterternary": [
           {
            "marker": {
             "colorbar": {
              "outlinewidth": 0,
              "ticks": ""
             }
            },
            "type": "scatterternary"
           }
          ],
          "surface": [
           {
            "colorbar": {
             "outlinewidth": 0,
             "ticks": ""
            },
            "colorscale": [
             [
              0,
              "#0d0887"
             ],
             [
              0.1111111111111111,
              "#46039f"
             ],
             [
              0.2222222222222222,
              "#7201a8"
             ],
             [
              0.3333333333333333,
              "#9c179e"
             ],
             [
              0.4444444444444444,
              "#bd3786"
             ],
             [
              0.5555555555555556,
              "#d8576b"
             ],
             [
              0.6666666666666666,
              "#ed7953"
             ],
             [
              0.7777777777777778,
              "#fb9f3a"
             ],
             [
              0.8888888888888888,
              "#fdca26"
             ],
             [
              1,
              "#f0f921"
             ]
            ],
            "type": "surface"
           }
          ],
          "table": [
           {
            "cells": {
             "fill": {
              "color": "#EBF0F8"
             },
             "line": {
              "color": "white"
             }
            },
            "header": {
             "fill": {
              "color": "#C8D4E3"
             },
             "line": {
              "color": "white"
             }
            },
            "type": "table"
           }
          ]
         },
         "layout": {
          "annotationdefaults": {
           "arrowcolor": "#2a3f5f",
           "arrowhead": 0,
           "arrowwidth": 1
          },
          "autotypenumbers": "strict",
          "coloraxis": {
           "colorbar": {
            "outlinewidth": 0,
            "ticks": ""
           }
          },
          "colorscale": {
           "diverging": [
            [
             0,
             "#8e0152"
            ],
            [
             0.1,
             "#c51b7d"
            ],
            [
             0.2,
             "#de77ae"
            ],
            [
             0.3,
             "#f1b6da"
            ],
            [
             0.4,
             "#fde0ef"
            ],
            [
             0.5,
             "#f7f7f7"
            ],
            [
             0.6,
             "#e6f5d0"
            ],
            [
             0.7,
             "#b8e186"
            ],
            [
             0.8,
             "#7fbc41"
            ],
            [
             0.9,
             "#4d9221"
            ],
            [
             1,
             "#276419"
            ]
           ],
           "sequential": [
            [
             0,
             "#0d0887"
            ],
            [
             0.1111111111111111,
             "#46039f"
            ],
            [
             0.2222222222222222,
             "#7201a8"
            ],
            [
             0.3333333333333333,
             "#9c179e"
            ],
            [
             0.4444444444444444,
             "#bd3786"
            ],
            [
             0.5555555555555556,
             "#d8576b"
            ],
            [
             0.6666666666666666,
             "#ed7953"
            ],
            [
             0.7777777777777778,
             "#fb9f3a"
            ],
            [
             0.8888888888888888,
             "#fdca26"
            ],
            [
             1,
             "#f0f921"
            ]
           ],
           "sequentialminus": [
            [
             0,
             "#0d0887"
            ],
            [
             0.1111111111111111,
             "#46039f"
            ],
            [
             0.2222222222222222,
             "#7201a8"
            ],
            [
             0.3333333333333333,
             "#9c179e"
            ],
            [
             0.4444444444444444,
             "#bd3786"
            ],
            [
             0.5555555555555556,
             "#d8576b"
            ],
            [
             0.6666666666666666,
             "#ed7953"
            ],
            [
             0.7777777777777778,
             "#fb9f3a"
            ],
            [
             0.8888888888888888,
             "#fdca26"
            ],
            [
             1,
             "#f0f921"
            ]
           ]
          },
          "colorway": [
           "#636efa",
           "#EF553B",
           "#00cc96",
           "#ab63fa",
           "#FFA15A",
           "#19d3f3",
           "#FF6692",
           "#B6E880",
           "#FF97FF",
           "#FECB52"
          ],
          "font": {
           "color": "#2a3f5f"
          },
          "geo": {
           "bgcolor": "white",
           "lakecolor": "white",
           "landcolor": "#E5ECF6",
           "showlakes": true,
           "showland": true,
           "subunitcolor": "white"
          },
          "hoverlabel": {
           "align": "left"
          },
          "hovermode": "closest",
          "mapbox": {
           "style": "light"
          },
          "paper_bgcolor": "white",
          "plot_bgcolor": "#E5ECF6",
          "polar": {
           "angularaxis": {
            "gridcolor": "white",
            "linecolor": "white",
            "ticks": ""
           },
           "bgcolor": "#E5ECF6",
           "radialaxis": {
            "gridcolor": "white",
            "linecolor": "white",
            "ticks": ""
           }
          },
          "scene": {
           "xaxis": {
            "backgroundcolor": "#E5ECF6",
            "gridcolor": "white",
            "gridwidth": 2,
            "linecolor": "white",
            "showbackground": true,
            "ticks": "",
            "zerolinecolor": "white"
           },
           "yaxis": {
            "backgroundcolor": "#E5ECF6",
            "gridcolor": "white",
            "gridwidth": 2,
            "linecolor": "white",
            "showbackground": true,
            "ticks": "",
            "zerolinecolor": "white"
           },
           "zaxis": {
            "backgroundcolor": "#E5ECF6",
            "gridcolor": "white",
            "gridwidth": 2,
            "linecolor": "white",
            "showbackground": true,
            "ticks": "",
            "zerolinecolor": "white"
           }
          },
          "shapedefaults": {
           "line": {
            "color": "#2a3f5f"
           }
          },
          "ternary": {
           "aaxis": {
            "gridcolor": "white",
            "linecolor": "white",
            "ticks": ""
           },
           "baxis": {
            "gridcolor": "white",
            "linecolor": "white",
            "ticks": ""
           },
           "bgcolor": "#E5ECF6",
           "caxis": {
            "gridcolor": "white",
            "linecolor": "white",
            "ticks": ""
           }
          },
          "title": {
           "x": 0.05
          },
          "xaxis": {
           "automargin": true,
           "gridcolor": "white",
           "linecolor": "white",
           "ticks": "",
           "title": {
            "standoff": 15
           },
           "zerolinecolor": "white",
           "zerolinewidth": 2
          },
          "yaxis": {
           "automargin": true,
           "gridcolor": "white",
           "linecolor": "white",
           "ticks": "",
           "title": {
            "standoff": 15
           },
           "zerolinecolor": "white",
           "zerolinewidth": 2
          }
         }
        },
        "title": {
         "text": "Art Style Distribution (Original Imageset)"
        },
        "width": 800
       }
      }
     },
     "metadata": {},
     "output_type": "display_data"
    }
   ],
   "source": [
    "\n",
    "def plot_style_pie(df):\n",
    "    \"\"\"\n",
    "    Creates an interactive pie chart of art style distribution using Plotly\n",
    "    \"\"\"\n",
    "    style_counts = df['Style'].value_counts()\n",
    "    \n",
    "    fig = go.Figure(data=[go.Pie(\n",
    "        labels=style_counts.index,\n",
    "        values=style_counts.values,\n",
    "        hole=.3,\n",
    "        hovertemplate=\"<b>%{label}</b><br>\" +\n",
    "                      \"Count: %{value}<br>\" +\n",
    "                      \"Percentage: %{percent}<extra></extra>\"\n",
    "    )])\n",
    "    \n",
    "    fig.update_layout(\n",
    "        title=\"Art Style Distribution (Original Imageset)\",\n",
    "        width=800,\n",
    "        height=800\n",
    "    )\n",
    "    return fig\n",
    "\n",
    "\n",
    "#Usage:\n",
    "plot_style_pie(imgs_filtered)\n"
   ]
  },
  {
   "cell_type": "markdown",
   "metadata": {},
   "source": [
    "### Image Preprocessing\n",
    "- Resizing to standard sizes\n",
    "- Augmentation\n",
    "- Normalizing values"
   ]
  },
  {
   "cell_type": "code",
   "execution_count": 120,
   "metadata": {},
   "outputs": [],
   "source": [
    "def check_image_sizes_and_update_paths(df):\n",
    "    \"\"\"\n",
    "    Checks image sizes and updates file paths so we don't have to search\n",
    "    two directories.\n",
    "    \"\"\"\n",
    "    df = df.copy()\n",
    "    image_sizes = set()\n",
    "    df['file_path'] = None\n",
    "    \n",
    "    for i, row in tqdm(df.iterrows()):\n",
    "        filename = row['file_name']\n",
    "        for directory in ['downloaded_images_wikiart', 'downloaded_images_aic']:\n",
    "            path = os.path.join(directory, filename)\n",
    "            if os.path.exists(path):\n",
    "                with Image.open(path) as img:\n",
    "                    image_sizes.add(img.size)\n",
    "                df.loc[i, 'file_path'] = path\n",
    "                break\n",
    "    \n",
    "    return image_sizes, df"
   ]
  },
  {
   "cell_type": "code",
   "execution_count": 121,
   "metadata": {},
   "outputs": [
    {
     "name": "stderr",
     "output_type": "stream",
     "text": [
      "0it [00:00, ?it/s]"
     ]
    },
    {
     "name": "stderr",
     "output_type": "stream",
     "text": [
      "8097it [00:12, 668.79it/s] \n"
     ]
    },
    {
     "data": {
      "text/plain": [
       "{(339, 481),\n",
       " (1649, 2250),\n",
       " (843, 1183),\n",
       " (843, 954),\n",
       " (432, 300),\n",
       " (843, 545),\n",
       " (480, 493),\n",
       " (3000, 2113),\n",
       " (2162, 3000),\n",
       " (843, 1448),\n",
       " (2723, 2250),\n",
       " (446, 500),\n",
       " (431, 600),\n",
       " (1728, 2250),\n",
       " (843, 1039),\n",
       " (435, 570),\n",
       " (843, 810),\n",
       " (750, 582),\n",
       " (569, 570),\n",
       " (3000, 2149),\n",
       " (636, 480),\n",
       " (666, 768),\n",
       " (500, 556),\n",
       " (391, 420),\n",
       " (843, 1075),\n",
       " (1717, 3000),\n",
       " (512, 301),\n",
       " (464, 490),\n",
       " (382, 600),\n",
       " (3000, 2414),\n",
       " (530, 435),\n",
       " (450, 326),\n",
       " (843, 666),\n",
       " (750, 438),\n",
       " (3000, 1102),\n",
       " (1371, 3000),\n",
       " (1505, 3000),\n",
       " (843, 1340),\n",
       " (453, 480),\n",
       " (614, 434),\n",
       " (640, 306),\n",
       " (3000, 2499),\n",
       " (2326, 3000),\n",
       " (461, 600),\n",
       " (750, 474),\n",
       " (199, 600),\n",
       " (2478, 2868),\n",
       " (1584, 3000),\n",
       " (2541, 2250),\n",
       " (600, 535),\n",
       " (547, 380),\n",
       " (586, 600),\n",
       " (843, 1196),\n",
       " (398, 400),\n",
       " (843, 2099),\n",
       " (288, 385),\n",
       " (475, 391),\n",
       " (750, 559),\n",
       " (674, 600),\n",
       " (412, 600),\n",
       " (1275, 2250),\n",
       " (843, 378),\n",
       " (554, 275),\n",
       " (580, 413),\n",
       " (639, 499),\n",
       " (465, 575),\n",
       " (2530, 3000),\n",
       " (416, 570),\n",
       " (843, 1052),\n",
       " (418, 500),\n",
       " (750, 595),\n",
       " (496, 599),\n",
       " (483, 480),\n",
       " (3000, 2391),\n",
       " (843, 643),\n",
       " (1922, 3000),\n",
       " (500, 569),\n",
       " (3000, 1982),\n",
       " (843, 1317),\n",
       " (525, 333),\n",
       " (843, 908),\n",
       " (570, 255),\n",
       " (750, 451),\n",
       " (616, 600),\n",
       " (562, 400),\n",
       " (843, 499),\n",
       " (3000, 1838),\n",
       " (600, 512),\n",
       " (2696, 2250),\n",
       " (843, 1173),\n",
       " (410, 531),\n",
       " (431, 325),\n",
       " (442, 600),\n",
       " (750, 307),\n",
       " (1169, 3000),\n",
       " (843, 1438),\n",
       " (567, 600),\n",
       " (2214, 3000),\n",
       " (2348, 3000),\n",
       " (350, 373),\n",
       " (843, 1029),\n",
       " (2909, 2250),\n",
       " (843, 800),\n",
       " (750, 572),\n",
       " (624, 496),\n",
       " (589, 475),\n",
       " (508, 550),\n",
       " (480, 339),\n",
       " (3000, 1959),\n",
       " (393, 420),\n",
       " (646, 600),\n",
       " (397, 570),\n",
       " (600, 404),\n",
       " (843, 1294),\n",
       " (464, 480),\n",
       " (330, 400),\n",
       " (570, 461),\n",
       " (598, 443),\n",
       " (843, 885),\n",
       " (843, 656),\n",
       " (750, 428),\n",
       " (2165, 3000),\n",
       " (843, 1559),\n",
       " (354, 348),\n",
       " (400, 315),\n",
       " (3000, 2898),\n",
       " (500, 402),\n",
       " (843, 1150),\n",
       " (640, 296),\n",
       " (843, 921),\n",
       " (597, 600),\n",
       " (843, 512),\n",
       " (2116, 3000),\n",
       " (2939, 2250),\n",
       " (3000, 1851),\n",
       " (331, 480),\n",
       " (1548, 2250),\n",
       " (431, 567),\n",
       " (843, 1186),\n",
       " (1682, 2250),\n",
       " (512, 412),\n",
       " (424, 528),\n",
       " (2380, 3000),\n",
       " (350, 350),\n",
       " (463, 3000),\n",
       " (340, 565),\n",
       " (750, 549),\n",
       " (443, 398),\n",
       " (3000, 2345),\n",
       " (414, 600),\n",
       " (730, 491),\n",
       " (843, 777),\n",
       " (300, 349),\n",
       " (2195, 3000),\n",
       " (345, 500),\n",
       " (480, 316),\n",
       " (2329, 3000),\n",
       " (1933, 3000),\n",
       " (843, 1271),\n",
       " (372, 374),\n",
       " (843, 368),\n",
       " (598, 600),\n",
       " (202, 600),\n",
       " (843, 1042),\n",
       " (1499, 2250),\n",
       " (3000, 2381),\n",
       " (268, 545),\n",
       " (676, 3000),\n",
       " (3000, 1298),\n",
       " (843, 633),\n",
       " (2520, 2796),\n",
       " (2282, 2250),\n",
       " (3000, 1972),\n",
       " (843, 1307),\n",
       " (358, 475),\n",
       " (558, 500),\n",
       " (673, 450),\n",
       " (415, 600),\n",
       " (335, 491),\n",
       " (750, 441),\n",
       " (3000, 2237),\n",
       " (1712, 2250),\n",
       " (1404, 3000),\n",
       " (500, 415),\n",
       " (420, 306),\n",
       " (843, 1163),\n",
       " (284, 382),\n",
       " (3000, 2502),\n",
       " (843, 2066),\n",
       " (2359, 3000),\n",
       " (1963, 3000),\n",
       " (494, 600),\n",
       " (843, 754),\n",
       " (2097, 3000),\n",
       " (628, 600),\n",
       " (843, 1657),\n",
       " (3000, 2093),\n",
       " (366, 600),\n",
       " (843, 1428),\n",
       " (1617, 3000),\n",
       " (370, 570),\n",
       " (843, 1019),\n",
       " (2050, 2250),\n",
       " (750, 562),\n",
       " (3000, 2358),\n",
       " (1055, 2250),\n",
       " (843, 610),\n",
       " (3000, 1949),\n",
       " (445, 600),\n",
       " (843, 1284),\n",
       " (720, 539),\n",
       " (512, 510),\n",
       " (3000, 2623),\n",
       " (449, 570),\n",
       " (344, 288),\n",
       " (1964, 3000),\n",
       " (570, 451),\n",
       " (843, 646),\n",
       " (750, 418),\n",
       " (3000, 2214),\n",
       " (386, 550),\n",
       " (2912, 2250),\n",
       " (668, 385),\n",
       " (2389, 3000),\n",
       " (500, 392),\n",
       " (600, 479),\n",
       " (262, 600),\n",
       " (843, 1140),\n",
       " (396, 600),\n",
       " (3000, 2479),\n",
       " (570, 307),\n",
       " (1385, 3000),\n",
       " (400, 570),\n",
       " (1519, 3000),\n",
       " (1123, 3000),\n",
       " (640, 551),\n",
       " (843, 996),\n",
       " (475, 600),\n",
       " (1734, 2250),\n",
       " (750, 539),\n",
       " (3000, 2106),\n",
       " (1598, 3000),\n",
       " (534, 426),\n",
       " (600, 600),\n",
       " (351, 570),\n",
       " (843, 1261),\n",
       " (843, 852),\n",
       " (1551, 2250),\n",
       " (843, 623),\n",
       " (750, 395),\n",
       " (730, 566),\n",
       " (426, 600),\n",
       " (843, 1526),\n",
       " (3000, 2191),\n",
       " (3000, 1962),\n",
       " (593, 597),\n",
       " (479, 346),\n",
       " (843, 1117),\n",
       " (625, 400),\n",
       " (2198, 3000),\n",
       " (2893, 2250),\n",
       " (941, 3000),\n",
       " (581, 479),\n",
       " (640, 528),\n",
       " (843, 1153),\n",
       " (3000, 2492),\n",
       " (843, 744),\n",
       " (750, 516),\n",
       " (356, 360),\n",
       " (368, 600),\n",
       " (750, 287),\n",
       " (3000, 2083),\n",
       " (1977, 2250),\n",
       " (843, 1238),\n",
       " (1715, 2250),\n",
       " (2242, 2670),\n",
       " (843, 1009),\n",
       " (1453, 2250),\n",
       " (750, 552),\n",
       " (3000, 2348),\n",
       " (517, 350),\n",
       " (843, 600),\n",
       " (581, 600),\n",
       " (378, 500),\n",
       " (1966, 3000),\n",
       " (575, 3000),\n",
       " (570, 441),\n",
       " (750, 408),\n",
       " (3000, 2204),\n",
       " (722, 575),\n",
       " (373, 570),\n",
       " (660, 600),\n",
       " (500, 382),\n",
       " (366, 531),\n",
       " (606, 400),\n",
       " (843, 1130),\n",
       " (448, 600),\n",
       " (843, 721),\n",
       " (441, 561),\n",
       " (750, 264),\n",
       " (1571, 3000),\n",
       " (485, 375),\n",
       " (843, 986),\n",
       " (700, 412),\n",
       " (750, 529),\n",
       " (1996, 3000),\n",
       " (2130, 3000),\n",
       " (661, 600),\n",
       " (843, 577),\n",
       " (399, 600),\n",
       " (500, 503),\n",
       " (2779, 3000),\n",
       " (843, 1251),\n",
       " (349, 599),\n",
       " (843, 842),\n",
       " (2212, 2889),\n",
       " (843, 613),\n",
       " (1088, 2250),\n",
       " (843, 1516),\n",
       " (3000, 1952),\n",
       " (448, 312),\n",
       " (480, 381),\n",
       " (478, 600),\n",
       " (400, 272),\n",
       " (556, 3000),\n",
       " (843, 1107),\n",
       " (300, 450),\n",
       " (843, 698),\n",
       " (400, 537),\n",
       " (640, 518),\n",
       " (691, 600),\n",
       " (429, 600),\n",
       " (769, 3000),\n",
       " (843, 734),\n",
       " (750, 506),\n",
       " (433, 570),\n",
       " (1552, 3000),\n",
       " (843, 1228),\n",
       " (600, 338),\n",
       " (358, 396),\n",
       " (843, 999),\n",
       " (246, 600),\n",
       " (843, 590),\n",
       " (576, 475),\n",
       " (380, 600),\n",
       " (3000, 2158),\n",
       " (2027, 3000),\n",
       " (2588, 2250),\n",
       " (1369, 3000),\n",
       " (560, 387),\n",
       " (843, 1084),\n",
       " (843, 855),\n",
       " (3000, 2423),\n",
       " (1069, 2250),\n",
       " (388, 540),\n",
       " (3000, 2194),\n",
       " (761, 3000),\n",
       " (1718, 2250),\n",
       " (459, 600),\n",
       " (400, 285),\n",
       " (500, 372),\n",
       " (843, 1120),\n",
       " (1320, 3000),\n",
       " (570, 287),\n",
       " (750, 483),\n",
       " (843, 711),\n",
       " (2365, 3000),\n",
       " (2231, 3000),\n",
       " (239, 416),\n",
       " (1797, 2250),\n",
       " (843, 1385),\n",
       " (474, 319),\n",
       " (399, 554),\n",
       " (3000, 2544),\n",
       " (2004, 2994),\n",
       " (750, 519),\n",
       " (1399, 3000),\n",
       " (663, 600),\n",
       " (543, 455),\n",
       " (743, 480),\n",
       " (414, 570),\n",
       " (843, 567),\n",
       " (3000, 2315),\n",
       " (3000, 1906),\n",
       " (1748, 2250),\n",
       " (570, 408),\n",
       " (416, 350),\n",
       " (843, 832),\n",
       " (335, 425),\n",
       " (750, 375),\n",
       " (517, 402),\n",
       " (2727, 1933),\n",
       " (3000, 2171),\n",
       " (843, 1506),\n",
       " (548, 389),\n",
       " (2261, 3000),\n",
       " (843, 1097),\n",
       " (1474, 1903),\n",
       " (348, 480),\n",
       " (450, 348),\n",
       " (1699, 2250),\n",
       " (394, 596),\n",
       " (843, 688),\n",
       " (406, 570),\n",
       " (3000, 1798),\n",
       " (693, 600),\n",
       " (1942, 2502),\n",
       " (843, 953),\n",
       " (450, 384),\n",
       " (490, 420),\n",
       " (2212, 3000),\n",
       " (750, 496),\n",
       " (496, 500),\n",
       " (481, 600),\n",
       " (3000, 2292),\n",
       " (293, 400),\n",
       " (562, 445),\n",
       " (843, 544),\n",
       " (1778, 2250),\n",
       " (1516, 2250),\n",
       " (843, 315),\n",
       " (559, 3000),\n",
       " (3000, 2557),\n",
       " (570, 385),\n",
       " (2029, 3000),\n",
       " (750, 352),\n",
       " (3000, 2148),\n",
       " (441, 420),\n",
       " (694, 600),\n",
       " (298, 600),\n",
       " (843, 1483),\n",
       " (378, 480),\n",
       " (432, 600),\n",
       " (554, 297),\n",
       " (1729, 2250),\n",
       " (436, 570),\n",
       " (843, 845),\n",
       " (3000, 2413),\n",
       " (533, 768),\n",
       " (2242, 3000),\n",
       " (3000, 2004),\n",
       " (580, 471),\n",
       " (581, 436),\n",
       " (843, 1339),\n",
       " (511, 600),\n",
       " (3000, 1775),\n",
       " (687, 417),\n",
       " (645, 600),\n",
       " (392, 420),\n",
       " (464, 525),\n",
       " (1980, 3000),\n",
       " (843, 930),\n",
       " (843, 701),\n",
       " (750, 473),\n",
       " (1372, 3000),\n",
       " (387, 570),\n",
       " (843, 1195),\n",
       " (451, 591),\n",
       " (724, 600),\n",
       " (640, 341),\n",
       " (570, 542),\n",
       " (843, 966),\n",
       " (462, 600),\n",
       " (2193, 3000),\n",
       " (802, 3000),\n",
       " (320, 516),\n",
       " (750, 329),\n",
       " (843, 1460),\n",
       " (843, 1231),\n",
       " (590, 3000),\n",
       " (399, 400),\n",
       " (750, 594),\n",
       " (422, 420),\n",
       " (650, 427),\n",
       " (675, 600),\n",
       " (3000, 2161),\n",
       " (413, 600),\n",
       " (500, 568),\n",
       " (843, 2399),\n",
       " (580, 448),\n",
       " (843, 1316),\n",
       " (600, 426),\n",
       " (640, 462),\n",
       " (417, 570),\n",
       " (843, 1087),\n",
       " (1402, 3000),\n",
       " (612, 400),\n",
       " (968, 2250),\n",
       " (450, 338),\n",
       " (2185, 3000),\n",
       " (843, 678),\n",
       " (1751, 2250),\n",
       " (492, 600),\n",
       " (843, 1352),\n",
       " (3000, 2691),\n",
       " (843, 943),\n",
       " (750, 486),\n",
       " (617, 600),\n",
       " (355, 451),\n",
       " (1353, 3000),\n",
       " (3000, 2282),\n",
       " (843, 534),\n",
       " (2191, 2787),\n",
       " (2398, 3000),\n",
       " (555, 396),\n",
       " (3000, 1873),\n",
       " (501, 425),\n",
       " (640, 583),\n",
       " (1830, 2250),\n",
       " (843, 1208),\n",
       " (843, 1437),\n",
       " (1568, 2250),\n",
       " (443, 600),\n",
       " (447, 570),\n",
       " (3000, 2138),\n",
       " (300, 371),\n",
       " (548, 356),\n",
       " (2215, 3000),\n",
       " (2043, 2250),\n",
       " (843, 1064),\n",
       " (449, 350),\n",
       " (563, 372),\n",
       " (843, 655),\n",
       " (624, 351),\n",
       " (2041, 3000),\n",
       " (500, 581),\n",
       " (3000, 1994),\n",
       " (647, 600),\n",
       " (3000, 2668),\n",
       " (2428, 3000),\n",
       " (310, 420),\n",
       " (612, 413),\n",
       " (450, 580),\n",
       " (390, 300),\n",
       " (450, 351),\n",
       " (843, 691),\n",
       " (750, 463),\n",
       " (622, 543),\n",
       " (381, 480),\n",
       " (515, 480),\n",
       " (1732, 2250),\n",
       " (1994, 2250),\n",
       " (843, 1185),\n",
       " (600, 295),\n",
       " (2245, 3000),\n",
       " (843, 547),\n",
       " (2940, 2250),\n",
       " (594, 480),\n",
       " (3000, 2115),\n",
       " (3000, 1886),\n",
       " (332, 480),\n",
       " (1549, 2250),\n",
       " (843, 1041),\n",
       " (3000, 1477),\n",
       " (750, 584),\n",
       " (677, 600),\n",
       " (3000, 2151),\n",
       " (2196, 3000),\n",
       " (843, 1306),\n",
       " (465, 600),\n",
       " (1762, 2250),\n",
       " (457, 596),\n",
       " (469, 570),\n",
       " (843, 897),\n",
       " (375, 563),\n",
       " (335, 490),\n",
       " (750, 440),\n",
       " (843, 668),\n",
       " (843, 1571),\n",
       " (3000, 2007),\n",
       " (500, 414),\n",
       " (405, 442),\n",
       " (544, 600),\n",
       " (843, 1162),\n",
       " (2147, 3000),\n",
       " (678, 600),\n",
       " (1975, 2250),\n",
       " (362, 480),\n",
       " (1579, 2250),\n",
       " (3000, 2272),\n",
       " (756, 3000),\n",
       " (1667, 3000),\n",
       " (843, 524),\n",
       " (843, 1198),\n",
       " (2226, 3000),\n",
       " (376, 500),\n",
       " (450, 449),\n",
       " (495, 600),\n",
       " (750, 561),\n",
       " (1792, 2250),\n",
       " (750, 332),\n",
       " (843, 1692),\n",
       " (2014, 3000),\n",
       " (325, 454),\n",
       " (843, 1283),\n",
       " (446, 335),\n",
       " (843, 1054),\n",
       " (1184, 2250),\n",
       " (750, 597),\n",
       " (843, 645),\n",
       " (708, 600),\n",
       " (312, 600),\n",
       " (3000, 1984),\n",
       " (446, 600),\n",
       " (843, 1319),\n",
       " (2093, 3000),\n",
       " (640, 465),\n",
       " (438, 596),\n",
       " (3000, 2887),\n",
       " (479, 368),\n",
       " (450, 570),\n",
       " (1569, 3000),\n",
       " (550, 428),\n",
       " (750, 453),\n",
       " (574, 3000),\n",
       " (454, 540),\n",
       " (2652, 3000),\n",
       " (843, 501),\n",
       " (1784, 2250),\n",
       " (525, 600),\n",
       " (659, 600),\n",
       " (465, 469),\n",
       " (843, 1175),\n",
       " (3000, 1611),\n",
       " (2306, 3000),\n",
       " (2044, 3000),\n",
       " (1648, 3000),\n",
       " (355, 454),\n",
       " (570, 342),\n",
       " (1386, 3000),\n",
       " (375, 432),\n",
       " (401, 570),\n",
       " (750, 309),\n",
       " (3000, 2105),\n",
       " (843, 1440),\n",
       " (1086, 2250),\n",
       " (738, 600),\n",
       " (843, 1031),\n",
       " (1735, 2250),\n",
       " (476, 600),\n",
       " (750, 574),\n",
       " (3000, 2370),\n",
       " (450, 282),\n",
       " (1861, 3000),\n",
       " (843, 622),\n",
       " (1995, 3000),\n",
       " (1599, 3000),\n",
       " (1540, 2685),\n",
       " (540, 355),\n",
       " (843, 1296),\n",
       " (2855, 2546),\n",
       " (398, 500),\n",
       " (843, 2199),\n",
       " (350, 460),\n",
       " (323, 506),\n",
       " (570, 463),\n",
       " (685, 450),\n",
       " (450, 318),\n",
       " (689, 600),\n",
       " (750, 430),\n",
       " (843, 658),\n",
       " (3000, 2226),\n",
       " (2074, 3000),\n",
       " (400, 317),\n",
       " (1416, 3000),\n",
       " (843, 1152),\n",
       " (611, 500),\n",
       " (3000, 2491),\n",
       " (843, 1826),\n",
       " (2199, 3000),\n",
       " (843, 743),\n",
       " (1631, 2250),\n",
       " (3000, 2082),\n",
       " (843, 1417),\n",
       " (3000, 1853),\n",
       " (588, 144),\n",
       " (843, 1008),\n",
       " (631, 600),\n",
       " (750, 551),\n",
       " (3000, 2347),\n",
       " (447, 550),\n",
       " (3000, 2118),\n",
       " (1417, 3000),\n",
       " (285, 600),\n",
       " (500, 296),\n",
       " (843, 1273),\n",
       " (843, 1044),\n",
       " (1320, 2250),\n",
       " (437, 505),\n",
       " (369, 450),\n",
       " (843, 635),\n",
       " (750, 407),\n",
       " (974, 2250),\n",
       " (3000, 2203),\n",
       " (3000, 1974),\n",
       " (1967, 3000),\n",
       " (498, 600),\n",
       " (2191, 2250),\n",
       " (310, 400),\n",
       " (843, 1129),\n",
       " (316, 480),\n",
       " (404, 2250),\n",
       " (3000, 2239),\n",
       " (2055, 3000),\n",
       " (400, 559),\n",
       " (843, 491),\n",
       " (3000, 927),\n",
       " (594, 424),\n",
       " (600, 504),\n",
       " (843, 1165),\n",
       " (577, 600),\n",
       " (330, 500),\n",
       " (236, 307),\n",
       " (711, 600),\n",
       " (750, 528),\n",
       " (750, 299),\n",
       " (3000, 2095),\n",
       " (1348, 2469),\n",
       " (3000, 2998),\n",
       " (843, 347),\n",
       " (600, 360),\n",
       " (843, 1021),\n",
       " (3000, 1457),\n",
       " (605, 475),\n",
       " (2259, 3000),\n",
       " (750, 564),\n",
       " (2393, 3000),\n",
       " (608, 480),\n",
       " (662, 600),\n",
       " (520, 596),\n",
       " (843, 612),\n",
       " (532, 570),\n",
       " (843, 1286),\n",
       " (2047, 3000),\n",
       " (512, 512),\n",
       " (1389, 3000),\n",
       " (350, 450),\n",
       " (1613, 2250),\n",
       " (570, 453),\n",
       " (843, 877),\n",
       " (955, 2250),\n",
       " (335, 470),\n",
       " (750, 420),\n",
       " (3000, 2216),\n",
       " (408, 540),\n",
       " (333, 397),\n",
       " (1477, 3000),\n",
       " (741, 600),\n",
       " (479, 600),\n",
       " (500, 394),\n",
       " (600, 481),\n",
       " (843, 1142),\n",
       " (2260, 3000),\n",
       " (410, 500),\n",
       " (1864, 3000),\n",
       " (1602, 3000),\n",
       " (745, 490),\n",
       " (355, 421),\n",
       " (1168, 2250),\n",
       " (3000, 2072),\n",
       " (843, 1407),\n",
       " (3000, 2975),\n",
       " (305, 420),\n",
       " (558, 600),\n",
       " (692, 600),\n",
       " (296, 600),\n",
       " (1555, 2250),\n",
       " (843, 998),\n",
       " (750, 541),\n",
       " (356, 385),\n",
       " (843, 1901),\n",
       " (843, 1672),\n",
       " (2928, 2089),\n",
       " (3000, 2337),\n",
       " (434, 570),\n",
       " (300, 341),\n",
       " (843, 589),\n",
       " (500, 515),\n",
       " (509, 600),\n",
       " (570, 430),\n",
       " (624, 550),\n",
       " (843, 854),\n",
       " (247, 600),\n",
       " (750, 397),\n",
       " (843, 625),\n",
       " (2290, 3000),\n",
       " (389, 275),\n",
       " (3000, 2193),\n",
       " (400, 284),\n",
       " (1370, 3000),\n",
       " (660, 360),\n",
       " (610, 768),\n",
       " (843, 1119),\n",
       " (706, 476),\n",
       " (512, 345),\n",
       " (843, 890),\n",
       " (389, 540),\n",
       " (843, 1793),\n",
       " (722, 600),\n",
       " (326, 600),\n",
       " (1585, 2250),\n",
       " (460, 600),\n",
       " (3000, 2049),\n",
       " (2107, 3000),\n",
       " (464, 570),\n",
       " (1979, 3000),\n",
       " (570, 551),\n",
       " (2494, 3000),\n",
       " (410, 333),\n",
       " (843, 746),\n",
       " (750, 518),\n",
       " (382, 500),\n",
       " (2232, 3000),\n",
       " (462, 380),\n",
       " (3000, 2314),\n",
       " (3000, 2085),\n",
       " (2980, 2256),\n",
       " (1798, 2250),\n",
       " (539, 600),\n",
       " (843, 1240),\n",
       " (843, 1011),\n",
       " (2058, 3000),\n",
       " (3000, 2350),\n",
       " (1796, 3000),\n",
       " (610, 480),\n",
       " (314, 481),\n",
       " (610, 251),\n",
       " (843, 602),\n",
       " (2445, 3000),\n",
       " (398, 480),\n",
       " (1615, 2250),\n",
       " (264, 400),\n",
       " (570, 443),\n",
       " (456, 570),\n",
       " (730, 581),\n",
       " (3000, 2206),\n",
       " (843, 458),\n",
       " (618, 3000),\n",
       " (500, 384),\n",
       " (412, 500),\n",
       " (600, 471),\n",
       " (2262, 3000),\n",
       " (700, 558),\n",
       " (843, 1132),\n",
       " (843, 1361),\n",
       " (611, 480),\n",
       " (1267, 3000),\n",
       " (750, 495),\n",
       " (3000, 2062),\n",
       " (300, 295),\n",
       " (843, 1397),\n",
       " (843, 988),\n",
       " (2213, 3000),\n",
       " (744, 600),\n",
       " (348, 600),\n",
       " (750, 531),\n",
       " (482, 600),\n",
       " (375, 474),\n",
       " (843, 579),\n",
       " (495, 390),\n",
       " (560, 3000),\n",
       " (784, 2250),\n",
       " (843, 1482),\n",
       " (843, 350),\n",
       " (486, 570),\n",
       " (843, 1253),\n",
       " (640, 399),\n",
       " (2292, 3000),\n",
       " (843, 844),\n",
       " (308, 420),\n",
       " (750, 387),\n",
       " (561, 600),\n",
       " (520, 599),\n",
       " (723, 519),\n",
       " (695, 600),\n",
       " (299, 600),\n",
       " (734, 528),\n",
       " (500, 361),\n",
       " (460, 325),\n",
       " (519, 374),\n",
       " (843, 1109),\n",
       " (437, 570),\n",
       " (375, 595),\n",
       " (300, 452),\n",
       " (843, 700),\n",
       " (843, 471),\n",
       " (750, 243),\n",
       " (2243, 3000),\n",
       " (393, 500),\n",
       " (378, 600),\n",
       " (843, 1374),\n",
       " (640, 520),\n",
       " (512, 600),\n",
       " (843, 965),\n",
       " (2031, 3000),\n",
       " (843, 736),\n",
       " (750, 508),\n",
       " (1597, 2250),\n",
       " (3000, 1895),\n",
       " (600, 569),\n",
       " (338, 420),\n",
       " (2456, 3000),\n",
       " (706, 587),\n",
       " (472, 420),\n",
       " (725, 600),\n",
       " (329, 600),\n",
       " (463, 600),\n",
       " (570, 397),\n",
       " (2110, 3000),\n",
       " (1714, 3000),\n",
       " (843, 592),\n",
       " (750, 364),\n",
       " (2244, 3000),\n",
       " (2805, 2250),\n",
       " (467, 570),\n",
       " (844, 557),\n",
       " (480, 360),\n",
       " (500, 338),\n",
       " (600, 425),\n",
       " (843, 1086),\n",
       " (3000, 1522),\n",
       " (570, 433),\n",
       " (3000, 2425),\n",
       " (1801, 2250),\n",
       " (542, 600),\n",
       " (3000, 2196),\n",
       " (622, 480),\n",
       " (676, 600),\n",
       " (1278, 3000),\n",
       " (339, 420),\n",
       " (211, 500),\n",
       " (500, 374),\n",
       " (1665, 3000),\n",
       " (600, 461),\n",
       " (1403, 3000),\n",
       " (1627, 2250),\n",
       " (1952, 2250),\n",
       " (598, 500),\n",
       " (843, 713),\n",
       " (750, 485),\n",
       " (3000, 2281),\n",
       " (3000, 2052),\n",
       " (359, 600),\n",
       " (327, 302),\n",
       " (493, 600),\n",
       " (424, 500),\n",
       " (843, 1207),\n",
       " (843, 978),\n",
       " (3000, 2546),\n",
       " (2012, 3000),\n",
       " (564, 480),\n",
       " (374, 499),\n",
       " (843, 569),\n",
       " (750, 341),\n",
       " (500, 495),\n",
       " (600, 582),\n",
       " (843, 1243),\n",
       " (706, 600),\n",
       " (640, 389),\n",
       " (3000, 2582),\n",
       " (369, 420),\n",
       " (2074, 2502),\n",
       " (570, 410),\n",
       " (843, 834),\n",
       " (2091, 3000),\n",
       " (360, 600),\n",
       " (750, 377),\n",
       " (730, 548),\n",
       " (843, 1737),\n",
       " (3000, 2173),\n",
       " (572, 3000),\n",
       " (3000, 1764),\n",
       " (640, 474),\n",
       " (560, 402),\n",
       " (843, 1099),\n",
       " (2996, 2288),\n",
       " (2304, 3000),\n",
       " (843, 690),\n",
       " (1908, 3000),\n",
       " (2042, 3000),\n",
       " (3000, 2029),\n",
       " (2691, 3000),\n",
       " (311, 420),\n",
       " (1434, 3000),\n",
       " (302, 600),\n",
       " (750, 498),\n",
       " (382, 480),\n",
       " (462, 360),\n",
       " (300, 298),\n",
       " (843, 546),\n",
       " (500, 472),\n",
       " (3000, 1885),\n",
       " (390, 600),\n",
       " (843, 1220),\n",
       " (602, 3000),\n",
       " (2246, 3000),\n",
       " (396, 500),\n",
       " (604, 300),\n",
       " (2074, 2250),\n",
       " (474, 599),\n",
       " ...}"
      ]
     },
     "execution_count": 121,
     "metadata": {},
     "output_type": "execute_result"
    }
   ],
   "source": [
    "size_list, imgs_filtered = check_image_sizes_and_update_paths(imgs_filtered)\n",
    "size_list"
   ]
  },
  {
   "cell_type": "code",
   "execution_count": null,
   "metadata": {},
   "outputs": [],
   "source": [
    "def letterbox_resize(image, target_size):\n",
    "    # Calculate aspect ratio\n",
    "    w, h = image.size\n",
    "    ratio = min(target_size/h, target_size/w)\n",
    "    \n",
    "    # New dimensions\n",
    "    new_h, new_w = int(h * ratio), int(w * ratio)\n",
    "    \n",
    "    # Resize maintaining aspect ratio\n",
    "    resized = image.resize((new_w, new_h), Image.Resampling.LANCZOS)\n",
    "    \n",
    "    # Create new image with padding\n",
    "    new_image = Image.new('RGB', (target_size, target_size), (0, 0, 0))\n",
    "    \n",
    "    # Calculate padding\n",
    "    y_offset = (target_size - new_h) // 2\n",
    "    x_offset = (target_size - new_w) // 2\n",
    "    \n",
    "    # Paste resized image onto padded background\n",
    "    new_image.paste(resized, (x_offset, y_offset))\n",
    "    \n",
    "    return new_image"
   ]
  }
 ],
 "metadata": {
  "kernelspec": {
   "display_name": "dev",
   "language": "python",
   "name": "python3"
  },
  "language_info": {
   "codemirror_mode": {
    "name": "ipython",
    "version": 3
   },
   "file_extension": ".py",
   "mimetype": "text/x-python",
   "name": "python",
   "nbconvert_exporter": "python",
   "pygments_lexer": "ipython3",
   "version": "3.10.14"
  }
 },
 "nbformat": 4,
 "nbformat_minor": 2
}
