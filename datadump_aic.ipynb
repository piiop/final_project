{
 "cells": [
  {
   "cell_type": "code",
   "execution_count": null,
   "metadata": {},
   "outputs": [],
   "source": [
    "# Standard library imports\n",
    "import json\n",
    "import logging\n",
    "import os\n",
    "import time\n",
    "from io import BytesIO\n",
    "from urllib.parse import urljoin\n",
    "\n",
    "# Third-party imports\n",
    "import numpy as np\n",
    "import pandas as pd\n",
    "import requests\n",
    "from dotenv import load_dotenv\n",
    "from PIL import Image\n",
    "from ratelimit import limits, sleep_and_retry\n",
    "from tqdm import tqdm"
   ]
  },
  {
   "cell_type": "markdown",
   "metadata": {},
   "source": [
    "### Accessing the Art Institute of Chicago's data dump\n",
    "The Art Institute of Chicago has a downloadable data dump to search thru and find what you want to access\n",
    "before making any API calls. I looked thru this to try and find that artworks I could use for classifcation. "
   ]
  },
  {
   "cell_type": "code",
   "execution_count": null,
   "metadata": {},
   "outputs": [],
   "source": [
    "# Path JSONL file \n",
    "file_path = 'allArtworks.jsonl'\n",
    "\n",
    "# Read the JSONL file\n",
    "with open(file_path, 'r') as file:\n",
    "    data = [json.loads(line) for line in file]\n",
    "\n",
    "# Create a pandas DataFrame\n",
    "datadump_df = pd.DataFrame(data)\n",
    "\n",
    "print(datadump_df.info())\n",
    "\n",
    "datadump_df.head()"
   ]
  },
  {
   "cell_type": "code",
   "execution_count": null,
   "metadata": {},
   "outputs": [],
   "source": [
    "datadump_df['department_title'].value_counts()"
   ]
  },
  {
   "cell_type": "markdown",
   "metadata": {},
   "source": [
    "Unfortunately, the main dataframe does not contain Styles, however the data dump also comes with\n",
    "the json for every piece of artwork. I load all into a dataframe and filter for the artwork this way. I can use the 'artwork_type_title'\n",
    "to only get paintings or prints, then 'style_titles' and 'style_title' for the style of artwork. "
   ]
  },
  {
   "cell_type": "code",
   "execution_count": null,
   "metadata": {},
   "outputs": [],
   "source": [
    "# Set the path to the directory containing JSON files\n",
    "json_dir = r\"C:\\Users\\16148\\Downloads\\artic-api-data\\json\\artworks\"\n",
    "\n",
    "# Initialize an empty list to store the data from each JSON file\n",
    "data_list = []\n",
    "\n",
    "# Iterate through all JSON files in the directory\n",
    "for filename in tqdm(os.listdir(json_dir), desc=\"Loading files\"):\n",
    "    if filename.endswith(\".json\"):\n",
    "        file_path = os.path.join(json_dir, filename)\n",
    "        with open(file_path, 'r', encoding='utf-8') as file:\n",
    "            try:\n",
    "                # Load the JSON data\n",
    "                json_data = json.load(file)\n",
    "                # Append the data to our list\n",
    "                data_list.append(json_data)\n",
    "            except json.JSONDecodeError:\n",
    "                print(f\"Error decoding JSON in file: {filename}\")\n",
    "\n",
    "# Create a DataFrame from the list of JSON data\n",
    "all_df = pd.DataFrame(data_list)\n",
    "\n",
    "# Display the first few rows and basic information about the DataFrame\n",
    "print(all_df.info())\n",
    "all_df.head()"
   ]
  },
  {
   "cell_type": "code",
   "execution_count": null,
   "metadata": {},
   "outputs": [],
   "source": [
    "# Then save as a csv\n",
    "all_df.to_csv(\"all_artworks_aic.csv\", index=False)"
   ]
  }
 ],
 "metadata": {
  "language_info": {
   "name": "python"
  }
 },
 "nbformat": 4,
 "nbformat_minor": 2
}
