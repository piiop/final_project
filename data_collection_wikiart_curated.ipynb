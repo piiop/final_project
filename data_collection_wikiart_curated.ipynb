{
 "cells": [
  {
   "cell_type": "code",
   "execution_count": 29,
   "metadata": {},
   "outputs": [],
   "source": [
    "import json\n",
    "import os\n",
    "import time\n",
    "from io import BytesIO\n",
    "from urllib.parse import parse_qs, urlencode\n",
    "\n",
    "import numpy as np\n",
    "import pandas as pd\n",
    "import requests\n",
    "from dotenv import load_dotenv\n",
    "from PIL import Image\n",
    "from ratelimit import limits, sleep_and_retry\n",
    "from tqdm import tqdm\n",
    "\n",
    "import seaborn as sns\n",
    "import matplotlib.pyplot as plt\n",
    "from typing import List, Dict, Optional\n"
   ]
  },
  {
   "cell_type": "markdown",
   "metadata": {},
   "source": [
    "## Curated Data Collection\n",
    "To better curate the image set, I first created a dictionary of art movements and used the most popular\n",
    "artists from that movement or style and whose works exemplify the genre defining characteristics. Then searched wiki art\n",
    "by artist, collecting up to 50 works from each artist.\n"
   ]
  },
  {
   "cell_type": "code",
   "execution_count": 18,
   "metadata": {},
   "outputs": [],
   "source": [
    "# Main dictionary mapping movements to artists\n",
    "art_movements = {\n",
    "    \"naive_art\": [\n",
    "        \"Joshua Johnson\",\n",
    "        \"Henri Rousseau\",\n",
    "        \"Edward Hicks\",\n",
    "        \"John Bradley\",\n",
    "        \"Alfred Wallis\",\n",
    "        \"Grandma Moses\",\n",
    "        \"Louis Vivin\",\n",
    "        \"Seraphine Louis\"\n",
    "    ],\n",
    "    \"baroque\": [\n",
    "        \"Paul Bril\",\n",
    "        \"Agostino Carracci\",\n",
    "        \"Annibale Carracci\",\n",
    "        \"Hendrick Cornelisz Vroom\",\n",
    "        \"Francesco Ribalta\",\n",
    "        \"Caravaggio\",\n",
    "        \"Jan Brueghel the Elder\",\n",
    "        \"Peter Paul Rubens\",\n",
    "        \"Georges Lallemand\",\n",
    "        \"Guido Reni\",\n",
    "        \"Francisco Herrera\"\n",
    "    ],\n",
    "    \"rococo\": [\n",
    "        \"Francois Boucher\",\n",
    "        \"Jean-Honore Fragonard\",\n",
    "        \"Antoine Watteau\",\n",
    "        \"Jean-Marc Nattier\",\n",
    "        \"Maurice Quentin de La Tour\",\n",
    "        \"Jean-Baptiste van Loo\",\n",
    "        \"Charles-Andre van Loo\",\n",
    "        \"Giovanni Battista Tiepolo\",\n",
    "        \"Jean Baptiste Pater\",\n",
    "        \"Francois Lemoyne\",\n",
    "        \"Sebastiano Ricci\",\n",
    "        \"Rosalba Carriera\"\n",
    "    ],\n",
    "    \"romanticism\": [\n",
    "        \"Caspar David Friedrich\",\n",
    "        \"J.M.W. Turner\",\n",
    "        \"Eugene Delacroix\",\n",
    "        \"Theodore Gericault\",\n",
    "        \"John Constable\",\n",
    "        \"Thomas Cole\",\n",
    "        \"William Blake\",\n",
    "        \"Henry Fuseli\",\n",
    "        \"Francisco Goya\",\n",
    "        \"Philipp Otto Runge\",\n",
    "        \"Carl Carus\",\n",
    "        \"Karl Schinkel\"\n",
    "    ],\n",
    "    \"art_deco\": [\n",
    "        \"Tamara de Lempicka\",\n",
    "        \"Erte\",\n",
    "        \"Cassandre\",\n",
    "        \"Paul Manship\",\n",
    "        \"Rene Lalique\",\n",
    "        \"Pierre Legrain\",\n",
    "        \"Emile-Jacques Ruhlmann\",\n",
    "        \"Jean Dupas\",\n",
    "        \"Paul Colin\", \n",
    "        \"Romain de Tirtoff\", \n",
    "        \"Rene Vincent\",\n",
    "        \"Robert Bonfils\" \n",
    "    ],\n",
    "    \"american_realism\": [\n",
    "        \"Edward Hopper\",\n",
    "        \"Andrew Wyeth\",\n",
    "        \"Charles Sheeler\",\n",
    "        \"George Bellows\",\n",
    "        \"Thomas Hart Benton\", \n",
    "        \"Reginald Marsh\", \n",
    "        \"Jack Levine\", \n",
    "        \"Edwin Dickinson\", \n",
    "        \"Ben Shahn\", \n",
    "        \"William Glackens\", \n",
    "        \"Ivan Albright\",\n",
    "        \"Guy Pene du Bois\" \n",
    "    ],\n",
    "    \"art_nouveau\": [\n",
    "        \"Alphonse Mucha\",\n",
    "        \"Gustav Klimt\",\n",
    "        \"Henri de Toulouse-Lautrec\",\n",
    "        \"Theophile Steinlen\",\n",
    "        \"William Bradley\", \n",
    "        \"Eugene Grasset\",\n",
    "        \"Theophile Roederer\", \n",
    "        \"Koloman Moser\",  \n",
    "        \"Jan Toorop\",\n",
    "        \"Jane Atche\",\n",
    "        \"Elisabeth Sonrel\",\n",
    "        \"Giovanni Mataloni\" \n",
    "    ],\n",
    "    \"expressionism\": [\n",
    "        \"Edvard Munch\",\n",
    "        \"Ernst Ludwig Kirchner\",\n",
    "        \"Wassily Kandinsky\",\n",
    "        \"Emil Nolde\",\n",
    "        \"Franz Marc\",\n",
    "        \"August Macke\",\n",
    "        \"Gabriele Munter\",\n",
    "        \"Marianne von Werefkin\",\n",
    "        \"Otto Dix\", \n",
    "        \"Karl Schmidt-Rottluff\",\n",
    "        \"Erich Heckel\",\n",
    "        \"Max Pechstein\"\n",
    "    ],\n",
    "    \"post_impressionism\": [\n",
    "        \"Vincent van Gogh\",\n",
    "        \"Paul Gauguin\",\n",
    "        \"Paul Cezanne\",\n",
    "        \"Georges Seurat\",\n",
    "        \"Henri de Toulouse-Lautrec\",\n",
    "        \"Emile Bernard\",\n",
    "        \"Paul Signac\",\n",
    "        \"Henri Rousseau\",\n",
    "        \"Maurice Denis\",\n",
    "        \"Edouard Vuillard\",\n",
    "        \"Pierre Bonnard\",\n",
    "        \"Felix Vallotton\"\n",
    "    ],\n",
    "    \"high_renaissance\": [\n",
    "        \"Leonardo da Vinci\",\n",
    "        \"Michelangelo\",\n",
    "        \"Raphael\",\n",
    "        \"Titian\",\n",
    "        \"Andrea del Sarto\",\n",
    "        \"Fra Bartolomeo\",\n",
    "        \"Sebastiano del Piombo\",\n",
    "        \"Giovanni Bellini\",\n",
    "        \"Giorgione\",\n",
    "        \"Lorenzo Lotto\",\n",
    "        \"Pietro Perugino\",\n",
    "        \"Benvenuto Tisi\"\n",
    "    ],\n",
    "    \"cubism\": [\n",
    "        \"Pablo Picasso\",\n",
    "        \"Georges Braque\",\n",
    "        \"Juan Gris\",\n",
    "        \"Fernand Leger\",\n",
    "        \"Albert Gleizes\",\n",
    "        \"Jean Metzinger\",\n",
    "        \"Robert Delaunay\",\n",
    "        \"Henri Le Fauconnier\",\n",
    "        \"Andre Lhote\",\n",
    "        \"Jacques Villon\",\n",
    "        \"Louis Marcoussis\",\n",
    "        \"Marie Laurencin\"\n",
    "    ],\n",
    "    \"abstract_expressionism\": [\n",
    "        \"Jackson Pollock\",\n",
    "        \"Willem de Kooning\",\n",
    "        \"Mark Rothko\",\n",
    "        \"Franz Kline\",\n",
    "        \"Wassily Kandinsky\",\n",
    "        \"Clyfford Still\",\n",
    "        \"Robert Motherwell\",\n",
    "        \"Helen Frankenthaler\",\n",
    "        \"Lee Krasner\",\n",
    "        \"Joan Mitchell\",\n",
    "        \"Philip Guston\",\n",
    "        \"Barnett Newman\"\n",
    "    ],\n",
    "    \"art_informel\": [\n",
    "        \"Jean Dubuffet\",\n",
    "        \"Jean Fautrier\",\n",
    "        \"Georges Mathieu\",\n",
    "        \"Antoni Tapies\",\n",
    "        \"Alberto Burri\",\n",
    "        \"Alfred Otto Wolfgang Schulze\",\n",
    "        \"Hans Hartung\",\n",
    "        \"Pierre Soulages\",\n",
    "        \"Karel Appel\",\n",
    "        \"Asger Jorn\",\n",
    "        \"Emilio Vedova\",\n",
    "        \"Jean-Paul Riopelle\"\n",
    "    ],\n",
    "    \"mannerism\": [\n",
    "        \"Jacopo Pontormo\",\n",
    "        \"Agnolo Bronzino\",\n",
    "        \"Parmigianino\",\n",
    "        \"Rosso Fiorentino\",\n",
    "        \"Giorgio Vasari\",\n",
    "        \"Federico Zuccari\",\n",
    "        \"Girolamo Francesco Maria Mazzola\",\n",
    "        \"Bartholomeus Spranger\",\n",
    "        \"Giuseppe Arcimboldo\",\n",
    "        \"Tintoretto\",\n",
    "        \"El Greco\",\n",
    "        \"Cecchino\"\n",
    "    ],\n",
    "    \"northern_renaissance\": [\n",
    "        \"Jan van Eyck\",\n",
    "        \"Albrecht Durer\",\n",
    "        \"Hieronymus Bosch\",\n",
    "        \"Pieter Bruegel the Elder\",\n",
    "        \"Hans Holbein the Younger\",\n",
    "        \"Robert Campin\",\n",
    "        \"Rogier van der Weyden\",\n",
    "        \"Hugo van der Goes\",\n",
    "        \"Matthias Grunewald\",\n",
    "        \"Hans Memling\",\n",
    "        \"Gerard David\",\n",
    "        \"Quentin Matsys\"\n",
    "    ],\n",
    "    \"surrealism\": [\n",
    "        \"Salvador Dali\",\n",
    "        \"Rene Magritte\",\n",
    "        \"Max Ernst\",\n",
    "        \"Joan Miro\",\n",
    "        \"Andre Masson\",\n",
    "        \"Yves Tanguy\",\n",
    "        \"Paul Delvaux\",\n",
    "        \"Leonora Carrington\",\n",
    "        \"Dorothea Tanning\",\n",
    "        \"Kay Sage\",\n",
    "        \"Remedios Varo\",\n",
    "        \"Giorgio de Chirico\"\n",
    "    ],\n",
    "    \"symbolism\": [\n",
    "        \"Gustav Klimt\",\n",
    "        \"Odilon Redon\",\n",
    "        \"Gustave Moreau\",\n",
    "        \"Jean Libert\",\n",
    "        \"Fernand Khnopff\",\n",
    "        \"Carlos Schwabe\",\n",
    "        \"Mikalojus Ciurlionis\",\n",
    "        \"Lucien Levy-Dhurmer\",\n",
    "        \"Pierre Puvis de Chavannes\",\n",
    "        \"Alexandre Seon\",\n",
    "        \"William Degouve de Nuncques\",\n",
    "        \"Arnold Bocklin\"\n",
    "    ],\n",
    "    \"early_renaissance\": [\n",
    "        \"Masaccio\",\n",
    "        \"Fra Angelico\",\n",
    "        \"Sandro Botticelli\",\n",
    "        \"Piero della Francesca\",\n",
    "        \"Filippo Lippi\",\n",
    "        \"Benozzo Gozzoli\",\n",
    "        \"Paolo Uccello\",\n",
    "        \"Domenico Ghirlandaio\",\n",
    "        \"Gentile da Fabriano\",\n",
    "        \"Andrea del Castagno\",\n",
    "        \"Andrea Mantegna\",\n",
    "        \"Carlo Crivelli\"\n",
    "    ],\n",
    "    \"modernism\": [\n",
    "        \"Piet Mondrian\",\n",
    "        \"Georgia O'Keeffe\",\n",
    "        \"Charles Demuth\",\n",
    "        \"Marsden Hartley\",\n",
    "        \"Stuart Davis\",\n",
    "        \"Charles Sheeler\",\n",
    "        \"Joseph Stella\",\n",
    "        \"Patrick Henry Bruce\",\n",
    "        \"Arthur Dove\",\n",
    "        \"John Marin\",\n",
    "        \"Morton Schamberg\",\n",
    "        \"Gerald Murphy\"\n",
    "    ],\n",
    "    \"contemporary\": [\n",
    "        \"Peter Doig\",\n",
    "        \"Anselm Kiefer\",\n",
    "        \"Jenny Saville\",\n",
    "        \"Marlene Dumas\",\n",
    "        \"Neo Rauch\", \n",
    "        \"Julie Mehretu\",\n",
    "        \"Luc Tuymans\", \n",
    "        \"Adrian Ghenie\",\n",
    "        \"Njideka Akunyili Crosby\",\n",
    "        \"Kerry James Marshall\",\n",
    "        \"Michaël Borremans\"\n",
    "    ],\n",
    "    \"neo_romantic\": [\n",
    "        \"Paul Nash\",\n",
    "        \"Graham Sutherland\"\n",
    "    ],\n",
    "    \"ukiyo_e\": [\n",
    "        \"Katsushika Hokusai\",\n",
    "        \"Tsukioka Yoshitoshi\", \n",
    "        \"Kitagawa Utamaro\",\n",
    "        \"Katsukawa Shunsho\",\n",
    "        \"Toshuai Sharaku\",\n",
    "        \"Utagawa Kuniyoshi\",\n",
    "        \"Utagawa Kunisada\",\n",
    "        \"Katsukawa Shunso\",\n",
    "        \"Utagawa Toyokuni\",\n",
    "        \"Isoda Koryusai\",\n",
    "        \"Chobunsai Eishi\",\n",
    "        \"Keisai Eisen\"\n",
    "    ],\n",
    "    \"impressionism\": [\n",
    "        \"Claude Monet\",\n",
    "        \"Pierre-Auguste Renoir\",\n",
    "        \"Edgar Degas\",\n",
    "        \"Camille Pissarro\",\n",
    "        \"Alfred Sisley\",\n",
    "        \"Berthe Morisot\",\n",
    "        \"Mary Cassatt\",\n",
    "        \"Gustave Caillebotte\",\n",
    "        \"Armand Guillaumin\",\n",
    "        \"Eva Gonzales\",\n",
    "        \"Frederic Bazille\",\n",
    "        \"Marie Bracquemond\"\n",
    "    ],\n",
    "    \"pop_art\": [\n",
    "        \"Andy Warhol\",\n",
    "        \"Roy Lichtenstein\",\n",
    "        \"Claes Oldenburg\",\n",
    "        \"Jim Dine\", \n",
    "        \"Richard Hamilton\",\n",
    "        \"Peter Phillips\", \n",
    "        \"Keith Haring\",\n",
    "        \"Robert Rauschenberg\",\n",
    "        \"Peter Blake\",\n",
    "        \"James Rosenquist\",\n",
    "        \"Eduardo Paolozzi\",\n",
    "        \"Yayoi Kusama\"\n",
    "    ],\n",
    "    \"fauvism\": [\n",
    "        \"Henri Matisse\",\n",
    "        \"Andre Derain\",\n",
    "        \"Maurice de Vlaminck\",\n",
    "        \"Georges Braque\",\n",
    "        \"Raoul Dufy\",\n",
    "        \"Albert Marquet\",\n",
    "        \"Emile-Othon Friesz\", \n",
    "        \"Henri Manguin\",\n",
    "        \"Georges Rouault\", \n",
    "        \"Louis Valtat\",\n",
    "        \"Othon Friesz\",\n",
    "        \"Kees van Dongen\"\n",
    "    ],\n",
    "    \"neoclassicism\": [\n",
    "        \"Jacques-Louis David\",\n",
    "        \"Jean Auguste Dominique Ingres\",\n",
    "        \"Anton Raphael Mengs\",\n",
    "        \"Angelica Kauffman\",\n",
    "        \"Benjamin West\",\n",
    "        \"Francois Gerard\",\n",
    "        \"Anne-Louis Girodet\",\n",
    "        \"Jean-Francois-Pierre Peyron\",\n",
    "        \"Antonio Canova\",\n",
    "        \"Marie-Guillemine Benoist\",\n",
    "        \"Pierre-Paul Prud'hon\",\n",
    "        \"Francois-Xavier Fabre\"\n",
    "    ],\n",
    "    \"minimalism\": [\n",
    "        \"Frank Stella\",\n",
    "        \"Agnes Martin\",\n",
    "        \"Robert Ryman\",\n",
    "        \"Ellsworth Kelly\",\n",
    "        \"Ad Reinhardt\",\n",
    "        \"Brice Marden\",\n",
    "        \"Jo Baer\",\n",
    "        \"Robert Mangold\",\n",
    "        \"Carmen Herrera\",\n",
    "        \"Anne Truitt\",\n",
    "        \"Donald Judd\", \n",
    "        \"Sol LeWitt\" \n",
    "    ]\n",
    "}"
   ]
  },
  {
   "cell_type": "markdown",
   "metadata": {},
   "source": [
    "### API Call\n",
    "- First acquiring the metadata\n",
    "- Then downloading the images\n",
    "- Adhering to rate limiting"
   ]
  },
  {
   "cell_type": "code",
   "execution_count": 19,
   "metadata": {},
   "outputs": [],
   "source": [
    "# Load our API access key\n",
    "access_key = os.getenv('WIKIART_ACCESS_KEY')\n",
    "secret_code = os.getenv('WIKIART_SECRET_KEY')"
   ]
  },
  {
   "cell_type": "code",
   "execution_count": 20,
   "metadata": {},
   "outputs": [],
   "source": [
    "# API configuration\n",
    "BASE_URL = \"https://www.wikiart.org/en/api/2\"\n",
    "REQUESTS_PER_2_5_SECONDS = 10\n",
    "REQUESTS_PER_HOUR = 400\n",
    "\n",
    "session_key = None\n",
    "\n",
    "@sleep_and_retry\n",
    "@limits(calls=REQUESTS_PER_2_5_SECONDS, period=2.5)\n",
    "def call_api():\n",
    "    pass\n",
    "\n",
    "@sleep_and_retry\n",
    "@limits(calls=REQUESTS_PER_HOUR, period=3600)\n",
    "def hourly_limit():\n",
    "    pass\n",
    "\n",
    "def get_session_key():\n",
    "    login_url = f\"{BASE_URL}/login\"\n",
    "    login_params = {\n",
    "        \"accessCode\": access_key,\n",
    "        \"secretCode\": secret_code\n",
    "    }\n",
    "    try:\n",
    "        response = requests.get(login_url, params=login_params)\n",
    "        response.raise_for_status()\n",
    "        return response.json().get('SessionKey')\n",
    "    except requests.exceptions.RequestException as e:\n",
    "        print(f\"Failed to retrieve session key: {e}\")\n",
    "        raise\n",
    "\n",
    "def make_api_request(endpoint, params, max_retries=3, delay=5):\n",
    "    global session_key\n",
    "    if not session_key:\n",
    "        session_key = get_session_key()\n",
    "\n",
    "    for attempt in range(max_retries):\n",
    "        try:\n",
    "            call_api()\n",
    "            hourly_limit()\n",
    "            time.sleep(0.1)\n",
    "            \n",
    "            params['authSessionKey'] = session_key\n",
    "            url = f\"{BASE_URL}/{endpoint}\"\n",
    "            response = requests.get(url, params=params)\n",
    "            response.raise_for_status()\n",
    "            \n",
    "            return response.json()\n",
    "        except requests.exceptions.RequestException as e:\n",
    "            print(f\"Attempt {attempt + 1} failed: {e}\")\n",
    "            if 'limit exceeded' in str(e).lower():\n",
    "                print(\"API rate limit exceeded. Waiting before retrying...\")\n",
    "                time.sleep(60)\n",
    "            elif attempt < max_retries - 1:\n",
    "                print(f\"Retrying in {delay} seconds...\")\n",
    "                time.sleep(delay)\n",
    "            else:\n",
    "                print(f\"Max retries reached. Unable to complete request to {endpoint}.\")\n",
    "                raise\n"
   ]
  },
  {
   "cell_type": "code",
   "execution_count": 22,
   "metadata": {},
   "outputs": [
    {
     "name": "stdout",
     "output_type": "stream",
     "text": [
      "\n",
      "Collecting paintings for naive_art movement...\n",
      "Number of artists to process: 8\n",
      "Found 23 paintings for Joshua Johnson\n",
      "Found 40 paintings for Henri Rousseau\n",
      "Found 40 paintings for Edward Hicks\n",
      "Found 18 paintings for John Bradley\n",
      "Found 40 paintings for Alfred Wallis\n",
      "Found 38 paintings for Grandma Moses\n",
      "Found 30 paintings for Louis Vivin\n",
      "Found 14 paintings for Seraphine Louis\n",
      "\n",
      "Collection complete for naive_art!\n",
      "Total paintings collected: 243\n",
      "Total artists processed successfully: 8\n",
      "\n",
      "Collecting paintings for baroque movement...\n",
      "Number of artists to process: 11\n",
      "Found 28 paintings for Paul Bril\n",
      "Found 40 paintings for Agostino Carracci\n",
      "Found 40 paintings for Annibale Carracci\n",
      "Found 16 paintings for Hendrick Cornelisz Vroom\n",
      "Found 40 paintings for Francesco Ribalta\n",
      "Found 40 paintings for Caravaggio\n",
      "Found 40 paintings for Jan Brueghel the Elder\n",
      "Found 40 paintings for Peter Paul Rubens\n",
      "Found 8 paintings for Georges Lallemand\n",
      "Found 40 paintings for Guido Reni\n",
      "Found 20 paintings for Francisco Herrera\n",
      "\n",
      "Collection complete for baroque!\n",
      "Total paintings collected: 352\n",
      "Total artists processed successfully: 11\n",
      "\n",
      "Collecting paintings for rococo movement...\n",
      "Number of artists to process: 12\n",
      "Found 40 paintings for Francois Boucher\n",
      "Found 40 paintings for Jean-Honore Fragonard\n",
      "Found 40 paintings for Antoine Watteau\n",
      "Found 19 paintings for Jean-Marc Nattier\n",
      "Found 40 paintings for Maurice Quentin de La Tour\n",
      "Found 29 paintings for Jean-Baptiste van Loo\n",
      "Found 0 paintings for Charles-Andre van Loo\n",
      "Found 40 paintings for Giovanni Battista Tiepolo\n",
      "Found 0 paintings for Jean Baptiste Pater\n",
      "Found 0 paintings for Francois Lemoyne\n",
      "Found 0 paintings for Sebastiano Ricci\n",
      "Found 40 paintings for Rosalba Carriera\n",
      "\n",
      "Collection complete for rococo!\n",
      "Total paintings collected: 288\n",
      "Total artists processed successfully: 8\n",
      "\n",
      "Collecting paintings for romanticism movement...\n",
      "Number of artists to process: 12\n",
      "Found 40 paintings for Caspar David Friedrich\n",
      "Found 40 paintings for J.M.W. Turner\n",
      "Found 40 paintings for Eugene Delacroix\n",
      "Found 0 paintings for Theodore Gericault\n",
      "Found 40 paintings for John Constable\n",
      "Found 40 paintings for Thomas Cole\n",
      "Found 40 paintings for William Blake\n",
      "Found 31 paintings for Henry Fuseli\n",
      "Found 40 paintings for Francisco Goya\n",
      "Found 26 paintings for Philipp Otto Runge\n",
      "Found 0 paintings for Carl Carus\n",
      "Found 0 paintings for Karl Schinkel\n",
      "\n",
      "Collection complete for romanticism!\n",
      "Total paintings collected: 337\n",
      "Total artists processed successfully: 9\n",
      "\n",
      "Collecting paintings for art_deco movement...\n",
      "Number of artists to process: 12\n",
      "Found 40 paintings for Tamara de Lempicka\n",
      "Found 40 paintings for Erte\n",
      "Found 40 paintings for Cassandre\n",
      "Found 0 paintings for Paul Manship\n",
      "Found 0 paintings for Rene Lalique\n",
      "Found 0 paintings for Pierre Legrain\n",
      "Found 0 paintings for Emile-Jacques Ruhlmann\n",
      "Found 27 paintings for Jean Dupas\n",
      "Found 0 paintings for Paul Colin\n",
      "Found 0 paintings for Romain de Tirtoff\n",
      "Found 0 paintings for Rene Vincent\n",
      "Found 0 paintings for Robert Bonfils\n",
      "\n",
      "Collection complete for art_deco!\n",
      "Total paintings collected: 147\n",
      "Total artists processed successfully: 4\n",
      "\n",
      "Collecting paintings for american_realism movement...\n",
      "Number of artists to process: 12\n",
      "Found 40 paintings for Edward Hopper\n",
      "Found 40 paintings for Andrew Wyeth\n",
      "Found 16 paintings for Charles Sheeler\n",
      "Found 28 paintings for George Bellows\n",
      "Found 40 paintings for Thomas Hart Benton\n",
      "Found 0 paintings for Reginald Marsh\n",
      "Found 0 paintings for Jack Levine\n",
      "Found 28 paintings for Edwin Dickinson\n",
      "Found 40 paintings for Ben Shahn\n",
      "Found 0 paintings for William Glackens\n",
      "Found 40 paintings for Ivan Albright\n",
      "Found 0 paintings for Guy Pene du Bois\n",
      "\n",
      "Collection complete for american_realism!\n",
      "Total paintings collected: 272\n",
      "Total artists processed successfully: 8\n",
      "\n",
      "Collecting paintings for art_nouveau movement...\n",
      "Number of artists to process: 12\n",
      "Found 40 paintings for Alphonse Mucha\n",
      "Found 40 paintings for Gustav Klimt\n",
      "Found 40 paintings for Henri de Toulouse-Lautrec\n",
      "Found 40 paintings for Theophile Steinlen\n",
      "Found 0 paintings for William Bradley\n",
      "Found 0 paintings for Eugene Grasset\n",
      "Found 0 paintings for Theophile Roederer\n",
      "Found 40 paintings for Koloman Moser\n",
      "Found 40 paintings for Jan Toorop\n",
      "Found 0 paintings for Jane Atche\n",
      "Found 18 paintings for Elisabeth Sonrel\n",
      "Found 0 paintings for Giovanni Mataloni\n",
      "\n",
      "Collection complete for art_nouveau!\n",
      "Total paintings collected: 258\n",
      "Total artists processed successfully: 7\n",
      "\n",
      "Collecting paintings for expressionism movement...\n",
      "Number of artists to process: 12\n",
      "Found 40 paintings for Edvard Munch\n",
      "Found 40 paintings for Ernst Ludwig Kirchner\n",
      "Found 40 paintings for Wassily Kandinsky\n",
      "Found 40 paintings for Emil Nolde\n",
      "Found 40 paintings for Franz Marc\n",
      "Found 40 paintings for August Macke\n",
      "Found 40 paintings for Gabriele Munter\n",
      "Found 40 paintings for Marianne von Werefkin\n",
      "Found 40 paintings for Otto Dix\n",
      "Found 21 paintings for Karl Schmidt-Rottluff\n",
      "Found 19 paintings for Erich Heckel\n",
      "Found 40 paintings for Max Pechstein\n",
      "\n",
      "Collection complete for expressionism!\n",
      "Total paintings collected: 440\n",
      "Total artists processed successfully: 12\n",
      "\n",
      "Collecting paintings for post_impressionism movement...\n",
      "Number of artists to process: 12\n",
      "Found 40 paintings for Vincent van Gogh\n",
      "Found 40 paintings for Paul Gauguin\n",
      "Found 40 paintings for Paul Cezanne\n",
      "Found 40 paintings for Georges Seurat\n",
      "Found 40 paintings for Henri de Toulouse-Lautrec\n",
      "Found 18 paintings for Emile Bernard\n",
      "Found 40 paintings for Paul Signac\n",
      "Found 40 paintings for Henri Rousseau\n",
      "Found 40 paintings for Maurice Denis\n",
      "Found 40 paintings for Edouard Vuillard\n",
      "Found 40 paintings for Pierre Bonnard\n",
      "Found 40 paintings for Felix Vallotton\n",
      "\n",
      "Collection complete for post_impressionism!\n",
      "Total paintings collected: 458\n",
      "Total artists processed successfully: 12\n",
      "\n",
      "Collecting paintings for high_renaissance movement...\n",
      "Number of artists to process: 12\n",
      "Found 40 paintings for Leonardo da Vinci\n",
      "Found 40 paintings for Michelangelo\n",
      "Found 40 paintings for Raphael\n",
      "Found 40 paintings for Titian\n",
      "Found 40 paintings for Andrea del Sarto\n",
      "Found 16 paintings for Fra Bartolomeo\n",
      "Found 40 paintings for Sebastiano del Piombo\n",
      "Found 40 paintings for Giovanni Bellini\n",
      "Found 40 paintings for Giorgione\n",
      "Found 40 paintings for Lorenzo Lotto\n",
      "Found 40 paintings for Pietro Perugino\n",
      "Found 22 paintings for Benvenuto Tisi\n",
      "\n",
      "Collection complete for high_renaissance!\n",
      "Total paintings collected: 438\n",
      "Total artists processed successfully: 12\n",
      "\n",
      "Collecting paintings for cubism movement...\n",
      "Number of artists to process: 12\n",
      "Found 40 paintings for Pablo Picasso\n",
      "Found 40 paintings for Georges Braque\n",
      "Found 40 paintings for Juan Gris\n",
      "Found 40 paintings for Fernand Leger\n",
      "Found 40 paintings for Albert Gleizes\n",
      "Found 40 paintings for Jean Metzinger\n",
      "Found 33 paintings for Robert Delaunay\n",
      "Found 21 paintings for Henri Le Fauconnier\n",
      "Found 0 paintings for Andre Lhote\n",
      "Found 40 paintings for Jacques Villon\n",
      "Found 40 paintings for Louis Marcoussis\n",
      "Found 40 paintings for Marie Laurencin\n",
      "\n",
      "Collection complete for cubism!\n",
      "Total paintings collected: 414\n",
      "Total artists processed successfully: 11\n",
      "\n",
      "Collecting paintings for abstract_expressionism movement...\n",
      "Number of artists to process: 12\n",
      "Found 40 paintings for Jackson Pollock\n",
      "Found 40 paintings for Willem de Kooning\n",
      "Found 40 paintings for Mark Rothko\n",
      "Found 37 paintings for Franz Kline\n",
      "Found 40 paintings for Wassily Kandinsky\n",
      "Found 40 paintings for Clyfford Still\n",
      "Found 40 paintings for Robert Motherwell\n",
      "Found 40 paintings for Helen Frankenthaler\n",
      "Found 27 paintings for Lee Krasner\n",
      "Found 40 paintings for Joan Mitchell\n",
      "Found 40 paintings for Philip Guston\n",
      "Found 40 paintings for Barnett Newman\n",
      "\n",
      "Collection complete for abstract_expressionism!\n",
      "Total paintings collected: 464\n",
      "Total artists processed successfully: 12\n",
      "\n",
      "Collecting paintings for art_informel movement...\n",
      "Number of artists to process: 12\n",
      "Found 40 paintings for Jean Dubuffet\n",
      "Found 40 paintings for Jean Fautrier\n",
      "Found 22 paintings for Georges Mathieu\n",
      "Found 40 paintings for Antoni Tapies\n",
      "Found 15 paintings for Alberto Burri\n",
      "Found 0 paintings for Alfred Otto Wolfgang Schulze\n",
      "Found 21 paintings for Hans Hartung\n",
      "Found 39 paintings for Pierre Soulages\n",
      "Found 40 paintings for Karel Appel\n",
      "Found 40 paintings for Asger Jorn\n",
      "Found 0 paintings for Emilio Vedova\n",
      "Found 22 paintings for Jean-Paul Riopelle\n",
      "\n",
      "Collection complete for art_informel!\n",
      "Total paintings collected: 319\n",
      "Total artists processed successfully: 10\n",
      "\n",
      "Collecting paintings for mannerism movement...\n",
      "Number of artists to process: 12\n",
      "Found 40 paintings for Jacopo Pontormo\n",
      "Found 40 paintings for Agnolo Bronzino\n",
      "Found 40 paintings for Parmigianino\n",
      "Found 21 paintings for Rosso Fiorentino\n",
      "Found 40 paintings for Giorgio Vasari\n",
      "Found 0 paintings for Federico Zuccari\n",
      "Found 0 paintings for Girolamo Francesco Maria Mazzola\n",
      "Found 40 paintings for Bartholomeus Spranger\n",
      "Found 26 paintings for Giuseppe Arcimboldo\n",
      "Found 40 paintings for Tintoretto\n",
      "Found 40 paintings for El Greco\n",
      "Found 0 paintings for Cecchino\n",
      "\n",
      "Collection complete for mannerism!\n",
      "Total paintings collected: 327\n",
      "Total artists processed successfully: 9\n",
      "\n",
      "Collecting paintings for northern_renaissance movement...\n",
      "Number of artists to process: 12\n",
      "Found 40 paintings for Jan van Eyck\n",
      "Found 40 paintings for Albrecht Durer\n",
      "Found 40 paintings for Hieronymus Bosch\n",
      "Found 40 paintings for Pieter Bruegel the Elder\n",
      "Found 40 paintings for Hans Holbein the Younger\n",
      "Found 36 paintings for Robert Campin\n",
      "Found 40 paintings for Rogier van der Weyden\n",
      "Found 34 paintings for Hugo van der Goes\n",
      "Found 0 paintings for Matthias Grunewald\n",
      "Found 40 paintings for Hans Memling\n",
      "Found 40 paintings for Gerard David\n",
      "Found 37 paintings for Quentin Matsys\n",
      "\n",
      "Collection complete for northern_renaissance!\n",
      "Total paintings collected: 427\n",
      "Total artists processed successfully: 11\n",
      "\n",
      "Collecting paintings for surrealism movement...\n",
      "Number of artists to process: 12\n",
      "Found 40 paintings for Salvador Dali\n",
      "Found 40 paintings for Rene Magritte\n",
      "Found 40 paintings for Max Ernst\n",
      "Found 40 paintings for Joan Miro\n",
      "Found 40 paintings for Andre Masson\n",
      "Found 22 paintings for Yves Tanguy\n",
      "Found 40 paintings for Paul Delvaux\n",
      "Found 33 paintings for Leonora Carrington\n",
      "Found 40 paintings for Dorothea Tanning\n",
      "Found 20 paintings for Kay Sage\n",
      "Found 40 paintings for Remedios Varo\n",
      "Found 40 paintings for Giorgio de Chirico\n",
      "\n",
      "Collection complete for surrealism!\n",
      "Total paintings collected: 435\n",
      "Total artists processed successfully: 12\n",
      "\n",
      "Collecting paintings for symbolism movement...\n",
      "Number of artists to process: 12\n",
      "Found 40 paintings for Gustav Klimt\n",
      "Found 40 paintings for Odilon Redon\n",
      "Found 40 paintings for Gustave Moreau\n",
      "Found 0 paintings for Jean Libert\n",
      "Found 34 paintings for Fernand Khnopff\n",
      "Found 40 paintings for Carlos Schwabe\n",
      "Found 0 paintings for Mikalojus Ciurlionis\n",
      "Found 0 paintings for Lucien Levy-Dhurmer\n",
      "Found 40 paintings for Pierre Puvis de Chavannes\n",
      "Found 0 paintings for Alexandre Seon\n",
      "Found 0 paintings for William Degouve de Nuncques\n",
      "Found 0 paintings for Arnold Bocklin\n",
      "\n",
      "Collection complete for symbolism!\n",
      "Total paintings collected: 234\n",
      "Total artists processed successfully: 6\n",
      "\n",
      "Collecting paintings for early_renaissance movement...\n",
      "Number of artists to process: 12\n",
      "Found 27 paintings for Masaccio\n",
      "Found 40 paintings for Fra Angelico\n",
      "Found 40 paintings for Sandro Botticelli\n",
      "Found 40 paintings for Piero della Francesca\n",
      "Found 40 paintings for Filippo Lippi\n",
      "Found 40 paintings for Benozzo Gozzoli\n",
      "Found 40 paintings for Paolo Uccello\n",
      "Found 40 paintings for Domenico Ghirlandaio\n",
      "Found 40 paintings for Gentile da Fabriano\n",
      "Found 40 paintings for Andrea del Castagno\n",
      "Found 40 paintings for Andrea Mantegna\n",
      "Found 40 paintings for Carlo Crivelli\n",
      "\n",
      "Collection complete for early_renaissance!\n",
      "Total paintings collected: 467\n",
      "Total artists processed successfully: 12\n",
      "\n",
      "Collecting paintings for modernism movement...\n",
      "Number of artists to process: 12\n",
      "Found 40 paintings for Piet Mondrian\n",
      "Found 40 paintings for Georgia O'Keeffe\n",
      "Found 40 paintings for Charles Demuth\n",
      "Found 33 paintings for Marsden Hartley\n",
      "Found 20 paintings for Stuart Davis\n",
      "Found 16 paintings for Charles Sheeler\n",
      "Found 35 paintings for Joseph Stella\n",
      "Found 13 paintings for Patrick Henry Bruce\n",
      "Found 24 paintings for Arthur Dove\n",
      "Found 24 paintings for John Marin\n",
      "Found 16 paintings for Morton Schamberg\n",
      "Found 0 paintings for Gerald Murphy\n",
      "\n",
      "Collection complete for modernism!\n",
      "Total paintings collected: 301\n",
      "Total artists processed successfully: 11\n",
      "\n",
      "Collecting paintings for contemporary movement...\n",
      "Number of artists to process: 11\n",
      "Found 40 paintings for Peter Doig\n",
      "Found 39 paintings for Anselm Kiefer\n",
      "Found 36 paintings for Jenny Saville\n",
      "Found 27 paintings for Marlene Dumas\n",
      "Found 18 paintings for Neo Rauch\n",
      "Found 15 paintings for Julie Mehretu\n",
      "Found 40 paintings for Luc Tuymans\n",
      "Found 24 paintings for Adrian Ghenie\n",
      "Found 40 paintings for Njideka Akunyili Crosby\n",
      "Found 22 paintings for Kerry James Marshall\n",
      "Found 0 paintings for Michaël Borremans\n",
      "\n",
      "Collection complete for contemporary!\n",
      "Total paintings collected: 301\n",
      "Total artists processed successfully: 10\n",
      "\n",
      "Collecting paintings for neo_romantic movement...\n",
      "Number of artists to process: 2\n",
      "Found 40 paintings for Paul Nash\n",
      "Found 40 paintings for Graham Sutherland\n",
      "\n",
      "Collection complete for neo_romantic!\n",
      "Total paintings collected: 80\n",
      "Total artists processed successfully: 2\n",
      "\n",
      "Collecting paintings for ukiyo_e movement...\n",
      "Number of artists to process: 12\n",
      "Found 40 paintings for Katsushika Hokusai\n",
      "Found 40 paintings for Tsukioka Yoshitoshi\n",
      "Found 0 paintings for Kitagawa Utamaro\n",
      "Found 0 paintings for Katsukawa Shunsho\n",
      "Found 0 paintings for Toshuai Sharaku\n",
      "Found 40 paintings for Utagawa Kuniyoshi\n",
      "Found 40 paintings for Utagawa Kunisada\n",
      "Found 0 paintings for Katsukawa Shunso\n",
      "Found 30 paintings for Utagawa Toyokuni\n",
      "Found 0 paintings for Isoda Koryusai\n",
      "Found 0 paintings for Chobunsai Eishi\n",
      "Found 40 paintings for Keisai Eisen\n",
      "\n",
      "Collection complete for ukiyo_e!\n",
      "Total paintings collected: 230\n",
      "Total artists processed successfully: 6\n",
      "\n",
      "Collecting paintings for impressionism movement...\n",
      "Number of artists to process: 12\n",
      "Found 40 paintings for Claude Monet\n",
      "Found 40 paintings for Pierre-Auguste Renoir\n",
      "Found 40 paintings for Edgar Degas\n",
      "Found 40 paintings for Camille Pissarro\n",
      "Found 40 paintings for Alfred Sisley\n",
      "Found 40 paintings for Berthe Morisot\n",
      "Found 40 paintings for Mary Cassatt\n",
      "Found 40 paintings for Gustave Caillebotte\n",
      "Found 40 paintings for Armand Guillaumin\n",
      "Found 23 paintings for Eva Gonzales\n",
      "Found 40 paintings for Frederic Bazille\n",
      "Found 21 paintings for Marie Bracquemond\n",
      "\n",
      "Collection complete for impressionism!\n",
      "Total paintings collected: 444\n",
      "Total artists processed successfully: 12\n",
      "\n",
      "Collecting paintings for pop_art movement...\n",
      "Number of artists to process: 12\n",
      "Found 40 paintings for Andy Warhol\n",
      "Found 40 paintings for Roy Lichtenstein\n",
      "Found 24 paintings for Claes Oldenburg\n",
      "Found 35 paintings for Jim Dine\n",
      "Found 40 paintings for Richard Hamilton\n",
      "Found 15 paintings for Peter Phillips\n",
      "Found 40 paintings for Keith Haring\n",
      "Found 40 paintings for Robert Rauschenberg\n",
      "Found 34 paintings for Peter Blake\n",
      "Found 40 paintings for James Rosenquist\n",
      "Found 17 paintings for Eduardo Paolozzi\n",
      "Found 27 paintings for Yayoi Kusama\n",
      "\n",
      "Collection complete for pop_art!\n",
      "Total paintings collected: 392\n",
      "Total artists processed successfully: 12\n",
      "\n",
      "Collecting paintings for fauvism movement...\n",
      "Number of artists to process: 12\n",
      "Found 40 paintings for Henri Matisse\n",
      "Found 40 paintings for Andre Derain\n",
      "Found 40 paintings for Maurice de Vlaminck\n",
      "Found 40 paintings for Georges Braque\n",
      "Found 40 paintings for Raoul Dufy\n",
      "Found 40 paintings for Albert Marquet\n",
      "Found 0 paintings for Emile-Othon Friesz\n",
      "Found 16 paintings for Henri Manguin\n",
      "Found 22 paintings for Georges Rouault\n",
      "Found 26 paintings for Louis Valtat\n",
      "Found 22 paintings for Othon Friesz\n",
      "Found 40 paintings for Kees van Dongen\n",
      "\n",
      "Collection complete for fauvism!\n",
      "Total paintings collected: 366\n",
      "Total artists processed successfully: 11\n",
      "\n",
      "Collecting paintings for neoclassicism movement...\n",
      "Number of artists to process: 12\n",
      "Found 40 paintings for Jacques-Louis David\n",
      "Found 40 paintings for Jean Auguste Dominique Ingres\n",
      "Found 40 paintings for Anton Raphael Mengs\n",
      "Found 40 paintings for Angelica Kauffman\n",
      "Found 40 paintings for Benjamin West\n",
      "Found 0 paintings for Francois Gerard\n",
      "Found 27 paintings for Anne-Louis Girodet\n",
      "Found 0 paintings for Jean-Francois-Pierre Peyron\n",
      "Found 23 paintings for Antonio Canova\n",
      "Found 23 paintings for Marie-Guillemine Benoist\n",
      "Found 40 paintings for Pierre-Paul Prud'hon\n",
      "Found 0 paintings for Francois-Xavier Fabre\n",
      "\n",
      "Collection complete for neoclassicism!\n",
      "Total paintings collected: 313\n",
      "Total artists processed successfully: 9\n",
      "\n",
      "Collecting paintings for minimalism movement...\n",
      "Number of artists to process: 12\n",
      "Found 40 paintings for Frank Stella\n",
      "Found 40 paintings for Agnes Martin\n",
      "Found 40 paintings for Robert Ryman\n",
      "Found 40 paintings for Ellsworth Kelly\n",
      "Found 40 paintings for Ad Reinhardt\n",
      "Found 40 paintings for Brice Marden\n",
      "Found 40 paintings for Jo Baer\n",
      "Found 37 paintings for Robert Mangold\n",
      "Found 16 paintings for Carmen Herrera\n",
      "Found 40 paintings for Anne Truitt\n",
      "Found 40 paintings for Donald Judd\n",
      "Found 40 paintings for Sol LeWitt\n",
      "\n",
      "Collection complete for minimalism!\n",
      "Total paintings collected: 453\n",
      "Total artists processed successfully: 12\n",
      "\n",
      "Overall Collection Summary:\n",
      "Total paintings: 9200\n",
      "Total artists: 253\n",
      "Total movements: 27\n"
     ]
    }
   ],
   "source": [
    "\n",
    "\n",
    "BASE_URL = \"https://www.wikiart.org/en/api/2\"\n",
    "\n",
    "def search_paintings_by_artist(artist_name: str, limit: int = 50) -> List[Dict]:\n",
    "    \"\"\"\n",
    "    Search for paintings by artist name, with a limit on number of paintings returned.\n",
    "    Uses the search endpoint instead of direct artist ID lookup.\n",
    "    \"\"\"\n",
    "    all_paintings = []\n",
    "    pagination_token = None\n",
    "    has_more = True\n",
    "    \n",
    "    while has_more and len(all_paintings) < limit:\n",
    "        try:\n",
    "            # Base parameters\n",
    "            params = {'term': artist_name}\n",
    "            \n",
    "            # Handle pagination token separately\n",
    "            if pagination_token:\n",
    "                params['paginationToken'] = pagination_token\n",
    "            \n",
    "            # Construct URL\n",
    "            url = f\"{BASE_URL}/PaintingSearch\"\n",
    "            param_strings = []\n",
    "            for key, value in params.items():\n",
    "                if key == 'paginationToken':\n",
    "                    param_strings.append(f\"{key}={value}\")\n",
    "                else:\n",
    "                    param_strings.append(f\"{key}={requests.utils.quote(str(value))}\")\n",
    "            \n",
    "            url = f\"{url}?{'&'.join(param_strings)}\"\n",
    "            \n",
    "            # Make request\n",
    "            response = requests.get(url)\n",
    "            response.raise_for_status()\n",
    "            data = response.json()\n",
    "            \n",
    "            if not data or 'data' not in data:\n",
    "                print(f\"No data returned for artist {artist_name}\")\n",
    "                break\n",
    "            \n",
    "            # Filter results to only include works by this exact artist\n",
    "            # (search might return similar names)\n",
    "            filtered_paintings = [\n",
    "                p for p in data['data'] \n",
    "                if p.get('artistName', '').lower() == artist_name.lower()\n",
    "            ]\n",
    "            \n",
    "            # Add filtered paintings up to the limit\n",
    "            remaining = limit - len(all_paintings)\n",
    "            all_paintings.extend(filtered_paintings[:remaining])\n",
    "            \n",
    "            # Update pagination info\n",
    "            has_more = data.get('hasMore', False) and len(all_paintings) < limit\n",
    "            pagination_token = data.get('paginationToken')\n",
    "            \n",
    "            if has_more:\n",
    "                time.sleep(0.5)  # Small delay between requests\n",
    "                \n",
    "        except Exception as e:\n",
    "            print(f\"Error retrieving paintings for artist {artist_name}: {str(e)}\")\n",
    "            break\n",
    "            \n",
    "    return all_paintings\n",
    "\n",
    "def collect_paintings_by_movement(art_movements: Dict[str, List[str]], \n",
    "                                movement: str,\n",
    "                                paintings_per_artist: int = 50) -> pd.DataFrame:\n",
    "    \"\"\"\n",
    "    Collect paintings for all artists in a specific movement.\n",
    "    \n",
    "    Args:\n",
    "        art_movements: Dictionary mapping movements to lists of artists\n",
    "        movement: Name of the movement to collect paintings for\n",
    "        paintings_per_artist: Maximum number of paintings to collect per artist\n",
    "    \n",
    "    Returns:\n",
    "        DataFrame containing collected paintings with movement information\n",
    "    \"\"\"\n",
    "    all_paintings = []\n",
    "    artists = art_movements.get(movement, [])\n",
    "    \n",
    "    if not artists:\n",
    "        print(f\"No artists found for movement: {movement}\")\n",
    "        return pd.DataFrame()\n",
    "    \n",
    "    print(f\"\\nCollecting paintings for {movement} movement...\")\n",
    "    print(f\"Number of artists to process: {len(artists)}\")\n",
    "    \n",
    "    for artist in artists:\n",
    "        try:\n",
    "            paintings = search_paintings_by_artist(artist, paintings_per_artist)\n",
    "            print(f\"Found {len(paintings)} paintings for {artist}\")\n",
    "            \n",
    "            # Add movement information to each painting\n",
    "            for painting in paintings:\n",
    "                painting['movement'] = movement\n",
    "                \n",
    "            all_paintings.extend(paintings)\n",
    "            \n",
    "        except Exception as e:\n",
    "            print(f\"Failed to process artist {artist}: {str(e)}\")\n",
    "            continue\n",
    "    \n",
    "    # Convert to DataFrame\n",
    "    if not all_paintings:\n",
    "        print(\"No paintings were collected\")\n",
    "        return pd.DataFrame()\n",
    "        \n",
    "    df = pd.DataFrame(all_paintings)\n",
    "    \n",
    "    print(f\"\\nCollection complete for {movement}!\")\n",
    "    print(f\"Total paintings collected: {len(df)}\")\n",
    "    print(f\"Total artists processed successfully: {df['artistName'].nunique()}\")\n",
    "    \n",
    "    return df\n",
    "\n",
    "def collect_all_movements(art_movements: Dict[str, List[str]], \n",
    "                         movements: Optional[List[str]] = None,\n",
    "                         paintings_per_artist: int = 50) -> pd.DataFrame:\n",
    "    \"\"\"\n",
    "    Collect paintings for multiple movements.\n",
    "    \n",
    "    Args:\n",
    "        art_movements: Dictionary mapping movements to lists of artists\n",
    "        movements: List of movements to collect (if None, collects all)\n",
    "        paintings_per_artist: Maximum number of paintings to collect per artist\n",
    "    \n",
    "    Returns:\n",
    "        DataFrame containing all collected paintings\n",
    "    \"\"\"\n",
    "    all_paintings_dfs = []\n",
    "    \n",
    "    if movements is None:\n",
    "        movements = list(art_movements.keys())\n",
    "    \n",
    "    for movement in movements:\n",
    "        df = collect_paintings_by_movement(art_movements, movement, paintings_per_artist)\n",
    "        if not df.empty:\n",
    "            all_paintings_dfs.append(df)\n",
    "    \n",
    "    if not all_paintings_dfs:\n",
    "        return pd.DataFrame()\n",
    "    \n",
    "    final_df = pd.concat(all_paintings_dfs, ignore_index=True)\n",
    "    \n",
    "    print(\"\\nOverall Collection Summary:\")\n",
    "    print(f\"Total paintings: {len(final_df)}\")\n",
    "    print(f\"Total artists: {final_df['artistName'].nunique()}\")\n",
    "    print(f\"Total movements: {final_df['movement'].nunique()}\")\n",
    "    \n",
    "    return final_df\n",
    "\n",
    "all_movements_df = collect_all_movements(art_movements, paintings_per_artist=40)"
   ]
  },
  {
   "cell_type": "code",
   "execution_count": 23,
   "metadata": {},
   "outputs": [
    {
     "name": "stdout",
     "output_type": "stream",
     "text": [
      "<class 'pandas.core.frame.DataFrame'>\n",
      "RangeIndex: 9200 entries, 0 to 9199\n",
      "Data columns (total 11 columns):\n",
      " #   Column            Non-Null Count  Dtype  \n",
      "---  ------            --------------  -----  \n",
      " 0   id                9200 non-null   object \n",
      " 1   title             9200 non-null   object \n",
      " 2   url               0 non-null      object \n",
      " 3   artistUrl         9200 non-null   object \n",
      " 4   artistName        9200 non-null   object \n",
      " 5   artistId          9200 non-null   object \n",
      " 6   completitionYear  7868 non-null   float64\n",
      " 7   width             9200 non-null   int64  \n",
      " 8   image             9200 non-null   object \n",
      " 9   height            9200 non-null   int64  \n",
      " 10  movement          9200 non-null   object \n",
      "dtypes: float64(1), int64(2), object(8)\n",
      "memory usage: 790.8+ KB\n"
     ]
    }
   ],
   "source": [
    "all_movements_df.info()"
   ]
  },
  {
   "cell_type": "code",
   "execution_count": 24,
   "metadata": {},
   "outputs": [
    {
     "data": {
      "text/html": [
       "<div>\n",
       "<style scoped>\n",
       "    .dataframe tbody tr th:only-of-type {\n",
       "        vertical-align: middle;\n",
       "    }\n",
       "\n",
       "    .dataframe tbody tr th {\n",
       "        vertical-align: top;\n",
       "    }\n",
       "\n",
       "    .dataframe thead th {\n",
       "        text-align: right;\n",
       "    }\n",
       "</style>\n",
       "<table border=\"1\" class=\"dataframe\">\n",
       "  <thead>\n",
       "    <tr style=\"text-align: right;\">\n",
       "      <th></th>\n",
       "      <th>id</th>\n",
       "      <th>title</th>\n",
       "      <th>url</th>\n",
       "      <th>artistUrl</th>\n",
       "      <th>artistName</th>\n",
       "      <th>artistId</th>\n",
       "      <th>completitionYear</th>\n",
       "      <th>width</th>\n",
       "      <th>image</th>\n",
       "      <th>height</th>\n",
       "      <th>movement</th>\n",
       "    </tr>\n",
       "  </thead>\n",
       "  <tbody>\n",
       "    <tr>\n",
       "      <th>0</th>\n",
       "      <td>57728a68edc2cb388010fa7e</td>\n",
       "      <td>Adelina Morton</td>\n",
       "      <td>None</td>\n",
       "      <td>joshua-johnson</td>\n",
       "      <td>Joshua Johnson</td>\n",
       "      <td>57726e02edc2cb3880b55dba</td>\n",
       "      <td>1810.0</td>\n",
       "      <td>496</td>\n",
       "      <td>https://uploads5.wikiart.org/images/joshua-joh...</td>\n",
       "      <td>600</td>\n",
       "      <td>naive_art</td>\n",
       "    </tr>\n",
       "    <tr>\n",
       "      <th>1</th>\n",
       "      <td>57728a68edc2cb388010fa90</td>\n",
       "      <td>BENJAMIN FRANKLIN YOE AND SON</td>\n",
       "      <td>None</td>\n",
       "      <td>joshua-johnson</td>\n",
       "      <td>Joshua Johnson</td>\n",
       "      <td>57726e02edc2cb3880b55dba</td>\n",
       "      <td>1810.0</td>\n",
       "      <td>483</td>\n",
       "      <td>https://uploads2.wikiart.org/images/joshua-joh...</td>\n",
       "      <td>600</td>\n",
       "      <td>naive_art</td>\n",
       "    </tr>\n",
       "    <tr>\n",
       "      <th>2</th>\n",
       "      <td>57728a69edc2cb388010faa0</td>\n",
       "      <td>Edward and Sarah Rutter</td>\n",
       "      <td>None</td>\n",
       "      <td>joshua-johnson</td>\n",
       "      <td>Joshua Johnson</td>\n",
       "      <td>57726e02edc2cb3880b55dba</td>\n",
       "      <td>1805.0</td>\n",
       "      <td>450</td>\n",
       "      <td>https://uploads4.wikiart.org/images/joshua-joh...</td>\n",
       "      <td>507</td>\n",
       "      <td>naive_art</td>\n",
       "    </tr>\n",
       "    <tr>\n",
       "      <th>3</th>\n",
       "      <td>57728a69edc2cb388010fab0</td>\n",
       "      <td>Family Group</td>\n",
       "      <td>None</td>\n",
       "      <td>joshua-johnson</td>\n",
       "      <td>Joshua Johnson</td>\n",
       "      <td>57726e02edc2cb3880b55dba</td>\n",
       "      <td>1800.0</td>\n",
       "      <td>750</td>\n",
       "      <td>https://uploads3.wikiart.org/images/joshua-joh...</td>\n",
       "      <td>483</td>\n",
       "      <td>naive_art</td>\n",
       "    </tr>\n",
       "    <tr>\n",
       "      <th>4</th>\n",
       "      <td>57728a69edc2cb388010fac0</td>\n",
       "      <td>Girl Wearing a Bonnet</td>\n",
       "      <td>None</td>\n",
       "      <td>joshua-johnson</td>\n",
       "      <td>Joshua Johnson</td>\n",
       "      <td>57726e02edc2cb3880b55dba</td>\n",
       "      <td>1810.0</td>\n",
       "      <td>504</td>\n",
       "      <td>https://uploads3.wikiart.org/images/joshua-joh...</td>\n",
       "      <td>600</td>\n",
       "      <td>naive_art</td>\n",
       "    </tr>\n",
       "  </tbody>\n",
       "</table>\n",
       "</div>"
      ],
      "text/plain": [
       "                         id                          title   url  \\\n",
       "0  57728a68edc2cb388010fa7e                 Adelina Morton  None   \n",
       "1  57728a68edc2cb388010fa90  BENJAMIN FRANKLIN YOE AND SON  None   \n",
       "2  57728a69edc2cb388010faa0        Edward and Sarah Rutter  None   \n",
       "3  57728a69edc2cb388010fab0                   Family Group  None   \n",
       "4  57728a69edc2cb388010fac0          Girl Wearing a Bonnet  None   \n",
       "\n",
       "        artistUrl      artistName                  artistId  completitionYear  \\\n",
       "0  joshua-johnson  Joshua Johnson  57726e02edc2cb3880b55dba            1810.0   \n",
       "1  joshua-johnson  Joshua Johnson  57726e02edc2cb3880b55dba            1810.0   \n",
       "2  joshua-johnson  Joshua Johnson  57726e02edc2cb3880b55dba            1805.0   \n",
       "3  joshua-johnson  Joshua Johnson  57726e02edc2cb3880b55dba            1800.0   \n",
       "4  joshua-johnson  Joshua Johnson  57726e02edc2cb3880b55dba            1810.0   \n",
       "\n",
       "   width                                              image  height   movement  \n",
       "0    496  https://uploads5.wikiart.org/images/joshua-joh...     600  naive_art  \n",
       "1    483  https://uploads2.wikiart.org/images/joshua-joh...     600  naive_art  \n",
       "2    450  https://uploads4.wikiart.org/images/joshua-joh...     507  naive_art  \n",
       "3    750  https://uploads3.wikiart.org/images/joshua-joh...     483  naive_art  \n",
       "4    504  https://uploads3.wikiart.org/images/joshua-joh...     600  naive_art  "
      ]
     },
     "execution_count": 24,
     "metadata": {},
     "output_type": "execute_result"
    }
   ],
   "source": [
    "all_movements_df.head()"
   ]
  },
  {
   "cell_type": "code",
   "execution_count": 15,
   "metadata": {},
   "outputs": [],
   "source": [
    "def download_image(image_url, save_path):\n",
    "    try:\n",
    "        # Send a GET request to the image URL\n",
    "        response = requests.get(image_url)\n",
    "        response.raise_for_status()  # Raise an exception for bad status codes\n",
    "\n",
    "        # Open the image using PIL\n",
    "        img = Image.open(BytesIO(response.content))\n",
    "\n",
    "        # Save the image\n",
    "        img.save(save_path)\n",
    "\n",
    "    except requests.exceptions.RequestException as e:\n",
    "        print(f\"Error downloading the image: {e}\")\n",
    "    except IOError as e:\n",
    "        print(f\"Error saving the image: {e}\")"
   ]
  },
  {
   "cell_type": "code",
   "execution_count": 16,
   "metadata": {},
   "outputs": [
    {
     "name": "stdout",
     "output_type": "stream",
     "text": [
      "Starting download of 9200 images...\n"
     ]
    },
    {
     "name": "stderr",
     "output_type": "stream",
     "text": [
      "  0%|          | 0/460 [00:00<?, ?it/s]"
     ]
    },
    {
     "name": "stdout",
     "output_type": "stream",
     "text": [
      "\n",
      "Completed batch. Waiting 60 seconds before next batch...\n"
     ]
    },
    {
     "name": "stderr",
     "output_type": "stream",
     "text": [
      "  0%|          | 1/460 [01:18<10:02:17, 78.73s/it]"
     ]
    },
    {
     "name": "stdout",
     "output_type": "stream",
     "text": [
      "\n",
      "Completed batch. Waiting 60 seconds before next batch...\n"
     ]
    },
    {
     "name": "stderr",
     "output_type": "stream",
     "text": [
      "  0%|          | 2/460 [02:48<10:51:46, 85.39s/it]"
     ]
    },
    {
     "name": "stdout",
     "output_type": "stream",
     "text": [
      "\n",
      "Completed batch. Waiting 60 seconds before next batch...\n"
     ]
    },
    {
     "name": "stderr",
     "output_type": "stream",
     "text": [
      "  1%|          | 3/460 [04:20<11:11:26, 88.15s/it]"
     ]
    },
    {
     "name": "stdout",
     "output_type": "stream",
     "text": [
      "\n",
      "Completed batch. Waiting 60 seconds before next batch...\n"
     ]
    },
    {
     "name": "stderr",
     "output_type": "stream",
     "text": [
      "  1%|          | 4/460 [05:52<11:21:08, 89.62s/it]"
     ]
    },
    {
     "name": "stdout",
     "output_type": "stream",
     "text": [
      "\n",
      "Completed batch. Waiting 60 seconds before next batch...\n"
     ]
    },
    {
     "name": "stderr",
     "output_type": "stream",
     "text": [
      "  1%|          | 5/460 [07:23<11:24:49, 90.31s/it]"
     ]
    },
    {
     "name": "stdout",
     "output_type": "stream",
     "text": [
      "\n",
      "Completed batch. Waiting 60 seconds before next batch...\n"
     ]
    },
    {
     "name": "stderr",
     "output_type": "stream",
     "text": [
      "  1%|▏         | 6/460 [08:54<11:23:46, 90.37s/it]"
     ]
    },
    {
     "name": "stdout",
     "output_type": "stream",
     "text": [
      "\n",
      "Completed batch. Waiting 60 seconds before next batch...\n"
     ]
    },
    {
     "name": "stderr",
     "output_type": "stream",
     "text": [
      "  2%|▏         | 7/460 [10:24<11:21:48, 90.31s/it]"
     ]
    },
    {
     "name": "stdout",
     "output_type": "stream",
     "text": [
      "\n",
      "Completed batch. Waiting 60 seconds before next batch...\n"
     ]
    },
    {
     "name": "stderr",
     "output_type": "stream",
     "text": [
      "  2%|▏         | 8/460 [11:56<11:25:40, 91.02s/it]"
     ]
    },
    {
     "name": "stdout",
     "output_type": "stream",
     "text": [
      "\n",
      "Completed batch. Waiting 60 seconds before next batch...\n"
     ]
    },
    {
     "name": "stderr",
     "output_type": "stream",
     "text": [
      "  2%|▏         | 9/460 [13:24<11:17:23, 90.12s/it]"
     ]
    },
    {
     "name": "stdout",
     "output_type": "stream",
     "text": [
      "\n",
      "Completed batch. Waiting 60 seconds before next batch...\n"
     ]
    },
    {
     "name": "stderr",
     "output_type": "stream",
     "text": [
      "  2%|▏         | 10/460 [14:50<11:04:32, 88.61s/it]"
     ]
    },
    {
     "name": "stdout",
     "output_type": "stream",
     "text": [
      "\n",
      "Completed batch. Waiting 60 seconds before next batch...\n"
     ]
    },
    {
     "name": "stderr",
     "output_type": "stream",
     "text": [
      "  2%|▏         | 11/460 [16:13<10:49:56, 86.85s/it]"
     ]
    },
    {
     "name": "stdout",
     "output_type": "stream",
     "text": [
      "\n",
      "Completed batch. Waiting 60 seconds before next batch...\n"
     ]
    },
    {
     "name": "stderr",
     "output_type": "stream",
     "text": [
      "  3%|▎         | 12/460 [17:37<10:42:28, 86.05s/it]"
     ]
    },
    {
     "name": "stdout",
     "output_type": "stream",
     "text": [
      "\n",
      "Completed batch. Waiting 60 seconds before next batch...\n"
     ]
    },
    {
     "name": "stderr",
     "output_type": "stream",
     "text": [
      "  3%|▎         | 13/460 [19:00<10:34:34, 85.18s/it]"
     ]
    },
    {
     "name": "stdout",
     "output_type": "stream",
     "text": [
      "\n",
      "Completed batch. Waiting 60 seconds before next batch...\n"
     ]
    },
    {
     "name": "stderr",
     "output_type": "stream",
     "text": [
      "  3%|▎         | 14/460 [20:21<10:23:39, 83.90s/it]"
     ]
    },
    {
     "name": "stdout",
     "output_type": "stream",
     "text": [
      "\n",
      "Completed batch. Waiting 60 seconds before next batch...\n"
     ]
    },
    {
     "name": "stderr",
     "output_type": "stream",
     "text": [
      "  3%|▎         | 15/460 [21:44<10:20:04, 83.61s/it]"
     ]
    },
    {
     "name": "stdout",
     "output_type": "stream",
     "text": [
      "\n",
      "Completed batch. Waiting 60 seconds before next batch...\n"
     ]
    },
    {
     "name": "stderr",
     "output_type": "stream",
     "text": [
      "  3%|▎         | 16/460 [23:08<10:19:59, 83.78s/it]"
     ]
    },
    {
     "name": "stdout",
     "output_type": "stream",
     "text": [
      "\n",
      "Completed batch. Waiting 60 seconds before next batch...\n"
     ]
    },
    {
     "name": "stderr",
     "output_type": "stream",
     "text": [
      "  4%|▎         | 17/460 [24:32<10:19:20, 83.88s/it]"
     ]
    },
    {
     "name": "stdout",
     "output_type": "stream",
     "text": [
      "\n",
      "Completed batch. Waiting 60 seconds before next batch...\n"
     ]
    },
    {
     "name": "stderr",
     "output_type": "stream",
     "text": [
      "  4%|▍         | 18/460 [25:56<10:18:57, 84.02s/it]"
     ]
    },
    {
     "name": "stdout",
     "output_type": "stream",
     "text": [
      "\n",
      "Completed batch. Waiting 60 seconds before next batch...\n"
     ]
    },
    {
     "name": "stderr",
     "output_type": "stream",
     "text": [
      "  4%|▍         | 19/460 [27:20<10:15:49, 83.79s/it]"
     ]
    },
    {
     "name": "stdout",
     "output_type": "stream",
     "text": [
      "\n",
      "Completed batch. Waiting 60 seconds before next batch...\n"
     ]
    },
    {
     "name": "stderr",
     "output_type": "stream",
     "text": [
      "  4%|▍         | 20/460 [28:43<10:13:52, 83.71s/it]"
     ]
    },
    {
     "name": "stdout",
     "output_type": "stream",
     "text": [
      "\n",
      "Completed batch. Waiting 60 seconds before next batch...\n"
     ]
    },
    {
     "name": "stderr",
     "output_type": "stream",
     "text": [
      "  5%|▍         | 21/460 [30:04<10:06:54, 82.95s/it]"
     ]
    },
    {
     "name": "stdout",
     "output_type": "stream",
     "text": [
      "\n",
      "Completed batch. Waiting 60 seconds before next batch...\n"
     ]
    },
    {
     "name": "stderr",
     "output_type": "stream",
     "text": [
      "  5%|▍         | 22/460 [31:25<9:59:46, 82.16s/it] "
     ]
    },
    {
     "name": "stdout",
     "output_type": "stream",
     "text": [
      "\n",
      "Completed batch. Waiting 60 seconds before next batch...\n"
     ]
    },
    {
     "name": "stderr",
     "output_type": "stream",
     "text": [
      "  5%|▌         | 23/460 [32:49<10:02:46, 82.76s/it]"
     ]
    },
    {
     "name": "stdout",
     "output_type": "stream",
     "text": [
      "\n",
      "Completed batch. Waiting 60 seconds before next batch...\n"
     ]
    },
    {
     "name": "stderr",
     "output_type": "stream",
     "text": [
      "  5%|▌         | 24/460 [34:14<10:07:22, 83.58s/it]"
     ]
    },
    {
     "name": "stdout",
     "output_type": "stream",
     "text": [
      "\n",
      "Completed batch. Waiting 60 seconds before next batch...\n"
     ]
    },
    {
     "name": "stderr",
     "output_type": "stream",
     "text": [
      "  5%|▌         | 25/460 [35:39<10:08:17, 83.90s/it]"
     ]
    },
    {
     "name": "stdout",
     "output_type": "stream",
     "text": [
      "\n",
      "Completed batch. Waiting 60 seconds before next batch...\n"
     ]
    },
    {
     "name": "stderr",
     "output_type": "stream",
     "text": [
      "  6%|▌         | 26/460 [37:05<10:10:36, 84.42s/it]"
     ]
    },
    {
     "name": "stdout",
     "output_type": "stream",
     "text": [
      "Error saving the image: cannot write mode P as JPEG\n",
      "\n",
      "Completed batch. Waiting 60 seconds before next batch...\n"
     ]
    },
    {
     "name": "stderr",
     "output_type": "stream",
     "text": [
      "  6%|▌         | 27/460 [38:27<10:04:57, 83.83s/it]"
     ]
    },
    {
     "name": "stdout",
     "output_type": "stream",
     "text": [
      "\n",
      "Completed batch. Waiting 60 seconds before next batch...\n"
     ]
    },
    {
     "name": "stderr",
     "output_type": "stream",
     "text": [
      "  6%|▌         | 28/460 [39:53<10:06:58, 84.30s/it]"
     ]
    },
    {
     "name": "stdout",
     "output_type": "stream",
     "text": [
      "\n",
      "Completed batch. Waiting 60 seconds before next batch...\n"
     ]
    },
    {
     "name": "stderr",
     "output_type": "stream",
     "text": [
      "  6%|▋         | 29/460 [41:14<10:00:02, 83.53s/it]"
     ]
    },
    {
     "name": "stdout",
     "output_type": "stream",
     "text": [
      "\n",
      "Completed batch. Waiting 60 seconds before next batch...\n"
     ]
    },
    {
     "name": "stderr",
     "output_type": "stream",
     "text": [
      "  7%|▋         | 30/460 [42:39<10:02:17, 84.04s/it]"
     ]
    },
    {
     "name": "stdout",
     "output_type": "stream",
     "text": [
      "\n",
      "Completed batch. Waiting 60 seconds before next batch...\n"
     ]
    },
    {
     "name": "stderr",
     "output_type": "stream",
     "text": [
      "  7%|▋         | 31/460 [44:03<9:59:53, 83.90s/it] "
     ]
    },
    {
     "name": "stdout",
     "output_type": "stream",
     "text": [
      "\n",
      "Completed batch. Waiting 60 seconds before next batch...\n"
     ]
    },
    {
     "name": "stderr",
     "output_type": "stream",
     "text": [
      "  7%|▋         | 32/460 [45:27<9:57:45, 83.80s/it]"
     ]
    },
    {
     "name": "stdout",
     "output_type": "stream",
     "text": [
      "\n",
      "Completed batch. Waiting 60 seconds before next batch...\n"
     ]
    },
    {
     "name": "stderr",
     "output_type": "stream",
     "text": [
      "  7%|▋         | 33/460 [46:49<9:52:23, 83.24s/it]"
     ]
    },
    {
     "name": "stdout",
     "output_type": "stream",
     "text": [
      "\n",
      "Completed batch. Waiting 60 seconds before next batch...\n"
     ]
    },
    {
     "name": "stderr",
     "output_type": "stream",
     "text": [
      "  7%|▋         | 34/460 [48:11<9:49:36, 83.04s/it]"
     ]
    },
    {
     "name": "stdout",
     "output_type": "stream",
     "text": [
      "\n",
      "Completed batch. Waiting 60 seconds before next batch...\n"
     ]
    },
    {
     "name": "stderr",
     "output_type": "stream",
     "text": [
      "  8%|▊         | 35/460 [49:37<9:53:10, 83.74s/it]"
     ]
    },
    {
     "name": "stdout",
     "output_type": "stream",
     "text": [
      "\n",
      "Completed batch. Waiting 60 seconds before next batch...\n"
     ]
    },
    {
     "name": "stderr",
     "output_type": "stream",
     "text": [
      "  8%|▊         | 36/460 [51:02<9:55:21, 84.25s/it]"
     ]
    },
    {
     "name": "stdout",
     "output_type": "stream",
     "text": [
      "\n",
      "Completed batch. Waiting 60 seconds before next batch...\n"
     ]
    },
    {
     "name": "stderr",
     "output_type": "stream",
     "text": [
      "  8%|▊         | 37/460 [52:28<9:57:21, 84.73s/it]"
     ]
    },
    {
     "name": "stdout",
     "output_type": "stream",
     "text": [
      "\n",
      "Completed batch. Waiting 60 seconds before next batch...\n"
     ]
    },
    {
     "name": "stderr",
     "output_type": "stream",
     "text": [
      "  8%|▊         | 38/460 [53:54<9:58:31, 85.10s/it]"
     ]
    },
    {
     "name": "stdout",
     "output_type": "stream",
     "text": [
      "\n",
      "Completed batch. Waiting 60 seconds before next batch...\n"
     ]
    },
    {
     "name": "stderr",
     "output_type": "stream",
     "text": [
      "  8%|▊         | 39/460 [55:19<9:57:48, 85.20s/it]"
     ]
    },
    {
     "name": "stdout",
     "output_type": "stream",
     "text": [
      "Error saving the image: cannot write mode RGBA as JPEG\n",
      "\n",
      "Completed batch. Waiting 60 seconds before next batch...\n"
     ]
    },
    {
     "name": "stderr",
     "output_type": "stream",
     "text": [
      "  9%|▊         | 40/460 [56:44<9:54:49, 84.97s/it]"
     ]
    },
    {
     "name": "stdout",
     "output_type": "stream",
     "text": [
      "\n",
      "Completed batch. Waiting 60 seconds before next batch...\n"
     ]
    },
    {
     "name": "stderr",
     "output_type": "stream",
     "text": [
      "  9%|▉         | 41/460 [58:09<9:54:54, 85.19s/it]"
     ]
    },
    {
     "name": "stdout",
     "output_type": "stream",
     "text": [
      "\n",
      "Completed batch. Waiting 60 seconds before next batch...\n"
     ]
    },
    {
     "name": "stderr",
     "output_type": "stream",
     "text": [
      "  9%|▉         | 42/460 [59:34<9:51:50, 84.95s/it]"
     ]
    },
    {
     "name": "stdout",
     "output_type": "stream",
     "text": [
      "\n",
      "Completed batch. Waiting 60 seconds before next batch...\n"
     ]
    },
    {
     "name": "stderr",
     "output_type": "stream",
     "text": [
      "  9%|▉         | 43/460 [1:00:57<9:47:55, 84.59s/it]"
     ]
    },
    {
     "name": "stdout",
     "output_type": "stream",
     "text": [
      "\n",
      "Completed batch. Waiting 60 seconds before next batch...\n"
     ]
    },
    {
     "name": "stderr",
     "output_type": "stream",
     "text": [
      " 10%|▉         | 44/460 [1:02:22<9:46:48, 84.63s/it]"
     ]
    },
    {
     "name": "stdout",
     "output_type": "stream",
     "text": [
      "Error saving the image: cannot write mode RGBA as JPEG\n",
      "\n",
      "Completed batch. Waiting 60 seconds before next batch...\n"
     ]
    },
    {
     "name": "stderr",
     "output_type": "stream",
     "text": [
      " 10%|▉         | 45/460 [1:03:46<9:43:36, 84.38s/it]"
     ]
    },
    {
     "name": "stdout",
     "output_type": "stream",
     "text": [
      "\n",
      "Completed batch. Waiting 60 seconds before next batch...\n"
     ]
    },
    {
     "name": "stderr",
     "output_type": "stream",
     "text": [
      " 10%|█         | 46/460 [1:05:09<9:38:20, 83.82s/it]"
     ]
    },
    {
     "name": "stdout",
     "output_type": "stream",
     "text": [
      "\n",
      "Completed batch. Waiting 60 seconds before next batch...\n"
     ]
    },
    {
     "name": "stderr",
     "output_type": "stream",
     "text": [
      " 10%|█         | 47/460 [1:06:32<9:36:17, 83.72s/it]"
     ]
    },
    {
     "name": "stdout",
     "output_type": "stream",
     "text": [
      "\n",
      "Completed batch. Waiting 60 seconds before next batch...\n"
     ]
    },
    {
     "name": "stderr",
     "output_type": "stream",
     "text": [
      " 10%|█         | 48/460 [1:07:58<9:39:54, 84.45s/it]"
     ]
    },
    {
     "name": "stdout",
     "output_type": "stream",
     "text": [
      "\n",
      "Completed batch. Waiting 60 seconds before next batch...\n"
     ]
    },
    {
     "name": "stderr",
     "output_type": "stream",
     "text": [
      " 11%|█         | 49/460 [1:09:24<9:41:27, 84.88s/it]"
     ]
    },
    {
     "name": "stdout",
     "output_type": "stream",
     "text": [
      "\n",
      "Completed batch. Waiting 60 seconds before next batch...\n"
     ]
    },
    {
     "name": "stderr",
     "output_type": "stream",
     "text": [
      " 11%|█         | 50/460 [1:10:48<9:37:12, 84.47s/it]"
     ]
    },
    {
     "name": "stdout",
     "output_type": "stream",
     "text": [
      "\n",
      "Completed batch. Waiting 60 seconds before next batch...\n"
     ]
    },
    {
     "name": "stderr",
     "output_type": "stream",
     "text": [
      " 11%|█         | 51/460 [1:12:08<9:28:15, 83.36s/it]"
     ]
    },
    {
     "name": "stdout",
     "output_type": "stream",
     "text": [
      "\n",
      "Completed batch. Waiting 60 seconds before next batch...\n"
     ]
    },
    {
     "name": "stderr",
     "output_type": "stream",
     "text": [
      " 11%|█▏        | 52/460 [1:13:29<9:22:03, 82.65s/it]"
     ]
    },
    {
     "name": "stdout",
     "output_type": "stream",
     "text": [
      "\n",
      "Completed batch. Waiting 60 seconds before next batch...\n"
     ]
    },
    {
     "name": "stderr",
     "output_type": "stream",
     "text": [
      " 12%|█▏        | 53/460 [1:14:58<9:32:19, 84.37s/it]"
     ]
    },
    {
     "name": "stdout",
     "output_type": "stream",
     "text": [
      "\n",
      "Completed batch. Waiting 60 seconds before next batch...\n"
     ]
    },
    {
     "name": "stderr",
     "output_type": "stream",
     "text": [
      " 12%|█▏        | 54/460 [1:16:30<9:46:19, 86.65s/it]"
     ]
    },
    {
     "name": "stdout",
     "output_type": "stream",
     "text": [
      "\n",
      "Completed batch. Waiting 60 seconds before next batch...\n"
     ]
    },
    {
     "name": "stderr",
     "output_type": "stream",
     "text": [
      " 12%|█▏        | 55/460 [1:17:56<9:44:16, 86.56s/it]"
     ]
    },
    {
     "name": "stdout",
     "output_type": "stream",
     "text": [
      "\n",
      "Completed batch. Waiting 60 seconds before next batch...\n"
     ]
    },
    {
     "name": "stderr",
     "output_type": "stream",
     "text": [
      " 12%|█▏        | 56/460 [1:19:25<9:47:09, 87.20s/it]"
     ]
    },
    {
     "name": "stdout",
     "output_type": "stream",
     "text": [
      "\n",
      "Completed batch. Waiting 60 seconds before next batch...\n"
     ]
    },
    {
     "name": "stderr",
     "output_type": "stream",
     "text": [
      " 12%|█▏        | 57/460 [1:20:54<9:49:37, 87.79s/it]"
     ]
    },
    {
     "name": "stdout",
     "output_type": "stream",
     "text": [
      "\n",
      "Completed batch. Waiting 60 seconds before next batch...\n"
     ]
    },
    {
     "name": "stderr",
     "output_type": "stream",
     "text": [
      " 13%|█▎        | 58/460 [1:22:21<9:46:07, 87.48s/it]"
     ]
    },
    {
     "name": "stdout",
     "output_type": "stream",
     "text": [
      "\n",
      "Completed batch. Waiting 60 seconds before next batch...\n"
     ]
    },
    {
     "name": "stderr",
     "output_type": "stream",
     "text": [
      " 13%|█▎        | 59/460 [1:23:50<9:47:32, 87.91s/it]"
     ]
    },
    {
     "name": "stdout",
     "output_type": "stream",
     "text": [
      "\n",
      "Completed batch. Waiting 60 seconds before next batch...\n"
     ]
    },
    {
     "name": "stderr",
     "output_type": "stream",
     "text": [
      " 13%|█▎        | 60/460 [1:25:18<9:48:00, 88.20s/it]"
     ]
    },
    {
     "name": "stdout",
     "output_type": "stream",
     "text": [
      "\n",
      "Completed batch. Waiting 60 seconds before next batch...\n"
     ]
    },
    {
     "name": "stderr",
     "output_type": "stream",
     "text": [
      " 13%|█▎        | 61/460 [1:26:49<9:51:50, 89.00s/it]"
     ]
    },
    {
     "name": "stdout",
     "output_type": "stream",
     "text": [
      "\n",
      "Completed batch. Waiting 60 seconds before next batch...\n"
     ]
    },
    {
     "name": "stderr",
     "output_type": "stream",
     "text": [
      " 13%|█▎        | 62/460 [1:28:16<9:46:28, 88.41s/it]"
     ]
    },
    {
     "name": "stdout",
     "output_type": "stream",
     "text": [
      "\n",
      "Completed batch. Waiting 60 seconds before next batch...\n"
     ]
    },
    {
     "name": "stderr",
     "output_type": "stream",
     "text": [
      " 14%|█▎        | 63/460 [1:29:42<9:38:39, 87.46s/it]"
     ]
    },
    {
     "name": "stdout",
     "output_type": "stream",
     "text": [
      "\n",
      "Completed batch. Waiting 60 seconds before next batch...\n"
     ]
    },
    {
     "name": "stderr",
     "output_type": "stream",
     "text": [
      " 14%|█▍        | 64/460 [1:30:58<9:14:35, 84.03s/it]"
     ]
    },
    {
     "name": "stdout",
     "output_type": "stream",
     "text": [
      "\n",
      "Completed batch. Waiting 60 seconds before next batch...\n"
     ]
    },
    {
     "name": "stderr",
     "output_type": "stream",
     "text": [
      " 14%|█▍        | 65/460 [1:32:14<8:57:09, 81.59s/it]"
     ]
    },
    {
     "name": "stdout",
     "output_type": "stream",
     "text": [
      "\n",
      "Completed batch. Waiting 60 seconds before next batch...\n"
     ]
    },
    {
     "name": "stderr",
     "output_type": "stream",
     "text": [
      " 14%|█▍        | 66/460 [1:33:38<9:01:47, 82.51s/it]"
     ]
    },
    {
     "name": "stdout",
     "output_type": "stream",
     "text": [
      "\n",
      "Completed batch. Waiting 60 seconds before next batch...\n"
     ]
    },
    {
     "name": "stderr",
     "output_type": "stream",
     "text": [
      " 15%|█▍        | 67/460 [1:35:04<9:06:08, 83.38s/it]"
     ]
    },
    {
     "name": "stdout",
     "output_type": "stream",
     "text": [
      "\n",
      "Completed batch. Waiting 60 seconds before next batch...\n"
     ]
    },
    {
     "name": "stderr",
     "output_type": "stream",
     "text": [
      " 15%|█▍        | 68/460 [1:36:29<9:08:15, 83.92s/it]"
     ]
    },
    {
     "name": "stdout",
     "output_type": "stream",
     "text": [
      "\n",
      "Completed batch. Waiting 60 seconds before next batch...\n"
     ]
    },
    {
     "name": "stderr",
     "output_type": "stream",
     "text": [
      " 15%|█▌        | 69/460 [1:37:54<9:10:11, 84.43s/it]"
     ]
    },
    {
     "name": "stdout",
     "output_type": "stream",
     "text": [
      "\n",
      "Completed batch. Waiting 60 seconds before next batch...\n"
     ]
    },
    {
     "name": "stderr",
     "output_type": "stream",
     "text": [
      " 15%|█▌        | 70/460 [1:39:20<9:10:11, 84.64s/it]"
     ]
    },
    {
     "name": "stdout",
     "output_type": "stream",
     "text": [
      "\n",
      "Completed batch. Waiting 60 seconds before next batch...\n"
     ]
    },
    {
     "name": "stderr",
     "output_type": "stream",
     "text": [
      " 15%|█▌        | 71/460 [1:40:42<9:04:18, 83.96s/it]"
     ]
    },
    {
     "name": "stdout",
     "output_type": "stream",
     "text": [
      "\n",
      "Completed batch. Waiting 60 seconds before next batch...\n"
     ]
    },
    {
     "name": "stderr",
     "output_type": "stream",
     "text": [
      " 16%|█▌        | 72/460 [1:42:06<9:03:33, 84.05s/it]"
     ]
    },
    {
     "name": "stdout",
     "output_type": "stream",
     "text": [
      "\n",
      "Completed batch. Waiting 60 seconds before next batch...\n"
     ]
    },
    {
     "name": "stderr",
     "output_type": "stream",
     "text": [
      " 16%|█▌        | 73/460 [1:43:28<8:58:28, 83.48s/it]"
     ]
    },
    {
     "name": "stdout",
     "output_type": "stream",
     "text": [
      "\n",
      "Completed batch. Waiting 60 seconds before next batch...\n"
     ]
    },
    {
     "name": "stderr",
     "output_type": "stream",
     "text": [
      " 16%|█▌        | 74/460 [1:44:51<8:55:26, 83.23s/it]"
     ]
    },
    {
     "name": "stdout",
     "output_type": "stream",
     "text": [
      "\n",
      "Completed batch. Waiting 60 seconds before next batch...\n"
     ]
    },
    {
     "name": "stderr",
     "output_type": "stream",
     "text": [
      " 16%|█▋        | 75/460 [1:46:13<8:51:08, 82.78s/it]"
     ]
    },
    {
     "name": "stdout",
     "output_type": "stream",
     "text": [
      "\n",
      "Completed batch. Waiting 60 seconds before next batch...\n"
     ]
    },
    {
     "name": "stderr",
     "output_type": "stream",
     "text": [
      " 17%|█▋        | 76/460 [1:47:37<8:52:30, 83.20s/it]"
     ]
    },
    {
     "name": "stdout",
     "output_type": "stream",
     "text": [
      "\n",
      "Completed batch. Waiting 60 seconds before next batch...\n"
     ]
    },
    {
     "name": "stderr",
     "output_type": "stream",
     "text": [
      " 17%|█▋        | 77/460 [1:48:58<8:46:55, 82.55s/it]"
     ]
    },
    {
     "name": "stdout",
     "output_type": "stream",
     "text": [
      "\n",
      "Completed batch. Waiting 60 seconds before next batch...\n"
     ]
    },
    {
     "name": "stderr",
     "output_type": "stream",
     "text": [
      " 17%|█▋        | 78/460 [1:50:22<8:47:53, 82.91s/it]"
     ]
    },
    {
     "name": "stdout",
     "output_type": "stream",
     "text": [
      "\n",
      "Completed batch. Waiting 60 seconds before next batch...\n"
     ]
    },
    {
     "name": "stderr",
     "output_type": "stream",
     "text": [
      " 17%|█▋        | 79/460 [1:51:49<8:55:05, 84.27s/it]"
     ]
    },
    {
     "name": "stdout",
     "output_type": "stream",
     "text": [
      "\n",
      "Completed batch. Waiting 60 seconds before next batch...\n"
     ]
    },
    {
     "name": "stderr",
     "output_type": "stream",
     "text": [
      " 17%|█▋        | 80/460 [1:53:14<8:55:08, 84.50s/it]"
     ]
    },
    {
     "name": "stdout",
     "output_type": "stream",
     "text": [
      "\n",
      "Completed batch. Waiting 60 seconds before next batch...\n"
     ]
    },
    {
     "name": "stderr",
     "output_type": "stream",
     "text": [
      " 18%|█▊        | 81/460 [1:54:33<8:43:52, 82.94s/it]"
     ]
    },
    {
     "name": "stdout",
     "output_type": "stream",
     "text": [
      "\n",
      "Completed batch. Waiting 60 seconds before next batch...\n"
     ]
    },
    {
     "name": "stderr",
     "output_type": "stream",
     "text": [
      " 18%|█▊        | 82/460 [1:55:56<8:41:44, 82.82s/it]"
     ]
    },
    {
     "name": "stdout",
     "output_type": "stream",
     "text": [
      "\n",
      "Completed batch. Waiting 60 seconds before next batch...\n"
     ]
    },
    {
     "name": "stderr",
     "output_type": "stream",
     "text": [
      " 18%|█▊        | 83/460 [1:57:21<8:44:02, 83.40s/it]"
     ]
    },
    {
     "name": "stdout",
     "output_type": "stream",
     "text": [
      "Error saving the image: cannot write mode LA as JPEG\n",
      "Error saving the image: cannot write mode LA as JPEG\n",
      "\n",
      "Completed batch. Waiting 60 seconds before next batch...\n"
     ]
    },
    {
     "name": "stderr",
     "output_type": "stream",
     "text": [
      " 18%|█▊        | 84/460 [1:58:45<8:43:57, 83.61s/it]"
     ]
    },
    {
     "name": "stdout",
     "output_type": "stream",
     "text": [
      "\n",
      "Completed batch. Waiting 60 seconds before next batch...\n"
     ]
    },
    {
     "name": "stderr",
     "output_type": "stream",
     "text": [
      " 18%|█▊        | 85/460 [2:00:11<8:46:34, 84.25s/it]"
     ]
    },
    {
     "name": "stdout",
     "output_type": "stream",
     "text": [
      "\n",
      "Completed batch. Waiting 60 seconds before next batch...\n"
     ]
    },
    {
     "name": "stderr",
     "output_type": "stream",
     "text": [
      " 19%|█▊        | 86/460 [2:01:34<8:43:44, 84.02s/it]"
     ]
    },
    {
     "name": "stdout",
     "output_type": "stream",
     "text": [
      "\n",
      "Completed batch. Waiting 60 seconds before next batch...\n"
     ]
    },
    {
     "name": "stderr",
     "output_type": "stream",
     "text": [
      " 19%|█▉        | 87/460 [2:03:00<8:46:23, 84.67s/it]"
     ]
    },
    {
     "name": "stdout",
     "output_type": "stream",
     "text": [
      "\n",
      "Completed batch. Waiting 60 seconds before next batch...\n"
     ]
    },
    {
     "name": "stderr",
     "output_type": "stream",
     "text": [
      " 19%|█▉        | 88/460 [2:04:23<8:41:36, 84.13s/it]"
     ]
    },
    {
     "name": "stdout",
     "output_type": "stream",
     "text": [
      "\n",
      "Completed batch. Waiting 60 seconds before next batch...\n"
     ]
    },
    {
     "name": "stderr",
     "output_type": "stream",
     "text": [
      " 19%|█▉        | 89/460 [2:05:48<8:40:58, 84.25s/it]"
     ]
    },
    {
     "name": "stdout",
     "output_type": "stream",
     "text": [
      "\n",
      "Completed batch. Waiting 60 seconds before next batch...\n"
     ]
    },
    {
     "name": "stderr",
     "output_type": "stream",
     "text": [
      " 20%|█▉        | 90/460 [2:07:12<8:39:24, 84.23s/it]"
     ]
    },
    {
     "name": "stdout",
     "output_type": "stream",
     "text": [
      "\n",
      "Completed batch. Waiting 60 seconds before next batch...\n"
     ]
    },
    {
     "name": "stderr",
     "output_type": "stream",
     "text": [
      " 20%|█▉        | 91/460 [2:08:37<8:39:30, 84.47s/it]"
     ]
    },
    {
     "name": "stdout",
     "output_type": "stream",
     "text": [
      "\n",
      "Completed batch. Waiting 60 seconds before next batch...\n"
     ]
    },
    {
     "name": "stderr",
     "output_type": "stream",
     "text": [
      " 20%|██        | 92/460 [2:10:04<8:42:51, 85.25s/it]"
     ]
    },
    {
     "name": "stdout",
     "output_type": "stream",
     "text": [
      "\n",
      "Completed batch. Waiting 60 seconds before next batch...\n"
     ]
    },
    {
     "name": "stderr",
     "output_type": "stream",
     "text": [
      " 20%|██        | 93/460 [2:11:29<8:40:34, 85.11s/it]"
     ]
    },
    {
     "name": "stdout",
     "output_type": "stream",
     "text": [
      "\n",
      "Completed batch. Waiting 60 seconds before next batch...\n"
     ]
    },
    {
     "name": "stderr",
     "output_type": "stream",
     "text": [
      " 20%|██        | 94/460 [2:12:54<8:40:24, 85.31s/it]"
     ]
    },
    {
     "name": "stdout",
     "output_type": "stream",
     "text": [
      "\n",
      "Completed batch. Waiting 60 seconds before next batch...\n"
     ]
    },
    {
     "name": "stderr",
     "output_type": "stream",
     "text": [
      " 21%|██        | 95/460 [2:14:20<8:40:15, 85.52s/it]"
     ]
    },
    {
     "name": "stdout",
     "output_type": "stream",
     "text": [
      "\n",
      "Completed batch. Waiting 60 seconds before next batch...\n"
     ]
    },
    {
     "name": "stderr",
     "output_type": "stream",
     "text": [
      " 21%|██        | 96/460 [2:15:41<8:29:55, 84.05s/it]"
     ]
    },
    {
     "name": "stdout",
     "output_type": "stream",
     "text": [
      "\n",
      "Completed batch. Waiting 60 seconds before next batch...\n"
     ]
    },
    {
     "name": "stderr",
     "output_type": "stream",
     "text": [
      " 21%|██        | 97/460 [2:17:03<8:25:24, 83.54s/it]"
     ]
    },
    {
     "name": "stdout",
     "output_type": "stream",
     "text": [
      "\n",
      "Completed batch. Waiting 60 seconds before next batch...\n"
     ]
    },
    {
     "name": "stderr",
     "output_type": "stream",
     "text": [
      " 21%|██▏       | 98/460 [2:18:28<8:26:32, 83.96s/it]"
     ]
    },
    {
     "name": "stdout",
     "output_type": "stream",
     "text": [
      "\n",
      "Completed batch. Waiting 60 seconds before next batch...\n"
     ]
    },
    {
     "name": "stderr",
     "output_type": "stream",
     "text": [
      " 22%|██▏       | 99/460 [2:19:53<8:26:29, 84.18s/it]"
     ]
    },
    {
     "name": "stdout",
     "output_type": "stream",
     "text": [
      "\n",
      "Completed batch. Waiting 60 seconds before next batch...\n"
     ]
    },
    {
     "name": "stderr",
     "output_type": "stream",
     "text": [
      " 22%|██▏       | 100/460 [2:21:14<8:20:03, 83.34s/it]"
     ]
    },
    {
     "name": "stdout",
     "output_type": "stream",
     "text": [
      "\n",
      "Completed batch. Waiting 60 seconds before next batch...\n"
     ]
    },
    {
     "name": "stderr",
     "output_type": "stream",
     "text": [
      " 22%|██▏       | 101/460 [2:22:38<8:19:04, 83.41s/it]"
     ]
    },
    {
     "name": "stdout",
     "output_type": "stream",
     "text": [
      "\n",
      "Completed batch. Waiting 60 seconds before next batch...\n"
     ]
    },
    {
     "name": "stderr",
     "output_type": "stream",
     "text": [
      " 22%|██▏       | 102/460 [2:24:03<8:20:58, 83.96s/it]"
     ]
    },
    {
     "name": "stdout",
     "output_type": "stream",
     "text": [
      "\n",
      "Completed batch. Waiting 60 seconds before next batch...\n"
     ]
    },
    {
     "name": "stderr",
     "output_type": "stream",
     "text": [
      " 22%|██▏       | 103/460 [2:25:28<8:21:24, 84.27s/it]"
     ]
    },
    {
     "name": "stdout",
     "output_type": "stream",
     "text": [
      "\n",
      "Completed batch. Waiting 60 seconds before next batch...\n"
     ]
    },
    {
     "name": "stderr",
     "output_type": "stream",
     "text": [
      " 23%|██▎       | 104/460 [2:26:52<8:19:51, 84.25s/it]"
     ]
    },
    {
     "name": "stdout",
     "output_type": "stream",
     "text": [
      "\n",
      "Completed batch. Waiting 60 seconds before next batch...\n"
     ]
    },
    {
     "name": "stderr",
     "output_type": "stream",
     "text": [
      " 23%|██▎       | 105/460 [2:28:16<8:17:20, 84.06s/it]"
     ]
    },
    {
     "name": "stdout",
     "output_type": "stream",
     "text": [
      "\n",
      "Completed batch. Waiting 60 seconds before next batch...\n"
     ]
    },
    {
     "name": "stderr",
     "output_type": "stream",
     "text": [
      " 23%|██▎       | 106/460 [2:29:41<8:16:54, 84.22s/it]"
     ]
    },
    {
     "name": "stdout",
     "output_type": "stream",
     "text": [
      "\n",
      "Completed batch. Waiting 60 seconds before next batch...\n"
     ]
    },
    {
     "name": "stderr",
     "output_type": "stream",
     "text": [
      " 23%|██▎       | 107/460 [2:31:06<8:17:54, 84.63s/it]"
     ]
    },
    {
     "name": "stdout",
     "output_type": "stream",
     "text": [
      "\n",
      "Completed batch. Waiting 60 seconds before next batch...\n"
     ]
    },
    {
     "name": "stderr",
     "output_type": "stream",
     "text": [
      " 23%|██▎       | 108/460 [2:32:27<8:09:15, 83.40s/it]"
     ]
    },
    {
     "name": "stdout",
     "output_type": "stream",
     "text": [
      "\n",
      "Completed batch. Waiting 60 seconds before next batch...\n"
     ]
    },
    {
     "name": "stderr",
     "output_type": "stream",
     "text": [
      " 24%|██▎       | 109/460 [2:33:52<8:10:35, 83.86s/it]"
     ]
    },
    {
     "name": "stdout",
     "output_type": "stream",
     "text": [
      "\n",
      "Completed batch. Waiting 60 seconds before next batch...\n"
     ]
    },
    {
     "name": "stderr",
     "output_type": "stream",
     "text": [
      " 24%|██▍       | 110/460 [2:35:18<8:12:54, 84.50s/it]"
     ]
    },
    {
     "name": "stdout",
     "output_type": "stream",
     "text": [
      "\n",
      "Completed batch. Waiting 60 seconds before next batch...\n"
     ]
    },
    {
     "name": "stderr",
     "output_type": "stream",
     "text": [
      " 24%|██▍       | 111/460 [2:36:45<8:15:42, 85.22s/it]"
     ]
    },
    {
     "name": "stdout",
     "output_type": "stream",
     "text": [
      "\n",
      "Completed batch. Waiting 60 seconds before next batch...\n"
     ]
    },
    {
     "name": "stderr",
     "output_type": "stream",
     "text": [
      " 24%|██▍       | 112/460 [2:38:11<8:16:11, 85.55s/it]"
     ]
    },
    {
     "name": "stdout",
     "output_type": "stream",
     "text": [
      "\n",
      "Completed batch. Waiting 60 seconds before next batch...\n"
     ]
    },
    {
     "name": "stderr",
     "output_type": "stream",
     "text": [
      " 25%|██▍       | 113/460 [2:39:37<8:16:15, 85.81s/it]"
     ]
    },
    {
     "name": "stdout",
     "output_type": "stream",
     "text": [
      "\n",
      "Completed batch. Waiting 60 seconds before next batch...\n"
     ]
    },
    {
     "name": "stderr",
     "output_type": "stream",
     "text": [
      " 25%|██▍       | 114/460 [2:41:01<8:10:15, 85.02s/it]"
     ]
    },
    {
     "name": "stdout",
     "output_type": "stream",
     "text": [
      "\n",
      "Completed batch. Waiting 60 seconds before next batch...\n"
     ]
    },
    {
     "name": "stderr",
     "output_type": "stream",
     "text": [
      " 25%|██▌       | 115/460 [2:42:25<8:07:19, 84.75s/it]"
     ]
    },
    {
     "name": "stdout",
     "output_type": "stream",
     "text": [
      "\n",
      "Completed batch. Waiting 60 seconds before next batch...\n"
     ]
    },
    {
     "name": "stderr",
     "output_type": "stream",
     "text": [
      " 25%|██▌       | 116/460 [2:43:46<7:59:20, 83.61s/it]"
     ]
    },
    {
     "name": "stdout",
     "output_type": "stream",
     "text": [
      "\n",
      "Completed batch. Waiting 60 seconds before next batch...\n"
     ]
    },
    {
     "name": "stderr",
     "output_type": "stream",
     "text": [
      " 25%|██▌       | 117/460 [2:45:10<7:59:08, 83.81s/it]"
     ]
    },
    {
     "name": "stdout",
     "output_type": "stream",
     "text": [
      "\n",
      "Completed batch. Waiting 60 seconds before next batch...\n"
     ]
    },
    {
     "name": "stderr",
     "output_type": "stream",
     "text": [
      " 26%|██▌       | 118/460 [2:46:34<7:57:51, 83.84s/it]"
     ]
    },
    {
     "name": "stdout",
     "output_type": "stream",
     "text": [
      "\n",
      "Completed batch. Waiting 60 seconds before next batch...\n"
     ]
    },
    {
     "name": "stderr",
     "output_type": "stream",
     "text": [
      " 26%|██▌       | 119/460 [2:47:56<7:53:03, 83.24s/it]"
     ]
    },
    {
     "name": "stdout",
     "output_type": "stream",
     "text": [
      "\n",
      "Completed batch. Waiting 60 seconds before next batch...\n"
     ]
    },
    {
     "name": "stderr",
     "output_type": "stream",
     "text": [
      " 26%|██▌       | 120/460 [2:49:21<7:54:56, 83.81s/it]"
     ]
    },
    {
     "name": "stdout",
     "output_type": "stream",
     "text": [
      "\n",
      "Completed batch. Waiting 60 seconds before next batch...\n"
     ]
    },
    {
     "name": "stderr",
     "output_type": "stream",
     "text": [
      " 26%|██▋       | 121/460 [2:50:45<7:53:34, 83.82s/it]"
     ]
    },
    {
     "name": "stdout",
     "output_type": "stream",
     "text": [
      "\n",
      "Completed batch. Waiting 60 seconds before next batch...\n"
     ]
    },
    {
     "name": "stderr",
     "output_type": "stream",
     "text": [
      " 27%|██▋       | 122/460 [2:52:09<7:53:36, 84.07s/it]"
     ]
    },
    {
     "name": "stdout",
     "output_type": "stream",
     "text": [
      "\n",
      "Completed batch. Waiting 60 seconds before next batch...\n"
     ]
    },
    {
     "name": "stderr",
     "output_type": "stream",
     "text": [
      " 27%|██▋       | 123/460 [2:53:36<7:57:25, 85.00s/it]"
     ]
    },
    {
     "name": "stdout",
     "output_type": "stream",
     "text": [
      "\n",
      "Completed batch. Waiting 60 seconds before next batch...\n"
     ]
    },
    {
     "name": "stderr",
     "output_type": "stream",
     "text": [
      " 27%|██▋       | 124/460 [2:55:00<7:54:15, 84.69s/it]"
     ]
    },
    {
     "name": "stdout",
     "output_type": "stream",
     "text": [
      "\n",
      "Completed batch. Waiting 60 seconds before next batch...\n"
     ]
    },
    {
     "name": "stderr",
     "output_type": "stream",
     "text": [
      " 27%|██▋       | 125/460 [2:56:25<7:52:13, 84.58s/it]"
     ]
    },
    {
     "name": "stdout",
     "output_type": "stream",
     "text": [
      "\n",
      "Completed batch. Waiting 60 seconds before next batch...\n"
     ]
    },
    {
     "name": "stderr",
     "output_type": "stream",
     "text": [
      " 27%|██▋       | 126/460 [2:57:40<7:36:03, 81.93s/it]"
     ]
    },
    {
     "name": "stdout",
     "output_type": "stream",
     "text": [
      "\n",
      "Completed batch. Waiting 60 seconds before next batch...\n"
     ]
    },
    {
     "name": "stderr",
     "output_type": "stream",
     "text": [
      " 28%|██▊       | 127/460 [2:58:57<7:25:57, 80.35s/it]"
     ]
    },
    {
     "name": "stdout",
     "output_type": "stream",
     "text": [
      "\n",
      "Completed batch. Waiting 60 seconds before next batch...\n"
     ]
    },
    {
     "name": "stderr",
     "output_type": "stream",
     "text": [
      " 28%|██▊       | 128/460 [3:00:20<7:29:25, 81.22s/it]"
     ]
    },
    {
     "name": "stdout",
     "output_type": "stream",
     "text": [
      "\n",
      "Completed batch. Waiting 60 seconds before next batch...\n"
     ]
    },
    {
     "name": "stderr",
     "output_type": "stream",
     "text": [
      " 28%|██▊       | 129/460 [3:01:45<7:34:03, 82.31s/it]"
     ]
    },
    {
     "name": "stdout",
     "output_type": "stream",
     "text": [
      "\n",
      "Completed batch. Waiting 60 seconds before next batch...\n"
     ]
    },
    {
     "name": "stderr",
     "output_type": "stream",
     "text": [
      " 28%|██▊       | 130/460 [3:03:08<7:33:57, 82.54s/it]"
     ]
    },
    {
     "name": "stdout",
     "output_type": "stream",
     "text": [
      "\n",
      "Completed batch. Waiting 60 seconds before next batch...\n"
     ]
    },
    {
     "name": "stderr",
     "output_type": "stream",
     "text": [
      " 28%|██▊       | 131/460 [3:04:24<7:21:26, 80.50s/it]"
     ]
    },
    {
     "name": "stdout",
     "output_type": "stream",
     "text": [
      "\n",
      "Completed batch. Waiting 60 seconds before next batch...\n"
     ]
    },
    {
     "name": "stderr",
     "output_type": "stream",
     "text": [
      " 29%|██▊       | 132/460 [3:05:44<7:19:30, 80.40s/it]"
     ]
    },
    {
     "name": "stdout",
     "output_type": "stream",
     "text": [
      "\n",
      "Completed batch. Waiting 60 seconds before next batch...\n"
     ]
    },
    {
     "name": "stderr",
     "output_type": "stream",
     "text": [
      " 29%|██▉       | 133/460 [3:07:10<7:27:27, 82.10s/it]"
     ]
    },
    {
     "name": "stdout",
     "output_type": "stream",
     "text": [
      "\n",
      "Completed batch. Waiting 60 seconds before next batch...\n"
     ]
    },
    {
     "name": "stderr",
     "output_type": "stream",
     "text": [
      " 29%|██▉       | 134/460 [3:08:36<7:31:55, 83.18s/it]"
     ]
    },
    {
     "name": "stdout",
     "output_type": "stream",
     "text": [
      "\n",
      "Completed batch. Waiting 60 seconds before next batch...\n"
     ]
    },
    {
     "name": "stderr",
     "output_type": "stream",
     "text": [
      " 29%|██▉       | 135/460 [3:10:02<7:34:42, 83.95s/it]"
     ]
    },
    {
     "name": "stdout",
     "output_type": "stream",
     "text": [
      "\n",
      "Completed batch. Waiting 60 seconds before next batch...\n"
     ]
    },
    {
     "name": "stderr",
     "output_type": "stream",
     "text": [
      " 30%|██▉       | 136/460 [3:11:28<7:36:54, 84.61s/it]"
     ]
    },
    {
     "name": "stdout",
     "output_type": "stream",
     "text": [
      "\n",
      "Completed batch. Waiting 60 seconds before next batch...\n"
     ]
    },
    {
     "name": "stderr",
     "output_type": "stream",
     "text": [
      " 30%|██▉       | 137/460 [3:12:53<7:36:04, 84.72s/it]"
     ]
    },
    {
     "name": "stdout",
     "output_type": "stream",
     "text": [
      "\n",
      "Completed batch. Waiting 60 seconds before next batch...\n"
     ]
    },
    {
     "name": "stderr",
     "output_type": "stream",
     "text": [
      " 30%|███       | 138/460 [3:14:19<7:37:08, 85.18s/it]"
     ]
    },
    {
     "name": "stdout",
     "output_type": "stream",
     "text": [
      "\n",
      "Completed batch. Waiting 60 seconds before next batch...\n"
     ]
    },
    {
     "name": "stderr",
     "output_type": "stream",
     "text": [
      " 30%|███       | 139/460 [3:15:44<7:35:02, 85.05s/it]"
     ]
    },
    {
     "name": "stdout",
     "output_type": "stream",
     "text": [
      "\n",
      "Completed batch. Waiting 60 seconds before next batch...\n"
     ]
    },
    {
     "name": "stderr",
     "output_type": "stream",
     "text": [
      " 30%|███       | 140/460 [3:17:09<7:33:39, 85.06s/it]"
     ]
    },
    {
     "name": "stdout",
     "output_type": "stream",
     "text": [
      "\n",
      "Completed batch. Waiting 60 seconds before next batch...\n"
     ]
    },
    {
     "name": "stderr",
     "output_type": "stream",
     "text": [
      " 31%|███       | 141/460 [3:18:34<7:32:44, 85.16s/it]"
     ]
    },
    {
     "name": "stdout",
     "output_type": "stream",
     "text": [
      "\n",
      "Completed batch. Waiting 60 seconds before next batch...\n"
     ]
    },
    {
     "name": "stderr",
     "output_type": "stream",
     "text": [
      " 31%|███       | 142/460 [3:19:57<7:26:52, 84.32s/it]"
     ]
    },
    {
     "name": "stdout",
     "output_type": "stream",
     "text": [
      "Error saving the image: cannot write mode RGBA as JPEG\n",
      "\n",
      "Completed batch. Waiting 60 seconds before next batch...\n"
     ]
    },
    {
     "name": "stderr",
     "output_type": "stream",
     "text": [
      " 31%|███       | 143/460 [3:21:21<7:24:45, 84.18s/it]"
     ]
    },
    {
     "name": "stdout",
     "output_type": "stream",
     "text": [
      "\n",
      "Completed batch. Waiting 60 seconds before next batch...\n"
     ]
    },
    {
     "name": "stderr",
     "output_type": "stream",
     "text": [
      " 31%|███▏      | 144/460 [3:22:47<7:26:42, 84.82s/it]"
     ]
    },
    {
     "name": "stdout",
     "output_type": "stream",
     "text": [
      "\n",
      "Completed batch. Waiting 60 seconds before next batch...\n"
     ]
    },
    {
     "name": "stderr",
     "output_type": "stream",
     "text": [
      " 32%|███▏      | 145/460 [3:24:11<7:24:52, 84.74s/it]"
     ]
    },
    {
     "name": "stdout",
     "output_type": "stream",
     "text": [
      "Error saving the image: cannot write mode RGBA as JPEG\n",
      "\n",
      "Completed batch. Waiting 60 seconds before next batch...\n"
     ]
    },
    {
     "name": "stderr",
     "output_type": "stream",
     "text": [
      " 32%|███▏      | 146/460 [3:25:36<7:23:34, 84.76s/it]"
     ]
    },
    {
     "name": "stdout",
     "output_type": "stream",
     "text": [
      "\n",
      "Completed batch. Waiting 60 seconds before next batch...\n"
     ]
    },
    {
     "name": "stderr",
     "output_type": "stream",
     "text": [
      " 32%|███▏      | 147/460 [3:27:00<7:20:57, 84.53s/it]"
     ]
    },
    {
     "name": "stdout",
     "output_type": "stream",
     "text": [
      "\n",
      "Completed batch. Waiting 60 seconds before next batch...\n"
     ]
    },
    {
     "name": "stderr",
     "output_type": "stream",
     "text": [
      " 32%|███▏      | 148/460 [3:28:25<7:19:47, 84.58s/it]"
     ]
    },
    {
     "name": "stdout",
     "output_type": "stream",
     "text": [
      "\n",
      "Completed batch. Waiting 60 seconds before next batch...\n"
     ]
    },
    {
     "name": "stderr",
     "output_type": "stream",
     "text": [
      " 32%|███▏      | 149/460 [3:29:49<7:18:05, 84.52s/it]"
     ]
    },
    {
     "name": "stdout",
     "output_type": "stream",
     "text": [
      "\n",
      "Completed batch. Waiting 60 seconds before next batch...\n"
     ]
    },
    {
     "name": "stderr",
     "output_type": "stream",
     "text": [
      " 33%|███▎      | 150/460 [3:31:15<7:17:56, 84.76s/it]"
     ]
    },
    {
     "name": "stdout",
     "output_type": "stream",
     "text": [
      "Error saving the image: cannot write mode RGBA as JPEG\n",
      "Error saving the image: cannot write mode RGBA as JPEG\n",
      "\n",
      "Completed batch. Waiting 60 seconds before next batch...\n"
     ]
    },
    {
     "name": "stderr",
     "output_type": "stream",
     "text": [
      " 33%|███▎      | 151/460 [3:32:41<7:18:22, 85.12s/it]"
     ]
    },
    {
     "name": "stdout",
     "output_type": "stream",
     "text": [
      "\n",
      "Completed batch. Waiting 60 seconds before next batch...\n"
     ]
    },
    {
     "name": "stderr",
     "output_type": "stream",
     "text": [
      " 33%|███▎      | 152/460 [3:34:06<7:17:59, 85.32s/it]"
     ]
    },
    {
     "name": "stdout",
     "output_type": "stream",
     "text": [
      "Error saving the image: cannot write mode RGBA as JPEG\n",
      "\n",
      "Completed batch. Waiting 60 seconds before next batch...\n"
     ]
    },
    {
     "name": "stderr",
     "output_type": "stream",
     "text": [
      " 33%|███▎      | 153/460 [3:35:32<7:16:18, 85.27s/it]"
     ]
    },
    {
     "name": "stdout",
     "output_type": "stream",
     "text": [
      "\n",
      "Completed batch. Waiting 60 seconds before next batch...\n"
     ]
    },
    {
     "name": "stderr",
     "output_type": "stream",
     "text": [
      " 33%|███▎      | 154/460 [3:36:54<7:10:59, 84.51s/it]"
     ]
    },
    {
     "name": "stdout",
     "output_type": "stream",
     "text": [
      "\n",
      "Completed batch. Waiting 60 seconds before next batch...\n"
     ]
    },
    {
     "name": "stderr",
     "output_type": "stream",
     "text": [
      " 34%|███▎      | 155/460 [3:38:19<7:10:27, 84.68s/it]"
     ]
    },
    {
     "name": "stdout",
     "output_type": "stream",
     "text": [
      "\n",
      "Completed batch. Waiting 60 seconds before next batch...\n"
     ]
    },
    {
     "name": "stderr",
     "output_type": "stream",
     "text": [
      " 34%|███▍      | 156/460 [3:39:42<7:06:26, 84.17s/it]"
     ]
    },
    {
     "name": "stdout",
     "output_type": "stream",
     "text": [
      "\n",
      "Completed batch. Waiting 60 seconds before next batch...\n"
     ]
    },
    {
     "name": "stderr",
     "output_type": "stream",
     "text": [
      " 34%|███▍      | 157/460 [3:41:06<7:04:02, 83.97s/it]"
     ]
    },
    {
     "name": "stdout",
     "output_type": "stream",
     "text": [
      "\n",
      "Completed batch. Waiting 60 seconds before next batch...\n"
     ]
    },
    {
     "name": "stderr",
     "output_type": "stream",
     "text": [
      " 34%|███▍      | 158/460 [3:42:31<7:04:07, 84.26s/it]"
     ]
    },
    {
     "name": "stdout",
     "output_type": "stream",
     "text": [
      "\n",
      "Completed batch. Waiting 60 seconds before next batch...\n"
     ]
    },
    {
     "name": "stderr",
     "output_type": "stream",
     "text": [
      " 35%|███▍      | 159/460 [3:43:55<7:02:22, 84.19s/it]"
     ]
    },
    {
     "name": "stdout",
     "output_type": "stream",
     "text": [
      "\n",
      "Completed batch. Waiting 60 seconds before next batch...\n"
     ]
    },
    {
     "name": "stderr",
     "output_type": "stream",
     "text": [
      " 35%|███▍      | 160/460 [3:45:21<7:04:18, 84.86s/it]"
     ]
    },
    {
     "name": "stdout",
     "output_type": "stream",
     "text": [
      "\n",
      "Completed batch. Waiting 60 seconds before next batch...\n"
     ]
    },
    {
     "name": "stderr",
     "output_type": "stream",
     "text": [
      " 35%|███▌      | 161/460 [3:46:47<7:03:53, 85.06s/it]"
     ]
    },
    {
     "name": "stdout",
     "output_type": "stream",
     "text": [
      "\n",
      "Completed batch. Waiting 60 seconds before next batch...\n"
     ]
    },
    {
     "name": "stderr",
     "output_type": "stream",
     "text": [
      " 35%|███▌      | 162/460 [3:48:13<7:04:21, 85.44s/it]"
     ]
    },
    {
     "name": "stdout",
     "output_type": "stream",
     "text": [
      "\n",
      "Completed batch. Waiting 60 seconds before next batch...\n"
     ]
    },
    {
     "name": "stderr",
     "output_type": "stream",
     "text": [
      " 35%|███▌      | 163/460 [3:49:39<7:03:09, 85.49s/it]"
     ]
    },
    {
     "name": "stdout",
     "output_type": "stream",
     "text": [
      "\n",
      "Completed batch. Waiting 60 seconds before next batch...\n"
     ]
    },
    {
     "name": "stderr",
     "output_type": "stream",
     "text": [
      " 36%|███▌      | 164/460 [3:51:07<7:05:25, 86.24s/it]"
     ]
    },
    {
     "name": "stdout",
     "output_type": "stream",
     "text": [
      "\n",
      "Completed batch. Waiting 60 seconds before next batch...\n"
     ]
    },
    {
     "name": "stderr",
     "output_type": "stream",
     "text": [
      " 36%|███▌      | 165/460 [3:52:34<7:05:36, 86.57s/it]"
     ]
    },
    {
     "name": "stdout",
     "output_type": "stream",
     "text": [
      "\n",
      "Completed batch. Waiting 60 seconds before next batch...\n"
     ]
    },
    {
     "name": "stderr",
     "output_type": "stream",
     "text": [
      " 36%|███▌      | 166/460 [3:53:57<6:59:09, 85.54s/it]"
     ]
    },
    {
     "name": "stdout",
     "output_type": "stream",
     "text": [
      "\n",
      "Completed batch. Waiting 60 seconds before next batch...\n"
     ]
    },
    {
     "name": "stderr",
     "output_type": "stream",
     "text": [
      " 36%|███▋      | 167/460 [3:55:24<6:59:36, 85.93s/it]"
     ]
    },
    {
     "name": "stdout",
     "output_type": "stream",
     "text": [
      "\n",
      "Completed batch. Waiting 60 seconds before next batch...\n"
     ]
    },
    {
     "name": "stderr",
     "output_type": "stream",
     "text": [
      " 37%|███▋      | 168/460 [3:56:51<6:59:34, 86.21s/it]"
     ]
    },
    {
     "name": "stdout",
     "output_type": "stream",
     "text": [
      "\n",
      "Completed batch. Waiting 60 seconds before next batch...\n"
     ]
    },
    {
     "name": "stderr",
     "output_type": "stream",
     "text": [
      " 37%|███▋      | 169/460 [3:58:18<6:59:26, 86.48s/it]"
     ]
    },
    {
     "name": "stdout",
     "output_type": "stream",
     "text": [
      "\n",
      "Completed batch. Waiting 60 seconds before next batch...\n"
     ]
    },
    {
     "name": "stderr",
     "output_type": "stream",
     "text": [
      " 37%|███▋      | 170/460 [3:59:44<6:57:10, 86.31s/it]"
     ]
    },
    {
     "name": "stdout",
     "output_type": "stream",
     "text": [
      "\n",
      "Completed batch. Waiting 60 seconds before next batch...\n"
     ]
    },
    {
     "name": "stderr",
     "output_type": "stream",
     "text": [
      " 37%|███▋      | 171/460 [4:01:09<6:53:58, 85.95s/it]"
     ]
    },
    {
     "name": "stdout",
     "output_type": "stream",
     "text": [
      "\n",
      "Completed batch. Waiting 60 seconds before next batch...\n"
     ]
    },
    {
     "name": "stderr",
     "output_type": "stream",
     "text": [
      " 37%|███▋      | 172/460 [4:02:34<6:51:09, 85.66s/it]"
     ]
    },
    {
     "name": "stdout",
     "output_type": "stream",
     "text": [
      "\n",
      "Completed batch. Waiting 60 seconds before next batch...\n"
     ]
    },
    {
     "name": "stderr",
     "output_type": "stream",
     "text": [
      " 38%|███▊      | 173/460 [4:04:00<6:50:49, 85.89s/it]"
     ]
    },
    {
     "name": "stdout",
     "output_type": "stream",
     "text": [
      "\n",
      "Completed batch. Waiting 60 seconds before next batch...\n"
     ]
    },
    {
     "name": "stderr",
     "output_type": "stream",
     "text": [
      " 38%|███▊      | 174/460 [4:05:27<6:50:47, 86.18s/it]"
     ]
    },
    {
     "name": "stdout",
     "output_type": "stream",
     "text": [
      "\n",
      "Completed batch. Waiting 60 seconds before next batch...\n"
     ]
    },
    {
     "name": "stderr",
     "output_type": "stream",
     "text": [
      " 38%|███▊      | 175/460 [4:06:52<6:47:21, 85.76s/it]"
     ]
    },
    {
     "name": "stdout",
     "output_type": "stream",
     "text": [
      "\n",
      "Completed batch. Waiting 60 seconds before next batch...\n"
     ]
    },
    {
     "name": "stderr",
     "output_type": "stream",
     "text": [
      " 38%|███▊      | 176/460 [4:08:18<6:46:17, 85.84s/it]"
     ]
    },
    {
     "name": "stdout",
     "output_type": "stream",
     "text": [
      "\n",
      "Completed batch. Waiting 60 seconds before next batch...\n"
     ]
    },
    {
     "name": "stderr",
     "output_type": "stream",
     "text": [
      " 38%|███▊      | 177/460 [4:09:46<6:47:50, 86.47s/it]"
     ]
    },
    {
     "name": "stdout",
     "output_type": "stream",
     "text": [
      "\n",
      "Completed batch. Waiting 60 seconds before next batch...\n"
     ]
    },
    {
     "name": "stderr",
     "output_type": "stream",
     "text": [
      " 39%|███▊      | 178/460 [4:11:13<6:47:05, 86.62s/it]"
     ]
    },
    {
     "name": "stdout",
     "output_type": "stream",
     "text": [
      "\n",
      "Completed batch. Waiting 60 seconds before next batch...\n"
     ]
    },
    {
     "name": "stderr",
     "output_type": "stream",
     "text": [
      " 39%|███▉      | 179/460 [4:12:39<6:45:37, 86.61s/it]"
     ]
    },
    {
     "name": "stdout",
     "output_type": "stream",
     "text": [
      "\n",
      "Completed batch. Waiting 60 seconds before next batch...\n"
     ]
    },
    {
     "name": "stderr",
     "output_type": "stream",
     "text": [
      " 39%|███▉      | 180/460 [4:14:07<6:46:00, 87.00s/it]"
     ]
    },
    {
     "name": "stdout",
     "output_type": "stream",
     "text": [
      "\n",
      "Completed batch. Waiting 60 seconds before next batch...\n"
     ]
    },
    {
     "name": "stderr",
     "output_type": "stream",
     "text": [
      " 39%|███▉      | 181/460 [4:15:33<6:43:15, 86.72s/it]"
     ]
    },
    {
     "name": "stdout",
     "output_type": "stream",
     "text": [
      "\n",
      "Completed batch. Waiting 60 seconds before next batch...\n"
     ]
    },
    {
     "name": "stderr",
     "output_type": "stream",
     "text": [
      " 40%|███▉      | 182/460 [4:16:58<6:38:27, 86.00s/it]"
     ]
    },
    {
     "name": "stdout",
     "output_type": "stream",
     "text": [
      "Error saving the image: cannot write mode RGBA as JPEG\n",
      "\n",
      "Completed batch. Waiting 60 seconds before next batch...\n"
     ]
    },
    {
     "name": "stderr",
     "output_type": "stream",
     "text": [
      " 40%|███▉      | 183/460 [4:18:23<6:36:18, 85.84s/it]"
     ]
    },
    {
     "name": "stdout",
     "output_type": "stream",
     "text": [
      "\n",
      "Completed batch. Waiting 60 seconds before next batch...\n"
     ]
    },
    {
     "name": "stderr",
     "output_type": "stream",
     "text": [
      " 40%|████      | 184/460 [4:19:50<6:35:59, 86.08s/it]"
     ]
    },
    {
     "name": "stdout",
     "output_type": "stream",
     "text": [
      "Error downloading the image: 522 Server Error:  for url: https://uploads2.wikiart.org/shimmering-substance(1).jpg!Large.jpg\n",
      "Error downloading the image: 522 Server Error:  for url: https://uploads2.wikiart.org/stenographic-figure(1).jpg!Large.jpg\n",
      "Error downloading the image: 522 Server Error:  for url: https://uploads0.wikiart.org/circumcision-january(1).jpg\n",
      "\n",
      "Completed batch. Waiting 60 seconds before next batch...\n"
     ]
    },
    {
     "name": "stderr",
     "output_type": "stream",
     "text": [
      " 40%|████      | 185/460 [4:22:05<7:42:11, 100.84s/it]"
     ]
    },
    {
     "name": "stdout",
     "output_type": "stream",
     "text": [
      "\n",
      "Completed batch. Waiting 60 seconds before next batch...\n"
     ]
    },
    {
     "name": "stderr",
     "output_type": "stream",
     "text": [
      " 40%|████      | 186/460 [4:23:22<7:07:04, 93.52s/it] "
     ]
    },
    {
     "name": "stdout",
     "output_type": "stream",
     "text": [
      "Error downloading the image: 522 Server Error:  for url: https://uploads7.wikiart.org/images/mark-rothko/aubade.jpg!Large.jpg\n",
      "Error downloading the image: 522 Server Error:  for url: https://uploads3.wikiart.org/images/mark-rothko/cat-newyork.jpg!Large.jpg\n",
      "\n",
      "Completed batch. Waiting 60 seconds before next batch...\n"
     ]
    },
    {
     "name": "stderr",
     "output_type": "stream",
     "text": [
      " 41%|████      | 187/460 [4:26:32<9:17:41, 122.57s/it]"
     ]
    },
    {
     "name": "stdout",
     "output_type": "stream",
     "text": [
      "\n",
      "Completed batch. Waiting 60 seconds before next batch...\n"
     ]
    },
    {
     "name": "stderr",
     "output_type": "stream",
     "text": [
      " 41%|████      | 188/460 [4:27:57<8:24:07, 111.20s/it]"
     ]
    },
    {
     "name": "stdout",
     "output_type": "stream",
     "text": [
      "\n",
      "Completed batch. Waiting 60 seconds before next batch...\n"
     ]
    },
    {
     "name": "stderr",
     "output_type": "stream",
     "text": [
      " 41%|████      | 189/460 [4:29:21<7:46:03, 103.19s/it]"
     ]
    },
    {
     "name": "stdout",
     "output_type": "stream",
     "text": [
      "\n",
      "Completed batch. Waiting 60 seconds before next batch...\n"
     ]
    },
    {
     "name": "stderr",
     "output_type": "stream",
     "text": [
      " 41%|████▏     | 190/460 [4:30:48<7:22:20, 98.30s/it] "
     ]
    },
    {
     "name": "stdout",
     "output_type": "stream",
     "text": [
      "\n",
      "Completed batch. Waiting 60 seconds before next batch...\n"
     ]
    },
    {
     "name": "stderr",
     "output_type": "stream",
     "text": [
      " 42%|████▏     | 191/460 [4:32:13<7:02:46, 94.30s/it]"
     ]
    },
    {
     "name": "stdout",
     "output_type": "stream",
     "text": [
      "\n",
      "Completed batch. Waiting 60 seconds before next batch...\n"
     ]
    },
    {
     "name": "stderr",
     "output_type": "stream",
     "text": [
      " 42%|████▏     | 192/460 [4:33:38<6:49:04, 91.58s/it]"
     ]
    },
    {
     "name": "stdout",
     "output_type": "stream",
     "text": [
      "\n",
      "Completed batch. Waiting 60 seconds before next batch...\n"
     ]
    },
    {
     "name": "stderr",
     "output_type": "stream",
     "text": [
      " 42%|████▏     | 193/460 [4:35:04<6:39:50, 89.85s/it]"
     ]
    },
    {
     "name": "stdout",
     "output_type": "stream",
     "text": [
      "\n",
      "Completed batch. Waiting 60 seconds before next batch...\n"
     ]
    },
    {
     "name": "stderr",
     "output_type": "stream",
     "text": [
      " 42%|████▏     | 194/460 [4:36:29<6:31:20, 88.27s/it]"
     ]
    },
    {
     "name": "stdout",
     "output_type": "stream",
     "text": [
      "\n",
      "Completed batch. Waiting 60 seconds before next batch...\n"
     ]
    },
    {
     "name": "stderr",
     "output_type": "stream",
     "text": [
      " 42%|████▏     | 195/460 [4:37:54<6:26:29, 87.51s/it]"
     ]
    },
    {
     "name": "stdout",
     "output_type": "stream",
     "text": [
      "\n",
      "Completed batch. Waiting 60 seconds before next batch...\n"
     ]
    },
    {
     "name": "stderr",
     "output_type": "stream",
     "text": [
      " 43%|████▎     | 196/460 [4:39:19<6:20:38, 86.51s/it]"
     ]
    },
    {
     "name": "stdout",
     "output_type": "stream",
     "text": [
      "\n",
      "Completed batch. Waiting 60 seconds before next batch...\n"
     ]
    },
    {
     "name": "stderr",
     "output_type": "stream",
     "text": [
      " 43%|████▎     | 197/460 [4:40:43<6:16:33, 85.91s/it]"
     ]
    },
    {
     "name": "stdout",
     "output_type": "stream",
     "text": [
      "\n",
      "Completed batch. Waiting 60 seconds before next batch...\n"
     ]
    },
    {
     "name": "stderr",
     "output_type": "stream",
     "text": [
      " 43%|████▎     | 198/460 [4:42:09<6:15:46, 86.05s/it]"
     ]
    },
    {
     "name": "stdout",
     "output_type": "stream",
     "text": [
      "\n",
      "Completed batch. Waiting 60 seconds before next batch...\n"
     ]
    },
    {
     "name": "stderr",
     "output_type": "stream",
     "text": [
      " 43%|████▎     | 199/460 [4:43:36<6:14:23, 86.07s/it]"
     ]
    },
    {
     "name": "stdout",
     "output_type": "stream",
     "text": [
      "\n",
      "Completed batch. Waiting 60 seconds before next batch...\n"
     ]
    },
    {
     "name": "stderr",
     "output_type": "stream",
     "text": [
      " 43%|████▎     | 200/460 [4:44:59<6:08:59, 85.15s/it]"
     ]
    },
    {
     "name": "stdout",
     "output_type": "stream",
     "text": [
      "\n",
      "Completed batch. Waiting 60 seconds before next batch...\n"
     ]
    },
    {
     "name": "stderr",
     "output_type": "stream",
     "text": [
      " 44%|████▎     | 201/460 [4:46:25<6:08:47, 85.44s/it]"
     ]
    },
    {
     "name": "stdout",
     "output_type": "stream",
     "text": [
      "\n",
      "Completed batch. Waiting 60 seconds before next batch...\n"
     ]
    },
    {
     "name": "stderr",
     "output_type": "stream",
     "text": [
      " 44%|████▍     | 202/460 [4:47:50<6:06:35, 85.26s/it]"
     ]
    },
    {
     "name": "stdout",
     "output_type": "stream",
     "text": [
      "\n",
      "Completed batch. Waiting 60 seconds before next batch...\n"
     ]
    },
    {
     "name": "stderr",
     "output_type": "stream",
     "text": [
      " 44%|████▍     | 203/460 [4:49:15<6:05:52, 85.42s/it]"
     ]
    },
    {
     "name": "stdout",
     "output_type": "stream",
     "text": [
      "\n",
      "Completed batch. Waiting 60 seconds before next batch...\n"
     ]
    },
    {
     "name": "stderr",
     "output_type": "stream",
     "text": [
      " 44%|████▍     | 204/460 [4:50:41<6:04:41, 85.47s/it]"
     ]
    },
    {
     "name": "stdout",
     "output_type": "stream",
     "text": [
      "\n",
      "Completed batch. Waiting 60 seconds before next batch...\n"
     ]
    },
    {
     "name": "stderr",
     "output_type": "stream",
     "text": [
      " 45%|████▍     | 205/460 [4:52:03<5:59:21, 84.56s/it]"
     ]
    },
    {
     "name": "stdout",
     "output_type": "stream",
     "text": [
      "\n",
      "Completed batch. Waiting 60 seconds before next batch...\n"
     ]
    },
    {
     "name": "stderr",
     "output_type": "stream",
     "text": [
      " 45%|████▍     | 206/460 [4:53:29<5:59:09, 84.84s/it]"
     ]
    },
    {
     "name": "stdout",
     "output_type": "stream",
     "text": [
      "\n",
      "Completed batch. Waiting 60 seconds before next batch...\n"
     ]
    },
    {
     "name": "stderr",
     "output_type": "stream",
     "text": [
      " 45%|████▌     | 207/460 [4:54:56<6:00:28, 85.49s/it]"
     ]
    },
    {
     "name": "stdout",
     "output_type": "stream",
     "text": [
      "\n",
      "Completed batch. Waiting 60 seconds before next batch...\n"
     ]
    },
    {
     "name": "stderr",
     "output_type": "stream",
     "text": [
      " 45%|████▌     | 208/460 [4:56:24<6:02:20, 86.27s/it]"
     ]
    },
    {
     "name": "stdout",
     "output_type": "stream",
     "text": [
      "\n",
      "Completed batch. Waiting 60 seconds before next batch...\n"
     ]
    },
    {
     "name": "stderr",
     "output_type": "stream",
     "text": [
      " 45%|████▌     | 209/460 [4:57:51<6:01:56, 86.52s/it]"
     ]
    },
    {
     "name": "stdout",
     "output_type": "stream",
     "text": [
      "\n",
      "Completed batch. Waiting 60 seconds before next batch...\n"
     ]
    },
    {
     "name": "stderr",
     "output_type": "stream",
     "text": [
      " 46%|████▌     | 210/460 [4:59:19<6:02:34, 87.02s/it]"
     ]
    },
    {
     "name": "stdout",
     "output_type": "stream",
     "text": [
      "\n",
      "Completed batch. Waiting 60 seconds before next batch...\n"
     ]
    },
    {
     "name": "stderr",
     "output_type": "stream",
     "text": [
      " 46%|████▌     | 211/460 [5:00:46<6:01:18, 87.06s/it]"
     ]
    },
    {
     "name": "stdout",
     "output_type": "stream",
     "text": [
      "\n",
      "Completed batch. Waiting 60 seconds before next batch...\n"
     ]
    },
    {
     "name": "stderr",
     "output_type": "stream",
     "text": [
      " 46%|████▌     | 212/460 [5:02:12<5:58:38, 86.77s/it]"
     ]
    },
    {
     "name": "stdout",
     "output_type": "stream",
     "text": [
      "\n",
      "Completed batch. Waiting 60 seconds before next batch...\n"
     ]
    },
    {
     "name": "stderr",
     "output_type": "stream",
     "text": [
      " 46%|████▋     | 213/460 [5:03:37<5:53:49, 85.95s/it]"
     ]
    },
    {
     "name": "stdout",
     "output_type": "stream",
     "text": [
      "\n",
      "Completed batch. Waiting 60 seconds before next batch...\n"
     ]
    },
    {
     "name": "stderr",
     "output_type": "stream",
     "text": [
      " 47%|████▋     | 214/460 [5:05:02<5:51:49, 85.81s/it]"
     ]
    },
    {
     "name": "stdout",
     "output_type": "stream",
     "text": [
      "\n",
      "Completed batch. Waiting 60 seconds before next batch...\n"
     ]
    },
    {
     "name": "stderr",
     "output_type": "stream",
     "text": [
      " 47%|████▋     | 215/460 [5:06:29<5:51:36, 86.11s/it]"
     ]
    },
    {
     "name": "stdout",
     "output_type": "stream",
     "text": [
      "\n",
      "Completed batch. Waiting 60 seconds before next batch...\n"
     ]
    },
    {
     "name": "stderr",
     "output_type": "stream",
     "text": [
      " 47%|████▋     | 216/460 [5:07:55<5:50:06, 86.09s/it]"
     ]
    },
    {
     "name": "stdout",
     "output_type": "stream",
     "text": [
      "\n",
      "Completed batch. Waiting 60 seconds before next batch...\n"
     ]
    },
    {
     "name": "stderr",
     "output_type": "stream",
     "text": [
      " 47%|████▋     | 217/460 [5:09:22<5:49:24, 86.27s/it]"
     ]
    },
    {
     "name": "stdout",
     "output_type": "stream",
     "text": [
      "\n",
      "Completed batch. Waiting 60 seconds before next batch...\n"
     ]
    },
    {
     "name": "stderr",
     "output_type": "stream",
     "text": [
      " 47%|████▋     | 218/460 [5:10:46<5:46:20, 85.87s/it]"
     ]
    },
    {
     "name": "stdout",
     "output_type": "stream",
     "text": [
      "\n",
      "Completed batch. Waiting 60 seconds before next batch...\n"
     ]
    },
    {
     "name": "stderr",
     "output_type": "stream",
     "text": [
      " 48%|████▊     | 219/460 [5:12:14<5:46:59, 86.39s/it]"
     ]
    },
    {
     "name": "stdout",
     "output_type": "stream",
     "text": [
      "\n",
      "Completed batch. Waiting 60 seconds before next batch...\n"
     ]
    },
    {
     "name": "stderr",
     "output_type": "stream",
     "text": [
      " 48%|████▊     | 220/460 [5:13:42<5:47:48, 86.95s/it]"
     ]
    },
    {
     "name": "stdout",
     "output_type": "stream",
     "text": [
      "\n",
      "Completed batch. Waiting 60 seconds before next batch...\n"
     ]
    },
    {
     "name": "stderr",
     "output_type": "stream",
     "text": [
      " 48%|████▊     | 221/460 [5:15:10<5:46:53, 87.09s/it]"
     ]
    },
    {
     "name": "stdout",
     "output_type": "stream",
     "text": [
      "\n",
      "Completed batch. Waiting 60 seconds before next batch...\n"
     ]
    },
    {
     "name": "stderr",
     "output_type": "stream",
     "text": [
      " 48%|████▊     | 222/460 [5:16:36<5:44:30, 86.85s/it]"
     ]
    },
    {
     "name": "stdout",
     "output_type": "stream",
     "text": [
      "\n",
      "Completed batch. Waiting 60 seconds before next batch...\n"
     ]
    },
    {
     "name": "stderr",
     "output_type": "stream",
     "text": [
      " 48%|████▊     | 223/460 [5:18:03<5:42:49, 86.79s/it]"
     ]
    },
    {
     "name": "stdout",
     "output_type": "stream",
     "text": [
      "\n",
      "Completed batch. Waiting 60 seconds before next batch...\n"
     ]
    },
    {
     "name": "stderr",
     "output_type": "stream",
     "text": [
      " 49%|████▊     | 224/460 [5:19:27<5:38:47, 86.13s/it]"
     ]
    },
    {
     "name": "stdout",
     "output_type": "stream",
     "text": [
      "\n",
      "Completed batch. Waiting 60 seconds before next batch...\n"
     ]
    },
    {
     "name": "stderr",
     "output_type": "stream",
     "text": [
      " 49%|████▉     | 225/460 [5:20:53<5:36:36, 85.94s/it]"
     ]
    },
    {
     "name": "stdout",
     "output_type": "stream",
     "text": [
      "\n",
      "Completed batch. Waiting 60 seconds before next batch...\n"
     ]
    },
    {
     "name": "stderr",
     "output_type": "stream",
     "text": [
      " 49%|████▉     | 226/460 [5:22:19<5:35:04, 85.92s/it]"
     ]
    },
    {
     "name": "stdout",
     "output_type": "stream",
     "text": [
      "\n",
      "Completed batch. Waiting 60 seconds before next batch...\n"
     ]
    },
    {
     "name": "stderr",
     "output_type": "stream",
     "text": [
      " 49%|████▉     | 227/460 [5:23:44<5:33:28, 85.87s/it]"
     ]
    },
    {
     "name": "stdout",
     "output_type": "stream",
     "text": [
      "\n",
      "Completed batch. Waiting 60 seconds before next batch...\n"
     ]
    },
    {
     "name": "stderr",
     "output_type": "stream",
     "text": [
      " 50%|████▉     | 228/460 [5:25:09<5:30:03, 85.36s/it]"
     ]
    },
    {
     "name": "stdout",
     "output_type": "stream",
     "text": [
      "\n",
      "Completed batch. Waiting 60 seconds before next batch...\n"
     ]
    },
    {
     "name": "stderr",
     "output_type": "stream",
     "text": [
      " 50%|████▉     | 229/460 [5:26:35<5:29:22, 85.55s/it]"
     ]
    },
    {
     "name": "stdout",
     "output_type": "stream",
     "text": [
      "\n",
      "Completed batch. Waiting 60 seconds before next batch...\n"
     ]
    },
    {
     "name": "stderr",
     "output_type": "stream",
     "text": [
      " 50%|█████     | 230/460 [5:28:02<5:29:41, 86.01s/it]"
     ]
    },
    {
     "name": "stdout",
     "output_type": "stream",
     "text": [
      "\n",
      "Completed batch. Waiting 60 seconds before next batch...\n"
     ]
    },
    {
     "name": "stderr",
     "output_type": "stream",
     "text": [
      " 50%|█████     | 231/460 [5:29:27<5:27:53, 85.91s/it]"
     ]
    },
    {
     "name": "stdout",
     "output_type": "stream",
     "text": [
      "\n",
      "Completed batch. Waiting 60 seconds before next batch...\n"
     ]
    },
    {
     "name": "stderr",
     "output_type": "stream",
     "text": [
      " 50%|█████     | 232/460 [5:30:54<5:27:29, 86.18s/it]"
     ]
    },
    {
     "name": "stdout",
     "output_type": "stream",
     "text": [
      "\n",
      "Completed batch. Waiting 60 seconds before next batch...\n"
     ]
    },
    {
     "name": "stderr",
     "output_type": "stream",
     "text": [
      " 51%|█████     | 233/460 [5:32:18<5:23:54, 85.61s/it]"
     ]
    },
    {
     "name": "stdout",
     "output_type": "stream",
     "text": [
      "\n",
      "Completed batch. Waiting 60 seconds before next batch...\n"
     ]
    },
    {
     "name": "stderr",
     "output_type": "stream",
     "text": [
      " 51%|█████     | 234/460 [5:33:43<5:21:45, 85.42s/it]"
     ]
    },
    {
     "name": "stdout",
     "output_type": "stream",
     "text": [
      "\n",
      "Completed batch. Waiting 60 seconds before next batch...\n"
     ]
    },
    {
     "name": "stderr",
     "output_type": "stream",
     "text": [
      " 51%|█████     | 235/460 [5:35:09<5:20:01, 85.34s/it]"
     ]
    },
    {
     "name": "stdout",
     "output_type": "stream",
     "text": [
      "\n",
      "Completed batch. Waiting 60 seconds before next batch...\n"
     ]
    },
    {
     "name": "stderr",
     "output_type": "stream",
     "text": [
      " 51%|█████▏    | 236/460 [5:36:31<5:15:49, 84.60s/it]"
     ]
    },
    {
     "name": "stdout",
     "output_type": "stream",
     "text": [
      "\n",
      "Completed batch. Waiting 60 seconds before next batch...\n"
     ]
    },
    {
     "name": "stderr",
     "output_type": "stream",
     "text": [
      " 52%|█████▏    | 237/460 [5:37:56<5:14:33, 84.64s/it]"
     ]
    },
    {
     "name": "stdout",
     "output_type": "stream",
     "text": [
      "\n",
      "Completed batch. Waiting 60 seconds before next batch...\n"
     ]
    },
    {
     "name": "stderr",
     "output_type": "stream",
     "text": [
      " 52%|█████▏    | 238/460 [5:39:20<5:12:10, 84.37s/it]"
     ]
    },
    {
     "name": "stdout",
     "output_type": "stream",
     "text": [
      "\n",
      "Completed batch. Waiting 60 seconds before next batch...\n"
     ]
    },
    {
     "name": "stderr",
     "output_type": "stream",
     "text": [
      " 52%|█████▏    | 239/460 [5:40:45<5:11:36, 84.60s/it]"
     ]
    },
    {
     "name": "stdout",
     "output_type": "stream",
     "text": [
      "\n",
      "Completed batch. Waiting 60 seconds before next batch...\n"
     ]
    },
    {
     "name": "stderr",
     "output_type": "stream",
     "text": [
      " 52%|█████▏    | 240/460 [5:42:09<5:09:20, 84.36s/it]"
     ]
    },
    {
     "name": "stdout",
     "output_type": "stream",
     "text": [
      "\n",
      "Completed batch. Waiting 60 seconds before next batch...\n"
     ]
    },
    {
     "name": "stderr",
     "output_type": "stream",
     "text": [
      " 52%|█████▏    | 241/460 [5:43:35<5:10:23, 85.04s/it]"
     ]
    },
    {
     "name": "stdout",
     "output_type": "stream",
     "text": [
      "Error saving the image: cannot write mode RGBA as JPEG\n",
      "\n",
      "Completed batch. Waiting 60 seconds before next batch...\n"
     ]
    },
    {
     "name": "stderr",
     "output_type": "stream",
     "text": [
      " 53%|█████▎    | 242/460 [5:45:02<5:10:24, 85.43s/it]"
     ]
    },
    {
     "name": "stdout",
     "output_type": "stream",
     "text": [
      "\n",
      "Completed batch. Waiting 60 seconds before next batch...\n"
     ]
    },
    {
     "name": "stderr",
     "output_type": "stream",
     "text": [
      " 53%|█████▎    | 243/460 [5:46:26<5:07:25, 85.00s/it]"
     ]
    },
    {
     "name": "stdout",
     "output_type": "stream",
     "text": [
      "\n",
      "Completed batch. Waiting 60 seconds before next batch...\n"
     ]
    },
    {
     "name": "stderr",
     "output_type": "stream",
     "text": [
      " 53%|█████▎    | 244/460 [5:47:50<5:05:35, 84.89s/it]"
     ]
    },
    {
     "name": "stdout",
     "output_type": "stream",
     "text": [
      "\n",
      "Completed batch. Waiting 60 seconds before next batch...\n"
     ]
    },
    {
     "name": "stderr",
     "output_type": "stream",
     "text": [
      " 53%|█████▎    | 245/460 [5:49:17<5:05:52, 85.36s/it]"
     ]
    },
    {
     "name": "stdout",
     "output_type": "stream",
     "text": [
      "\n",
      "Completed batch. Waiting 60 seconds before next batch...\n"
     ]
    },
    {
     "name": "stderr",
     "output_type": "stream",
     "text": [
      " 53%|█████▎    | 246/460 [5:50:41<5:03:23, 85.07s/it]"
     ]
    },
    {
     "name": "stdout",
     "output_type": "stream",
     "text": [
      "\n",
      "Completed batch. Waiting 60 seconds before next batch...\n"
     ]
    },
    {
     "name": "stderr",
     "output_type": "stream",
     "text": [
      " 54%|█████▎    | 247/460 [5:52:07<5:02:51, 85.31s/it]"
     ]
    },
    {
     "name": "stdout",
     "output_type": "stream",
     "text": [
      "\n",
      "Completed batch. Waiting 60 seconds before next batch...\n"
     ]
    },
    {
     "name": "stderr",
     "output_type": "stream",
     "text": [
      " 54%|█████▍    | 248/460 [5:53:34<5:03:15, 85.83s/it]"
     ]
    },
    {
     "name": "stdout",
     "output_type": "stream",
     "text": [
      "\n",
      "Completed batch. Waiting 60 seconds before next batch...\n"
     ]
    },
    {
     "name": "stderr",
     "output_type": "stream",
     "text": [
      " 54%|█████▍    | 249/460 [5:55:00<5:02:13, 85.94s/it]"
     ]
    },
    {
     "name": "stdout",
     "output_type": "stream",
     "text": [
      "\n",
      "Completed batch. Waiting 60 seconds before next batch...\n"
     ]
    },
    {
     "name": "stderr",
     "output_type": "stream",
     "text": [
      " 54%|█████▍    | 250/460 [5:56:26<4:59:59, 85.71s/it]"
     ]
    },
    {
     "name": "stdout",
     "output_type": "stream",
     "text": [
      "\n",
      "Completed batch. Waiting 60 seconds before next batch...\n"
     ]
    },
    {
     "name": "stderr",
     "output_type": "stream",
     "text": [
      " 55%|█████▍    | 251/460 [5:57:50<4:57:19, 85.35s/it]"
     ]
    },
    {
     "name": "stdout",
     "output_type": "stream",
     "text": [
      "\n",
      "Completed batch. Waiting 60 seconds before next batch...\n"
     ]
    },
    {
     "name": "stderr",
     "output_type": "stream",
     "text": [
      " 55%|█████▍    | 252/460 [5:59:15<4:55:20, 85.20s/it]"
     ]
    },
    {
     "name": "stdout",
     "output_type": "stream",
     "text": [
      "\n",
      "Completed batch. Waiting 60 seconds before next batch...\n"
     ]
    },
    {
     "name": "stderr",
     "output_type": "stream",
     "text": [
      " 55%|█████▌    | 253/460 [6:00:43<4:57:01, 86.09s/it]"
     ]
    },
    {
     "name": "stdout",
     "output_type": "stream",
     "text": [
      "\n",
      "Completed batch. Waiting 60 seconds before next batch...\n"
     ]
    },
    {
     "name": "stderr",
     "output_type": "stream",
     "text": [
      " 55%|█████▌    | 254/460 [6:02:08<4:54:34, 85.80s/it]"
     ]
    },
    {
     "name": "stdout",
     "output_type": "stream",
     "text": [
      "\n",
      "Completed batch. Waiting 60 seconds before next batch...\n"
     ]
    },
    {
     "name": "stderr",
     "output_type": "stream",
     "text": [
      " 55%|█████▌    | 255/460 [6:03:34<4:53:36, 85.94s/it]"
     ]
    },
    {
     "name": "stdout",
     "output_type": "stream",
     "text": [
      "\n",
      "Completed batch. Waiting 60 seconds before next batch...\n"
     ]
    },
    {
     "name": "stderr",
     "output_type": "stream",
     "text": [
      " 56%|█████▌    | 256/460 [6:04:59<4:50:59, 85.59s/it]"
     ]
    },
    {
     "name": "stdout",
     "output_type": "stream",
     "text": [
      "\n",
      "Completed batch. Waiting 60 seconds before next batch...\n"
     ]
    },
    {
     "name": "stderr",
     "output_type": "stream",
     "text": [
      " 56%|█████▌    | 257/460 [6:06:24<4:49:05, 85.45s/it]"
     ]
    },
    {
     "name": "stdout",
     "output_type": "stream",
     "text": [
      "\n",
      "Completed batch. Waiting 60 seconds before next batch...\n"
     ]
    },
    {
     "name": "stderr",
     "output_type": "stream",
     "text": [
      " 56%|█████▌    | 258/460 [6:07:50<4:47:50, 85.50s/it]"
     ]
    },
    {
     "name": "stdout",
     "output_type": "stream",
     "text": [
      "\n",
      "Completed batch. Waiting 60 seconds before next batch...\n"
     ]
    },
    {
     "name": "stderr",
     "output_type": "stream",
     "text": [
      " 56%|█████▋    | 259/460 [6:09:16<4:47:12, 85.73s/it]"
     ]
    },
    {
     "name": "stdout",
     "output_type": "stream",
     "text": [
      "\n",
      "Completed batch. Waiting 60 seconds before next batch...\n"
     ]
    },
    {
     "name": "stderr",
     "output_type": "stream",
     "text": [
      " 57%|█████▋    | 260/460 [6:10:42<4:46:02, 85.81s/it]"
     ]
    },
    {
     "name": "stdout",
     "output_type": "stream",
     "text": [
      "\n",
      "Completed batch. Waiting 60 seconds before next batch...\n"
     ]
    },
    {
     "name": "stderr",
     "output_type": "stream",
     "text": [
      " 57%|█████▋    | 261/460 [6:12:08<4:44:11, 85.69s/it]"
     ]
    },
    {
     "name": "stdout",
     "output_type": "stream",
     "text": [
      "\n",
      "Completed batch. Waiting 60 seconds before next batch...\n"
     ]
    },
    {
     "name": "stderr",
     "output_type": "stream",
     "text": [
      " 57%|█████▋    | 262/460 [6:13:34<4:43:20, 85.86s/it]"
     ]
    },
    {
     "name": "stdout",
     "output_type": "stream",
     "text": [
      "\n",
      "Completed batch. Waiting 60 seconds before next batch...\n"
     ]
    },
    {
     "name": "stderr",
     "output_type": "stream",
     "text": [
      " 57%|█████▋    | 263/460 [6:14:58<4:39:56, 85.26s/it]"
     ]
    },
    {
     "name": "stdout",
     "output_type": "stream",
     "text": [
      "\n",
      "Completed batch. Waiting 60 seconds before next batch...\n"
     ]
    },
    {
     "name": "stderr",
     "output_type": "stream",
     "text": [
      " 57%|█████▋    | 264/460 [6:16:25<4:39:58, 85.70s/it]"
     ]
    },
    {
     "name": "stdout",
     "output_type": "stream",
     "text": [
      "\n",
      "Completed batch. Waiting 60 seconds before next batch...\n"
     ]
    },
    {
     "name": "stderr",
     "output_type": "stream",
     "text": [
      " 58%|█████▊    | 265/460 [6:17:51<4:39:34, 86.02s/it]"
     ]
    },
    {
     "name": "stdout",
     "output_type": "stream",
     "text": [
      "\n",
      "Completed batch. Waiting 60 seconds before next batch...\n"
     ]
    },
    {
     "name": "stderr",
     "output_type": "stream",
     "text": [
      " 58%|█████▊    | 266/460 [6:19:18<4:38:33, 86.15s/it]"
     ]
    },
    {
     "name": "stdout",
     "output_type": "stream",
     "text": [
      "\n",
      "Completed batch. Waiting 60 seconds before next batch...\n"
     ]
    },
    {
     "name": "stderr",
     "output_type": "stream",
     "text": [
      " 58%|█████▊    | 267/460 [6:20:42<4:35:14, 85.57s/it]"
     ]
    },
    {
     "name": "stdout",
     "output_type": "stream",
     "text": [
      "\n",
      "Completed batch. Waiting 60 seconds before next batch...\n"
     ]
    },
    {
     "name": "stderr",
     "output_type": "stream",
     "text": [
      " 58%|█████▊    | 268/460 [6:22:10<4:36:06, 86.28s/it]"
     ]
    },
    {
     "name": "stdout",
     "output_type": "stream",
     "text": [
      "\n",
      "Completed batch. Waiting 60 seconds before next batch...\n"
     ]
    },
    {
     "name": "stderr",
     "output_type": "stream",
     "text": [
      " 58%|█████▊    | 269/460 [6:23:36<4:34:05, 86.10s/it]"
     ]
    },
    {
     "name": "stdout",
     "output_type": "stream",
     "text": [
      "\n",
      "Completed batch. Waiting 60 seconds before next batch...\n"
     ]
    },
    {
     "name": "stderr",
     "output_type": "stream",
     "text": [
      " 59%|█████▊    | 270/460 [6:25:01<4:31:56, 85.88s/it]"
     ]
    },
    {
     "name": "stdout",
     "output_type": "stream",
     "text": [
      "\n",
      "Completed batch. Waiting 60 seconds before next batch...\n"
     ]
    },
    {
     "name": "stderr",
     "output_type": "stream",
     "text": [
      " 59%|█████▉    | 271/460 [6:26:27<4:30:55, 86.01s/it]"
     ]
    },
    {
     "name": "stdout",
     "output_type": "stream",
     "text": [
      "\n",
      "Completed batch. Waiting 60 seconds before next batch...\n"
     ]
    },
    {
     "name": "stderr",
     "output_type": "stream",
     "text": [
      " 59%|█████▉    | 272/460 [6:27:52<4:28:09, 85.58s/it]"
     ]
    },
    {
     "name": "stdout",
     "output_type": "stream",
     "text": [
      "\n",
      "Completed batch. Waiting 60 seconds before next batch...\n"
     ]
    },
    {
     "name": "stderr",
     "output_type": "stream",
     "text": [
      " 59%|█████▉    | 273/460 [6:29:14<4:23:43, 84.62s/it]"
     ]
    },
    {
     "name": "stdout",
     "output_type": "stream",
     "text": [
      "Error saving the image: cannot write mode RGBA as JPEG\n",
      "\n",
      "Completed batch. Waiting 60 seconds before next batch...\n"
     ]
    },
    {
     "name": "stderr",
     "output_type": "stream",
     "text": [
      " 60%|█████▉    | 274/460 [6:30:37<4:20:09, 83.92s/it]"
     ]
    },
    {
     "name": "stdout",
     "output_type": "stream",
     "text": [
      "\n",
      "Completed batch. Waiting 60 seconds before next batch...\n"
     ]
    },
    {
     "name": "stderr",
     "output_type": "stream",
     "text": [
      " 60%|█████▉    | 275/460 [6:31:57<4:15:50, 82.97s/it]"
     ]
    },
    {
     "name": "stdout",
     "output_type": "stream",
     "text": [
      "\n",
      "Completed batch. Waiting 60 seconds before next batch...\n"
     ]
    },
    {
     "name": "stderr",
     "output_type": "stream",
     "text": [
      " 60%|██████    | 276/460 [6:33:23<4:17:01, 83.81s/it]"
     ]
    },
    {
     "name": "stdout",
     "output_type": "stream",
     "text": [
      "\n",
      "Completed batch. Waiting 60 seconds before next batch...\n"
     ]
    },
    {
     "name": "stderr",
     "output_type": "stream",
     "text": [
      " 60%|██████    | 277/460 [6:34:47<4:15:59, 83.93s/it]"
     ]
    },
    {
     "name": "stdout",
     "output_type": "stream",
     "text": [
      "\n",
      "Completed batch. Waiting 60 seconds before next batch...\n"
     ]
    },
    {
     "name": "stderr",
     "output_type": "stream",
     "text": [
      " 60%|██████    | 278/460 [6:36:14<4:17:09, 84.78s/it]"
     ]
    },
    {
     "name": "stdout",
     "output_type": "stream",
     "text": [
      "\n",
      "Completed batch. Waiting 60 seconds before next batch...\n"
     ]
    },
    {
     "name": "stderr",
     "output_type": "stream",
     "text": [
      " 61%|██████    | 279/460 [6:37:39<4:15:52, 84.82s/it]"
     ]
    },
    {
     "name": "stdout",
     "output_type": "stream",
     "text": [
      "\n",
      "Completed batch. Waiting 60 seconds before next batch...\n"
     ]
    },
    {
     "name": "stderr",
     "output_type": "stream",
     "text": [
      " 61%|██████    | 280/460 [6:39:07<4:17:49, 85.94s/it]"
     ]
    },
    {
     "name": "stdout",
     "output_type": "stream",
     "text": [
      "\n",
      "Completed batch. Waiting 60 seconds before next batch...\n"
     ]
    },
    {
     "name": "stderr",
     "output_type": "stream",
     "text": [
      " 61%|██████    | 281/460 [6:40:34<4:16:31, 85.98s/it]"
     ]
    },
    {
     "name": "stdout",
     "output_type": "stream",
     "text": [
      "\n",
      "Completed batch. Waiting 60 seconds before next batch...\n"
     ]
    },
    {
     "name": "stderr",
     "output_type": "stream",
     "text": [
      " 61%|██████▏   | 282/460 [6:41:59<4:14:43, 85.86s/it]"
     ]
    },
    {
     "name": "stdout",
     "output_type": "stream",
     "text": [
      "\n",
      "Completed batch. Waiting 60 seconds before next batch...\n"
     ]
    },
    {
     "name": "stderr",
     "output_type": "stream",
     "text": [
      " 62%|██████▏   | 283/460 [6:43:26<4:14:15, 86.19s/it]"
     ]
    },
    {
     "name": "stdout",
     "output_type": "stream",
     "text": [
      "\n",
      "Completed batch. Waiting 60 seconds before next batch...\n"
     ]
    },
    {
     "name": "stderr",
     "output_type": "stream",
     "text": [
      " 62%|██████▏   | 284/460 [6:44:53<4:13:28, 86.41s/it]"
     ]
    },
    {
     "name": "stdout",
     "output_type": "stream",
     "text": [
      "\n",
      "Completed batch. Waiting 60 seconds before next batch...\n"
     ]
    },
    {
     "name": "stderr",
     "output_type": "stream",
     "text": [
      " 62%|██████▏   | 285/460 [6:46:21<4:13:01, 86.75s/it]"
     ]
    },
    {
     "name": "stdout",
     "output_type": "stream",
     "text": [
      "\n",
      "Completed batch. Waiting 60 seconds before next batch...\n"
     ]
    },
    {
     "name": "stderr",
     "output_type": "stream",
     "text": [
      " 62%|██████▏   | 286/460 [6:47:46<4:10:36, 86.41s/it]"
     ]
    },
    {
     "name": "stdout",
     "output_type": "stream",
     "text": [
      "\n",
      "Completed batch. Waiting 60 seconds before next batch...\n"
     ]
    },
    {
     "name": "stderr",
     "output_type": "stream",
     "text": [
      " 62%|██████▏   | 287/460 [6:49:10<4:07:12, 85.74s/it]"
     ]
    },
    {
     "name": "stdout",
     "output_type": "stream",
     "text": [
      "\n",
      "Completed batch. Waiting 60 seconds before next batch...\n"
     ]
    },
    {
     "name": "stderr",
     "output_type": "stream",
     "text": [
      " 63%|██████▎   | 288/460 [6:50:37<4:06:08, 85.87s/it]"
     ]
    },
    {
     "name": "stdout",
     "output_type": "stream",
     "text": [
      "\n",
      "Completed batch. Waiting 60 seconds before next batch...\n"
     ]
    },
    {
     "name": "stderr",
     "output_type": "stream",
     "text": [
      " 63%|██████▎   | 289/460 [6:52:01<4:03:30, 85.44s/it]"
     ]
    },
    {
     "name": "stdout",
     "output_type": "stream",
     "text": [
      "\n",
      "Completed batch. Waiting 60 seconds before next batch...\n"
     ]
    },
    {
     "name": "stderr",
     "output_type": "stream",
     "text": [
      " 63%|██████▎   | 290/460 [6:53:27<4:02:14, 85.50s/it]"
     ]
    },
    {
     "name": "stdout",
     "output_type": "stream",
     "text": [
      "\n",
      "Completed batch. Waiting 60 seconds before next batch...\n"
     ]
    },
    {
     "name": "stderr",
     "output_type": "stream",
     "text": [
      " 63%|██████▎   | 291/460 [6:54:53<4:01:44, 85.82s/it]"
     ]
    },
    {
     "name": "stdout",
     "output_type": "stream",
     "text": [
      "\n",
      "Completed batch. Waiting 60 seconds before next batch...\n"
     ]
    },
    {
     "name": "stderr",
     "output_type": "stream",
     "text": [
      " 63%|██████▎   | 292/460 [6:56:19<4:00:00, 85.72s/it]"
     ]
    },
    {
     "name": "stdout",
     "output_type": "stream",
     "text": [
      "\n",
      "Completed batch. Waiting 60 seconds before next batch...\n"
     ]
    },
    {
     "name": "stderr",
     "output_type": "stream",
     "text": [
      " 64%|██████▎   | 293/460 [6:57:43<3:57:43, 85.41s/it]"
     ]
    },
    {
     "name": "stdout",
     "output_type": "stream",
     "text": [
      "\n",
      "Completed batch. Waiting 60 seconds before next batch...\n"
     ]
    },
    {
     "name": "stderr",
     "output_type": "stream",
     "text": [
      " 64%|██████▍   | 294/460 [6:59:09<3:56:20, 85.42s/it]"
     ]
    },
    {
     "name": "stdout",
     "output_type": "stream",
     "text": [
      "\n",
      "Completed batch. Waiting 60 seconds before next batch...\n"
     ]
    },
    {
     "name": "stderr",
     "output_type": "stream",
     "text": [
      " 64%|██████▍   | 295/460 [7:00:31<3:52:13, 84.44s/it]"
     ]
    },
    {
     "name": "stdout",
     "output_type": "stream",
     "text": [
      "\n",
      "Completed batch. Waiting 60 seconds before next batch...\n"
     ]
    },
    {
     "name": "stderr",
     "output_type": "stream",
     "text": [
      " 64%|██████▍   | 296/460 [7:01:56<3:51:34, 84.72s/it]"
     ]
    },
    {
     "name": "stdout",
     "output_type": "stream",
     "text": [
      "\n",
      "Completed batch. Waiting 60 seconds before next batch...\n"
     ]
    },
    {
     "name": "stderr",
     "output_type": "stream",
     "text": [
      " 65%|██████▍   | 297/460 [7:03:20<3:49:00, 84.30s/it]"
     ]
    },
    {
     "name": "stdout",
     "output_type": "stream",
     "text": [
      "Error saving the image: cannot write mode RGBA as JPEG\n",
      "\n",
      "Completed batch. Waiting 60 seconds before next batch...\n"
     ]
    },
    {
     "name": "stderr",
     "output_type": "stream",
     "text": [
      " 65%|██████▍   | 298/460 [7:04:43<3:46:43, 83.97s/it]"
     ]
    },
    {
     "name": "stdout",
     "output_type": "stream",
     "text": [
      "\n",
      "Completed batch. Waiting 60 seconds before next batch...\n"
     ]
    },
    {
     "name": "stderr",
     "output_type": "stream",
     "text": [
      " 65%|██████▌   | 299/460 [7:06:09<3:47:01, 84.60s/it]"
     ]
    },
    {
     "name": "stdout",
     "output_type": "stream",
     "text": [
      "\n",
      "Completed batch. Waiting 60 seconds before next batch...\n"
     ]
    },
    {
     "name": "stderr",
     "output_type": "stream",
     "text": [
      " 65%|██████▌   | 300/460 [7:07:33<3:44:55, 84.35s/it]"
     ]
    },
    {
     "name": "stdout",
     "output_type": "stream",
     "text": [
      "\n",
      "Completed batch. Waiting 60 seconds before next batch...\n"
     ]
    },
    {
     "name": "stderr",
     "output_type": "stream",
     "text": [
      " 65%|██████▌   | 301/460 [7:08:58<3:44:30, 84.72s/it]"
     ]
    },
    {
     "name": "stdout",
     "output_type": "stream",
     "text": [
      "\n",
      "Completed batch. Waiting 60 seconds before next batch...\n"
     ]
    },
    {
     "name": "stderr",
     "output_type": "stream",
     "text": [
      " 66%|██████▌   | 302/460 [7:10:20<3:40:54, 83.89s/it]"
     ]
    },
    {
     "name": "stdout",
     "output_type": "stream",
     "text": [
      "\n",
      "Completed batch. Waiting 60 seconds before next batch...\n"
     ]
    },
    {
     "name": "stderr",
     "output_type": "stream",
     "text": [
      " 66%|██████▌   | 303/460 [7:11:49<3:43:27, 85.40s/it]"
     ]
    },
    {
     "name": "stdout",
     "output_type": "stream",
     "text": [
      "\n",
      "Completed batch. Waiting 60 seconds before next batch...\n"
     ]
    },
    {
     "name": "stderr",
     "output_type": "stream",
     "text": [
      " 66%|██████▌   | 304/460 [7:13:15<3:42:40, 85.65s/it]"
     ]
    },
    {
     "name": "stdout",
     "output_type": "stream",
     "text": [
      "\n",
      "Completed batch. Waiting 60 seconds before next batch...\n"
     ]
    },
    {
     "name": "stderr",
     "output_type": "stream",
     "text": [
      " 66%|██████▋   | 305/460 [7:14:39<3:39:49, 85.09s/it]"
     ]
    },
    {
     "name": "stdout",
     "output_type": "stream",
     "text": [
      "\n",
      "Completed batch. Waiting 60 seconds before next batch...\n"
     ]
    },
    {
     "name": "stderr",
     "output_type": "stream",
     "text": [
      " 67%|██████▋   | 306/460 [7:16:04<3:38:14, 85.03s/it]"
     ]
    },
    {
     "name": "stdout",
     "output_type": "stream",
     "text": [
      "\n",
      "Completed batch. Waiting 60 seconds before next batch...\n"
     ]
    },
    {
     "name": "stderr",
     "output_type": "stream",
     "text": [
      " 67%|██████▋   | 307/460 [7:17:31<3:38:25, 85.66s/it]"
     ]
    },
    {
     "name": "stdout",
     "output_type": "stream",
     "text": [
      "\n",
      "Completed batch. Waiting 60 seconds before next batch...\n"
     ]
    },
    {
     "name": "stderr",
     "output_type": "stream",
     "text": [
      " 67%|██████▋   | 308/460 [7:18:57<3:37:04, 85.69s/it]"
     ]
    },
    {
     "name": "stdout",
     "output_type": "stream",
     "text": [
      "\n",
      "Completed batch. Waiting 60 seconds before next batch...\n"
     ]
    },
    {
     "name": "stderr",
     "output_type": "stream",
     "text": [
      " 67%|██████▋   | 309/460 [7:20:21<3:34:30, 85.24s/it]"
     ]
    },
    {
     "name": "stdout",
     "output_type": "stream",
     "text": [
      "\n",
      "Completed batch. Waiting 60 seconds before next batch...\n"
     ]
    },
    {
     "name": "stderr",
     "output_type": "stream",
     "text": [
      " 67%|██████▋   | 310/460 [7:21:46<3:32:28, 84.99s/it]"
     ]
    },
    {
     "name": "stdout",
     "output_type": "stream",
     "text": [
      "\n",
      "Completed batch. Waiting 60 seconds before next batch...\n"
     ]
    },
    {
     "name": "stderr",
     "output_type": "stream",
     "text": [
      " 68%|██████▊   | 311/460 [7:23:11<3:31:22, 85.12s/it]"
     ]
    },
    {
     "name": "stdout",
     "output_type": "stream",
     "text": [
      "\n",
      "Completed batch. Waiting 60 seconds before next batch...\n"
     ]
    },
    {
     "name": "stderr",
     "output_type": "stream",
     "text": [
      " 68%|██████▊   | 312/460 [7:24:35<3:28:59, 84.72s/it]"
     ]
    },
    {
     "name": "stdout",
     "output_type": "stream",
     "text": [
      "\n",
      "Completed batch. Waiting 60 seconds before next batch...\n"
     ]
    },
    {
     "name": "stderr",
     "output_type": "stream",
     "text": [
      " 68%|██████▊   | 313/460 [7:26:01<3:28:50, 85.24s/it]"
     ]
    },
    {
     "name": "stdout",
     "output_type": "stream",
     "text": [
      "\n",
      "Completed batch. Waiting 60 seconds before next batch...\n"
     ]
    },
    {
     "name": "stderr",
     "output_type": "stream",
     "text": [
      " 68%|██████▊   | 314/460 [7:27:26<3:27:15, 85.17s/it]"
     ]
    },
    {
     "name": "stdout",
     "output_type": "stream",
     "text": [
      "\n",
      "Completed batch. Waiting 60 seconds before next batch...\n"
     ]
    },
    {
     "name": "stderr",
     "output_type": "stream",
     "text": [
      " 68%|██████▊   | 315/460 [7:28:51<3:25:20, 84.97s/it]"
     ]
    },
    {
     "name": "stdout",
     "output_type": "stream",
     "text": [
      "\n",
      "Completed batch. Waiting 60 seconds before next batch...\n"
     ]
    },
    {
     "name": "stderr",
     "output_type": "stream",
     "text": [
      " 69%|██████▊   | 316/460 [7:30:16<3:23:49, 84.93s/it]"
     ]
    },
    {
     "name": "stdout",
     "output_type": "stream",
     "text": [
      "\n",
      "Completed batch. Waiting 60 seconds before next batch...\n"
     ]
    },
    {
     "name": "stderr",
     "output_type": "stream",
     "text": [
      " 69%|██████▉   | 317/460 [7:31:39<3:21:19, 84.47s/it]"
     ]
    },
    {
     "name": "stdout",
     "output_type": "stream",
     "text": [
      "\n",
      "Completed batch. Waiting 60 seconds before next batch...\n"
     ]
    },
    {
     "name": "stderr",
     "output_type": "stream",
     "text": [
      " 69%|██████▉   | 318/460 [7:33:04<3:20:30, 84.72s/it]"
     ]
    },
    {
     "name": "stdout",
     "output_type": "stream",
     "text": [
      "\n",
      "Completed batch. Waiting 60 seconds before next batch...\n"
     ]
    },
    {
     "name": "stderr",
     "output_type": "stream",
     "text": [
      " 69%|██████▉   | 319/460 [7:34:27<3:17:41, 84.12s/it]"
     ]
    },
    {
     "name": "stdout",
     "output_type": "stream",
     "text": [
      "\n",
      "Completed batch. Waiting 60 seconds before next batch...\n"
     ]
    },
    {
     "name": "stderr",
     "output_type": "stream",
     "text": [
      " 70%|██████▉   | 320/460 [7:35:52<3:16:55, 84.39s/it]"
     ]
    },
    {
     "name": "stdout",
     "output_type": "stream",
     "text": [
      "\n",
      "Completed batch. Waiting 60 seconds before next batch...\n"
     ]
    },
    {
     "name": "stderr",
     "output_type": "stream",
     "text": [
      " 70%|██████▉   | 321/460 [7:37:14<3:14:05, 83.78s/it]"
     ]
    },
    {
     "name": "stdout",
     "output_type": "stream",
     "text": [
      "\n",
      "Completed batch. Waiting 60 seconds before next batch...\n"
     ]
    },
    {
     "name": "stderr",
     "output_type": "stream",
     "text": [
      " 70%|███████   | 322/460 [7:38:38<3:12:31, 83.70s/it]"
     ]
    },
    {
     "name": "stdout",
     "output_type": "stream",
     "text": [
      "\n",
      "Completed batch. Waiting 60 seconds before next batch...\n"
     ]
    },
    {
     "name": "stderr",
     "output_type": "stream",
     "text": [
      " 70%|███████   | 323/460 [7:40:00<3:10:13, 83.31s/it]"
     ]
    },
    {
     "name": "stdout",
     "output_type": "stream",
     "text": [
      "\n",
      "Completed batch. Waiting 60 seconds before next batch...\n"
     ]
    },
    {
     "name": "stderr",
     "output_type": "stream",
     "text": [
      " 70%|███████   | 324/460 [7:41:24<3:08:59, 83.38s/it]"
     ]
    },
    {
     "name": "stdout",
     "output_type": "stream",
     "text": [
      "\n",
      "Completed batch. Waiting 60 seconds before next batch...\n"
     ]
    },
    {
     "name": "stderr",
     "output_type": "stream",
     "text": [
      " 71%|███████   | 325/460 [7:42:45<3:06:07, 82.73s/it]"
     ]
    },
    {
     "name": "stdout",
     "output_type": "stream",
     "text": [
      "\n",
      "Completed batch. Waiting 60 seconds before next batch...\n"
     ]
    },
    {
     "name": "stderr",
     "output_type": "stream",
     "text": [
      " 71%|███████   | 326/460 [7:44:05<3:03:11, 82.02s/it]"
     ]
    },
    {
     "name": "stdout",
     "output_type": "stream",
     "text": [
      "\n",
      "Completed batch. Waiting 60 seconds before next batch...\n"
     ]
    },
    {
     "name": "stderr",
     "output_type": "stream",
     "text": [
      " 71%|███████   | 327/460 [7:45:29<3:02:51, 82.49s/it]"
     ]
    },
    {
     "name": "stdout",
     "output_type": "stream",
     "text": [
      "\n",
      "Completed batch. Waiting 60 seconds before next batch...\n"
     ]
    },
    {
     "name": "stderr",
     "output_type": "stream",
     "text": [
      " 71%|███████▏  | 328/460 [7:46:52<3:01:37, 82.55s/it]"
     ]
    },
    {
     "name": "stdout",
     "output_type": "stream",
     "text": [
      "\n",
      "Completed batch. Waiting 60 seconds before next batch...\n"
     ]
    },
    {
     "name": "stderr",
     "output_type": "stream",
     "text": [
      " 72%|███████▏  | 329/460 [7:48:14<2:59:57, 82.42s/it]"
     ]
    },
    {
     "name": "stdout",
     "output_type": "stream",
     "text": [
      "\n",
      "Completed batch. Waiting 60 seconds before next batch...\n"
     ]
    },
    {
     "name": "stderr",
     "output_type": "stream",
     "text": [
      " 72%|███████▏  | 330/460 [7:49:35<2:58:03, 82.18s/it]"
     ]
    },
    {
     "name": "stdout",
     "output_type": "stream",
     "text": [
      "\n",
      "Completed batch. Waiting 60 seconds before next batch...\n"
     ]
    },
    {
     "name": "stderr",
     "output_type": "stream",
     "text": [
      " 72%|███████▏  | 331/460 [7:50:59<2:57:49, 82.71s/it]"
     ]
    },
    {
     "name": "stdout",
     "output_type": "stream",
     "text": [
      "\n",
      "Completed batch. Waiting 60 seconds before next batch...\n"
     ]
    },
    {
     "name": "stderr",
     "output_type": "stream",
     "text": [
      " 72%|███████▏  | 332/460 [7:52:22<2:56:18, 82.64s/it]"
     ]
    },
    {
     "name": "stdout",
     "output_type": "stream",
     "text": [
      "\n",
      "Completed batch. Waiting 60 seconds before next batch...\n"
     ]
    },
    {
     "name": "stderr",
     "output_type": "stream",
     "text": [
      " 72%|███████▏  | 333/460 [7:53:46<2:56:12, 83.25s/it]"
     ]
    },
    {
     "name": "stdout",
     "output_type": "stream",
     "text": [
      "\n",
      "Completed batch. Waiting 60 seconds before next batch...\n"
     ]
    },
    {
     "name": "stderr",
     "output_type": "stream",
     "text": [
      " 73%|███████▎  | 334/460 [7:55:12<2:56:30, 84.05s/it]"
     ]
    },
    {
     "name": "stdout",
     "output_type": "stream",
     "text": [
      "\n",
      "Completed batch. Waiting 60 seconds before next batch...\n"
     ]
    },
    {
     "name": "stderr",
     "output_type": "stream",
     "text": [
      " 73%|███████▎  | 335/460 [7:56:37<2:55:34, 84.27s/it]"
     ]
    },
    {
     "name": "stdout",
     "output_type": "stream",
     "text": [
      "\n",
      "Completed batch. Waiting 60 seconds before next batch...\n"
     ]
    },
    {
     "name": "stderr",
     "output_type": "stream",
     "text": [
      " 73%|███████▎  | 336/460 [7:58:01<2:53:56, 84.17s/it]"
     ]
    },
    {
     "name": "stdout",
     "output_type": "stream",
     "text": [
      "Error saving the image: cannot write mode RGBA as JPEG\n",
      "Error saving the image: cannot write mode RGBA as JPEG\n",
      "Error saving the image: cannot write mode RGBA as JPEG\n",
      "\n",
      "Completed batch. Waiting 60 seconds before next batch...\n"
     ]
    },
    {
     "name": "stderr",
     "output_type": "stream",
     "text": [
      " 73%|███████▎  | 337/460 [7:59:26<2:52:52, 84.33s/it]"
     ]
    },
    {
     "name": "stdout",
     "output_type": "stream",
     "text": [
      "Error saving the image: cannot write mode RGBA as JPEG\n",
      "Error saving the image: cannot write mode RGBA as JPEG\n",
      "Error saving the image: cannot write mode RGBA as JPEG\n",
      "Error saving the image: cannot write mode RGBA as JPEG\n",
      "Error saving the image: cannot write mode RGBA as JPEG\n",
      "Error saving the image: cannot write mode RGBA as JPEG\n",
      "Error saving the image: cannot write mode RGBA as JPEG\n",
      "Error saving the image: cannot write mode RGBA as JPEG\n",
      "Error saving the image: cannot write mode RGBA as JPEG\n",
      "Error saving the image: cannot write mode RGBA as JPEG\n",
      "Error saving the image: cannot write mode RGBA as JPEG\n",
      "Error saving the image: cannot write mode RGBA as JPEG\n",
      "Error saving the image: cannot write mode RGBA as JPEG\n",
      "Error saving the image: cannot write mode RGBA as JPEG\n",
      "Error saving the image: cannot write mode RGBA as JPEG\n",
      "\n",
      "Completed batch. Waiting 60 seconds before next batch...\n"
     ]
    },
    {
     "name": "stderr",
     "output_type": "stream",
     "text": [
      " 73%|███████▎  | 338/460 [8:00:52<2:52:42, 84.94s/it]"
     ]
    },
    {
     "name": "stdout",
     "output_type": "stream",
     "text": [
      "Error saving the image: cannot write mode RGBA as JPEG\n",
      "Error saving the image: cannot write mode RGBA as JPEG\n",
      "\n",
      "Completed batch. Waiting 60 seconds before next batch...\n"
     ]
    },
    {
     "name": "stderr",
     "output_type": "stream",
     "text": [
      " 74%|███████▎  | 339/460 [8:02:17<2:51:05, 84.84s/it]"
     ]
    },
    {
     "name": "stdout",
     "output_type": "stream",
     "text": [
      "\n",
      "Completed batch. Waiting 60 seconds before next batch...\n"
     ]
    },
    {
     "name": "stderr",
     "output_type": "stream",
     "text": [
      " 74%|███████▍  | 340/460 [8:03:41<2:49:19, 84.66s/it]"
     ]
    },
    {
     "name": "stdout",
     "output_type": "stream",
     "text": [
      "\n",
      "Completed batch. Waiting 60 seconds before next batch...\n"
     ]
    },
    {
     "name": "stderr",
     "output_type": "stream",
     "text": [
      " 74%|███████▍  | 341/460 [8:05:07<2:48:29, 84.96s/it]"
     ]
    },
    {
     "name": "stdout",
     "output_type": "stream",
     "text": [
      "\n",
      "Completed batch. Waiting 60 seconds before next batch...\n"
     ]
    },
    {
     "name": "stderr",
     "output_type": "stream",
     "text": [
      " 74%|███████▍  | 342/460 [8:06:31<2:46:28, 84.65s/it]"
     ]
    },
    {
     "name": "stdout",
     "output_type": "stream",
     "text": [
      "Error saving the image: cannot write mode RGBA as JPEG\n",
      "\n",
      "Completed batch. Waiting 60 seconds before next batch...\n"
     ]
    },
    {
     "name": "stderr",
     "output_type": "stream",
     "text": [
      " 75%|███████▍  | 343/460 [8:07:57<2:46:05, 85.17s/it]"
     ]
    },
    {
     "name": "stdout",
     "output_type": "stream",
     "text": [
      "\n",
      "Completed batch. Waiting 60 seconds before next batch...\n"
     ]
    },
    {
     "name": "stderr",
     "output_type": "stream",
     "text": [
      " 75%|███████▍  | 344/460 [8:09:24<2:45:32, 85.63s/it]"
     ]
    },
    {
     "name": "stdout",
     "output_type": "stream",
     "text": [
      "\n",
      "Completed batch. Waiting 60 seconds before next batch...\n"
     ]
    },
    {
     "name": "stderr",
     "output_type": "stream",
     "text": [
      " 75%|███████▌  | 345/460 [8:10:50<2:44:39, 85.91s/it]"
     ]
    },
    {
     "name": "stdout",
     "output_type": "stream",
     "text": [
      "\n",
      "Completed batch. Waiting 60 seconds before next batch...\n"
     ]
    },
    {
     "name": "stderr",
     "output_type": "stream",
     "text": [
      " 75%|███████▌  | 346/460 [8:12:15<2:42:34, 85.57s/it]"
     ]
    },
    {
     "name": "stdout",
     "output_type": "stream",
     "text": [
      "\n",
      "Completed batch. Waiting 60 seconds before next batch...\n"
     ]
    },
    {
     "name": "stderr",
     "output_type": "stream",
     "text": [
      " 75%|███████▌  | 347/460 [8:13:39<2:40:05, 85.00s/it]"
     ]
    },
    {
     "name": "stdout",
     "output_type": "stream",
     "text": [
      "\n",
      "Completed batch. Waiting 60 seconds before next batch...\n"
     ]
    },
    {
     "name": "stderr",
     "output_type": "stream",
     "text": [
      " 76%|███████▌  | 348/460 [8:15:04<2:39:05, 85.22s/it]"
     ]
    },
    {
     "name": "stdout",
     "output_type": "stream",
     "text": [
      "\n",
      "Completed batch. Waiting 60 seconds before next batch...\n"
     ]
    },
    {
     "name": "stderr",
     "output_type": "stream",
     "text": [
      " 76%|███████▌  | 349/460 [8:16:31<2:38:13, 85.53s/it]"
     ]
    },
    {
     "name": "stdout",
     "output_type": "stream",
     "text": [
      "\n",
      "Completed batch. Waiting 60 seconds before next batch...\n"
     ]
    },
    {
     "name": "stderr",
     "output_type": "stream",
     "text": [
      " 76%|███████▌  | 350/460 [8:17:58<2:37:30, 85.92s/it]"
     ]
    },
    {
     "name": "stdout",
     "output_type": "stream",
     "text": [
      "\n",
      "Completed batch. Waiting 60 seconds before next batch...\n"
     ]
    },
    {
     "name": "stderr",
     "output_type": "stream",
     "text": [
      " 76%|███████▋  | 351/460 [8:19:24<2:36:34, 86.18s/it]"
     ]
    },
    {
     "name": "stdout",
     "output_type": "stream",
     "text": [
      "\n",
      "Completed batch. Waiting 60 seconds before next batch...\n"
     ]
    },
    {
     "name": "stderr",
     "output_type": "stream",
     "text": [
      " 77%|███████▋  | 352/460 [8:20:50<2:34:39, 85.92s/it]"
     ]
    },
    {
     "name": "stdout",
     "output_type": "stream",
     "text": [
      "\n",
      "Completed batch. Waiting 60 seconds before next batch...\n"
     ]
    },
    {
     "name": "stderr",
     "output_type": "stream",
     "text": [
      " 77%|███████▋  | 353/460 [8:22:13<2:32:02, 85.25s/it]"
     ]
    },
    {
     "name": "stdout",
     "output_type": "stream",
     "text": [
      "\n",
      "Completed batch. Waiting 60 seconds before next batch...\n"
     ]
    },
    {
     "name": "stderr",
     "output_type": "stream",
     "text": [
      " 77%|███████▋  | 354/460 [8:23:37<2:29:32, 84.64s/it]"
     ]
    },
    {
     "name": "stdout",
     "output_type": "stream",
     "text": [
      "\n",
      "Completed batch. Waiting 60 seconds before next batch...\n"
     ]
    },
    {
     "name": "stderr",
     "output_type": "stream",
     "text": [
      " 77%|███████▋  | 355/460 [8:25:03<2:29:19, 85.33s/it]"
     ]
    },
    {
     "name": "stdout",
     "output_type": "stream",
     "text": [
      "\n",
      "Completed batch. Waiting 60 seconds before next batch...\n"
     ]
    },
    {
     "name": "stderr",
     "output_type": "stream",
     "text": [
      " 77%|███████▋  | 356/460 [8:26:30<2:28:15, 85.54s/it]"
     ]
    },
    {
     "name": "stdout",
     "output_type": "stream",
     "text": [
      "\n",
      "Completed batch. Waiting 60 seconds before next batch...\n"
     ]
    },
    {
     "name": "stderr",
     "output_type": "stream",
     "text": [
      " 78%|███████▊  | 357/460 [8:27:56<2:27:22, 85.85s/it]"
     ]
    },
    {
     "name": "stdout",
     "output_type": "stream",
     "text": [
      "\n",
      "Completed batch. Waiting 60 seconds before next batch...\n"
     ]
    },
    {
     "name": "stderr",
     "output_type": "stream",
     "text": [
      " 78%|███████▊  | 358/460 [8:29:22<2:26:07, 85.95s/it]"
     ]
    },
    {
     "name": "stdout",
     "output_type": "stream",
     "text": [
      "\n",
      "Completed batch. Waiting 60 seconds before next batch...\n"
     ]
    },
    {
     "name": "stderr",
     "output_type": "stream",
     "text": [
      " 78%|███████▊  | 359/460 [8:30:48<2:24:42, 85.96s/it]"
     ]
    },
    {
     "name": "stdout",
     "output_type": "stream",
     "text": [
      "\n",
      "Completed batch. Waiting 60 seconds before next batch...\n"
     ]
    },
    {
     "name": "stderr",
     "output_type": "stream",
     "text": [
      " 78%|███████▊  | 360/460 [8:32:10<2:20:59, 84.60s/it]"
     ]
    },
    {
     "name": "stdout",
     "output_type": "stream",
     "text": [
      "\n",
      "Completed batch. Waiting 60 seconds before next batch...\n"
     ]
    },
    {
     "name": "stderr",
     "output_type": "stream",
     "text": [
      " 78%|███████▊  | 361/460 [8:33:36<2:20:19, 85.04s/it]"
     ]
    },
    {
     "name": "stdout",
     "output_type": "stream",
     "text": [
      "\n",
      "Completed batch. Waiting 60 seconds before next batch...\n"
     ]
    },
    {
     "name": "stderr",
     "output_type": "stream",
     "text": [
      " 79%|███████▊  | 362/460 [8:35:02<2:19:19, 85.30s/it]"
     ]
    },
    {
     "name": "stdout",
     "output_type": "stream",
     "text": [
      "\n",
      "Completed batch. Waiting 60 seconds before next batch...\n"
     ]
    },
    {
     "name": "stderr",
     "output_type": "stream",
     "text": [
      " 79%|███████▉  | 363/460 [8:36:29<2:18:45, 85.83s/it]"
     ]
    },
    {
     "name": "stdout",
     "output_type": "stream",
     "text": [
      "\n",
      "Completed batch. Waiting 60 seconds before next batch...\n"
     ]
    },
    {
     "name": "stderr",
     "output_type": "stream",
     "text": [
      " 79%|███████▉  | 364/460 [8:37:52<2:15:56, 84.96s/it]"
     ]
    },
    {
     "name": "stdout",
     "output_type": "stream",
     "text": [
      "\n",
      "Completed batch. Waiting 60 seconds before next batch...\n"
     ]
    },
    {
     "name": "stderr",
     "output_type": "stream",
     "text": [
      " 79%|███████▉  | 365/460 [8:39:16<2:14:27, 84.92s/it]"
     ]
    },
    {
     "name": "stdout",
     "output_type": "stream",
     "text": [
      "\n",
      "Completed batch. Waiting 60 seconds before next batch...\n"
     ]
    },
    {
     "name": "stderr",
     "output_type": "stream",
     "text": [
      " 80%|███████▉  | 366/460 [8:40:42<2:13:14, 85.05s/it]"
     ]
    },
    {
     "name": "stdout",
     "output_type": "stream",
     "text": [
      "\n",
      "Completed batch. Waiting 60 seconds before next batch...\n"
     ]
    },
    {
     "name": "stderr",
     "output_type": "stream",
     "text": [
      " 80%|███████▉  | 367/460 [8:42:09<2:12:36, 85.56s/it]"
     ]
    },
    {
     "name": "stdout",
     "output_type": "stream",
     "text": [
      "\n",
      "Completed batch. Waiting 60 seconds before next batch...\n"
     ]
    },
    {
     "name": "stderr",
     "output_type": "stream",
     "text": [
      " 80%|████████  | 368/460 [8:43:34<2:11:12, 85.57s/it]"
     ]
    },
    {
     "name": "stdout",
     "output_type": "stream",
     "text": [
      "\n",
      "Completed batch. Waiting 60 seconds before next batch...\n"
     ]
    },
    {
     "name": "stderr",
     "output_type": "stream",
     "text": [
      " 80%|████████  | 369/460 [8:45:01<2:10:29, 86.04s/it]"
     ]
    },
    {
     "name": "stdout",
     "output_type": "stream",
     "text": [
      "\n",
      "Completed batch. Waiting 60 seconds before next batch...\n"
     ]
    },
    {
     "name": "stderr",
     "output_type": "stream",
     "text": [
      " 80%|████████  | 370/460 [8:46:28<2:09:22, 86.24s/it]"
     ]
    },
    {
     "name": "stdout",
     "output_type": "stream",
     "text": [
      "\n",
      "Completed batch. Waiting 60 seconds before next batch...\n"
     ]
    },
    {
     "name": "stderr",
     "output_type": "stream",
     "text": [
      " 81%|████████  | 371/460 [8:47:56<2:08:33, 86.67s/it]"
     ]
    },
    {
     "name": "stdout",
     "output_type": "stream",
     "text": [
      "\n",
      "Completed batch. Waiting 60 seconds before next batch...\n"
     ]
    },
    {
     "name": "stderr",
     "output_type": "stream",
     "text": [
      " 81%|████████  | 372/460 [8:49:23<2:07:12, 86.73s/it]"
     ]
    },
    {
     "name": "stdout",
     "output_type": "stream",
     "text": [
      "\n",
      "Completed batch. Waiting 60 seconds before next batch...\n"
     ]
    },
    {
     "name": "stderr",
     "output_type": "stream",
     "text": [
      " 81%|████████  | 373/460 [8:50:49<2:05:39, 86.66s/it]"
     ]
    },
    {
     "name": "stdout",
     "output_type": "stream",
     "text": [
      "\n",
      "Completed batch. Waiting 60 seconds before next batch...\n"
     ]
    },
    {
     "name": "stderr",
     "output_type": "stream",
     "text": [
      " 81%|████████▏ | 374/460 [8:52:14<2:03:18, 86.03s/it]"
     ]
    },
    {
     "name": "stdout",
     "output_type": "stream",
     "text": [
      "\n",
      "Completed batch. Waiting 60 seconds before next batch...\n"
     ]
    },
    {
     "name": "stderr",
     "output_type": "stream",
     "text": [
      " 82%|████████▏ | 375/460 [8:53:40<2:02:08, 86.21s/it]"
     ]
    },
    {
     "name": "stdout",
     "output_type": "stream",
     "text": [
      "\n",
      "Completed batch. Waiting 60 seconds before next batch...\n"
     ]
    },
    {
     "name": "stderr",
     "output_type": "stream",
     "text": [
      " 82%|████████▏ | 376/460 [8:55:05<2:00:08, 85.82s/it]"
     ]
    },
    {
     "name": "stdout",
     "output_type": "stream",
     "text": [
      "\n",
      "Completed batch. Waiting 60 seconds before next batch...\n"
     ]
    },
    {
     "name": "stderr",
     "output_type": "stream",
     "text": [
      " 82%|████████▏ | 377/460 [8:56:28<1:57:32, 84.97s/it]"
     ]
    },
    {
     "name": "stdout",
     "output_type": "stream",
     "text": [
      "\n",
      "Completed batch. Waiting 60 seconds before next batch...\n"
     ]
    },
    {
     "name": "stderr",
     "output_type": "stream",
     "text": [
      " 82%|████████▏ | 378/460 [8:57:53<1:56:15, 85.07s/it]"
     ]
    },
    {
     "name": "stdout",
     "output_type": "stream",
     "text": [
      "\n",
      "Completed batch. Waiting 60 seconds before next batch...\n"
     ]
    },
    {
     "name": "stderr",
     "output_type": "stream",
     "text": [
      " 82%|████████▏ | 379/460 [8:59:20<1:55:23, 85.47s/it]"
     ]
    },
    {
     "name": "stdout",
     "output_type": "stream",
     "text": [
      "\n",
      "Completed batch. Waiting 60 seconds before next batch...\n"
     ]
    },
    {
     "name": "stderr",
     "output_type": "stream",
     "text": [
      " 83%|████████▎ | 380/460 [9:00:47<1:54:28, 85.85s/it]"
     ]
    },
    {
     "name": "stdout",
     "output_type": "stream",
     "text": [
      "\n",
      "Completed batch. Waiting 60 seconds before next batch...\n"
     ]
    },
    {
     "name": "stderr",
     "output_type": "stream",
     "text": [
      " 83%|████████▎ | 381/460 [9:02:14<1:53:33, 86.25s/it]"
     ]
    },
    {
     "name": "stdout",
     "output_type": "stream",
     "text": [
      "\n",
      "Completed batch. Waiting 60 seconds before next batch...\n"
     ]
    },
    {
     "name": "stderr",
     "output_type": "stream",
     "text": [
      " 83%|████████▎ | 382/460 [9:03:38<1:51:19, 85.63s/it]"
     ]
    },
    {
     "name": "stdout",
     "output_type": "stream",
     "text": [
      "\n",
      "Completed batch. Waiting 60 seconds before next batch...\n"
     ]
    },
    {
     "name": "stderr",
     "output_type": "stream",
     "text": [
      " 83%|████████▎ | 383/460 [9:05:02<1:49:21, 85.22s/it]"
     ]
    },
    {
     "name": "stdout",
     "output_type": "stream",
     "text": [
      "\n",
      "Completed batch. Waiting 60 seconds before next batch...\n"
     ]
    },
    {
     "name": "stderr",
     "output_type": "stream",
     "text": [
      " 83%|████████▎ | 384/460 [9:06:26<1:47:33, 84.91s/it]"
     ]
    },
    {
     "name": "stdout",
     "output_type": "stream",
     "text": [
      "\n",
      "Completed batch. Waiting 60 seconds before next batch...\n"
     ]
    },
    {
     "name": "stderr",
     "output_type": "stream",
     "text": [
      " 84%|████████▎ | 385/460 [9:07:52<1:46:22, 85.10s/it]"
     ]
    },
    {
     "name": "stdout",
     "output_type": "stream",
     "text": [
      "\n",
      "Completed batch. Waiting 60 seconds before next batch...\n"
     ]
    },
    {
     "name": "stderr",
     "output_type": "stream",
     "text": [
      " 84%|████████▍ | 386/460 [9:09:15<1:44:10, 84.46s/it]"
     ]
    },
    {
     "name": "stdout",
     "output_type": "stream",
     "text": [
      "\n",
      "Completed batch. Waiting 60 seconds before next batch...\n"
     ]
    },
    {
     "name": "stderr",
     "output_type": "stream",
     "text": [
      " 84%|████████▍ | 387/460 [9:10:37<1:41:58, 83.82s/it]"
     ]
    },
    {
     "name": "stdout",
     "output_type": "stream",
     "text": [
      "\n",
      "Completed batch. Waiting 60 seconds before next batch...\n"
     ]
    },
    {
     "name": "stderr",
     "output_type": "stream",
     "text": [
      " 84%|████████▍ | 388/460 [9:12:01<1:40:27, 83.71s/it]"
     ]
    },
    {
     "name": "stdout",
     "output_type": "stream",
     "text": [
      "\n",
      "Completed batch. Waiting 60 seconds before next batch...\n"
     ]
    },
    {
     "name": "stderr",
     "output_type": "stream",
     "text": [
      " 85%|████████▍ | 389/460 [9:13:24<1:38:54, 83.58s/it]"
     ]
    },
    {
     "name": "stdout",
     "output_type": "stream",
     "text": [
      "\n",
      "Completed batch. Waiting 60 seconds before next batch...\n"
     ]
    },
    {
     "name": "stderr",
     "output_type": "stream",
     "text": [
      " 85%|████████▍ | 390/460 [9:14:46<1:37:04, 83.20s/it]"
     ]
    },
    {
     "name": "stdout",
     "output_type": "stream",
     "text": [
      "\n",
      "Completed batch. Waiting 60 seconds before next batch...\n"
     ]
    },
    {
     "name": "stderr",
     "output_type": "stream",
     "text": [
      " 85%|████████▌ | 391/460 [9:16:08<1:35:10, 82.76s/it]"
     ]
    },
    {
     "name": "stdout",
     "output_type": "stream",
     "text": [
      "\n",
      "Completed batch. Waiting 60 seconds before next batch...\n"
     ]
    },
    {
     "name": "stderr",
     "output_type": "stream",
     "text": [
      " 85%|████████▌ | 392/460 [9:17:32<1:34:15, 83.17s/it]"
     ]
    },
    {
     "name": "stdout",
     "output_type": "stream",
     "text": [
      "\n",
      "Completed batch. Waiting 60 seconds before next batch...\n"
     ]
    },
    {
     "name": "stderr",
     "output_type": "stream",
     "text": [
      " 85%|████████▌ | 393/460 [9:18:57<1:33:20, 83.59s/it]"
     ]
    },
    {
     "name": "stdout",
     "output_type": "stream",
     "text": [
      "\n",
      "Completed batch. Waiting 60 seconds before next batch...\n"
     ]
    },
    {
     "name": "stderr",
     "output_type": "stream",
     "text": [
      " 86%|████████▌ | 394/460 [9:20:21<1:32:09, 83.78s/it]"
     ]
    },
    {
     "name": "stdout",
     "output_type": "stream",
     "text": [
      "\n",
      "Completed batch. Waiting 60 seconds before next batch...\n"
     ]
    },
    {
     "name": "stderr",
     "output_type": "stream",
     "text": [
      " 86%|████████▌ | 395/460 [9:21:46<1:31:01, 84.02s/it]"
     ]
    },
    {
     "name": "stdout",
     "output_type": "stream",
     "text": [
      "\n",
      "Completed batch. Waiting 60 seconds before next batch...\n"
     ]
    },
    {
     "name": "stderr",
     "output_type": "stream",
     "text": [
      " 86%|████████▌ | 396/460 [9:23:08<1:29:16, 83.69s/it]"
     ]
    },
    {
     "name": "stdout",
     "output_type": "stream",
     "text": [
      "\n",
      "Completed batch. Waiting 60 seconds before next batch...\n"
     ]
    },
    {
     "name": "stderr",
     "output_type": "stream",
     "text": [
      " 86%|████████▋ | 397/460 [9:24:31<1:27:22, 83.21s/it]"
     ]
    },
    {
     "name": "stdout",
     "output_type": "stream",
     "text": [
      "\n",
      "Completed batch. Waiting 60 seconds before next batch...\n"
     ]
    },
    {
     "name": "stderr",
     "output_type": "stream",
     "text": [
      " 87%|████████▋ | 398/460 [9:25:55<1:26:13, 83.44s/it]"
     ]
    },
    {
     "name": "stdout",
     "output_type": "stream",
     "text": [
      "\n",
      "Completed batch. Waiting 60 seconds before next batch...\n"
     ]
    },
    {
     "name": "stderr",
     "output_type": "stream",
     "text": [
      " 87%|████████▋ | 399/460 [9:27:19<1:25:06, 83.72s/it]"
     ]
    },
    {
     "name": "stdout",
     "output_type": "stream",
     "text": [
      "\n",
      "Completed batch. Waiting 60 seconds before next batch...\n"
     ]
    },
    {
     "name": "stderr",
     "output_type": "stream",
     "text": [
      " 87%|████████▋ | 400/460 [9:28:43<1:23:57, 83.96s/it]"
     ]
    },
    {
     "name": "stdout",
     "output_type": "stream",
     "text": [
      "\n",
      "Completed batch. Waiting 60 seconds before next batch...\n"
     ]
    },
    {
     "name": "stderr",
     "output_type": "stream",
     "text": [
      " 87%|████████▋ | 401/460 [9:30:09<1:23:04, 84.48s/it]"
     ]
    },
    {
     "name": "stdout",
     "output_type": "stream",
     "text": [
      "\n",
      "Completed batch. Waiting 60 seconds before next batch...\n"
     ]
    },
    {
     "name": "stderr",
     "output_type": "stream",
     "text": [
      " 87%|████████▋ | 402/460 [9:31:34<1:21:40, 84.49s/it]"
     ]
    },
    {
     "name": "stdout",
     "output_type": "stream",
     "text": [
      "\n",
      "Completed batch. Waiting 60 seconds before next batch...\n"
     ]
    },
    {
     "name": "stderr",
     "output_type": "stream",
     "text": [
      " 88%|████████▊ | 403/460 [9:32:59<1:20:28, 84.70s/it]"
     ]
    },
    {
     "name": "stdout",
     "output_type": "stream",
     "text": [
      "\n",
      "Completed batch. Waiting 60 seconds before next batch...\n"
     ]
    },
    {
     "name": "stderr",
     "output_type": "stream",
     "text": [
      " 88%|████████▊ | 404/460 [9:34:23<1:18:50, 84.47s/it]"
     ]
    },
    {
     "name": "stdout",
     "output_type": "stream",
     "text": [
      "\n",
      "Completed batch. Waiting 60 seconds before next batch...\n"
     ]
    },
    {
     "name": "stderr",
     "output_type": "stream",
     "text": [
      " 88%|████████▊ | 405/460 [9:35:46<1:17:00, 84.01s/it]"
     ]
    },
    {
     "name": "stdout",
     "output_type": "stream",
     "text": [
      "\n",
      "Completed batch. Waiting 60 seconds before next batch...\n"
     ]
    },
    {
     "name": "stderr",
     "output_type": "stream",
     "text": [
      " 88%|████████▊ | 406/460 [9:37:12<1:16:08, 84.60s/it]"
     ]
    },
    {
     "name": "stdout",
     "output_type": "stream",
     "text": [
      "\n",
      "Completed batch. Waiting 60 seconds before next batch...\n"
     ]
    },
    {
     "name": "stderr",
     "output_type": "stream",
     "text": [
      " 88%|████████▊ | 407/460 [9:38:36<1:14:39, 84.53s/it]"
     ]
    },
    {
     "name": "stdout",
     "output_type": "stream",
     "text": [
      "\n",
      "Completed batch. Waiting 60 seconds before next batch...\n"
     ]
    },
    {
     "name": "stderr",
     "output_type": "stream",
     "text": [
      " 89%|████████▊ | 408/460 [9:40:00<1:13:12, 84.48s/it]"
     ]
    },
    {
     "name": "stdout",
     "output_type": "stream",
     "text": [
      "Error saving the image: cannot write mode RGBA as JPEG\n",
      "\n",
      "Completed batch. Waiting 60 seconds before next batch...\n"
     ]
    },
    {
     "name": "stderr",
     "output_type": "stream",
     "text": [
      " 89%|████████▉ | 409/460 [9:41:24<1:11:40, 84.32s/it]"
     ]
    },
    {
     "name": "stdout",
     "output_type": "stream",
     "text": [
      "\n",
      "Completed batch. Waiting 60 seconds before next batch...\n"
     ]
    },
    {
     "name": "stderr",
     "output_type": "stream",
     "text": [
      " 89%|████████▉ | 410/460 [9:42:51<1:10:57, 85.14s/it]"
     ]
    },
    {
     "name": "stdout",
     "output_type": "stream",
     "text": [
      "\n",
      "Completed batch. Waiting 60 seconds before next batch...\n"
     ]
    },
    {
     "name": "stderr",
     "output_type": "stream",
     "text": [
      " 89%|████████▉ | 411/460 [9:44:17<1:09:40, 85.31s/it]"
     ]
    },
    {
     "name": "stdout",
     "output_type": "stream",
     "text": [
      "\n",
      "Completed batch. Waiting 60 seconds before next batch...\n"
     ]
    },
    {
     "name": "stderr",
     "output_type": "stream",
     "text": [
      " 90%|████████▉ | 412/460 [9:45:43<1:08:26, 85.55s/it]"
     ]
    },
    {
     "name": "stdout",
     "output_type": "stream",
     "text": [
      "\n",
      "Completed batch. Waiting 60 seconds before next batch...\n"
     ]
    },
    {
     "name": "stderr",
     "output_type": "stream",
     "text": [
      " 90%|████████▉ | 413/460 [9:47:07<1:06:38, 85.07s/it]"
     ]
    },
    {
     "name": "stdout",
     "output_type": "stream",
     "text": [
      "\n",
      "Completed batch. Waiting 60 seconds before next batch...\n"
     ]
    },
    {
     "name": "stderr",
     "output_type": "stream",
     "text": [
      " 90%|█████████ | 414/460 [9:48:34<1:05:33, 85.51s/it]"
     ]
    },
    {
     "name": "stdout",
     "output_type": "stream",
     "text": [
      "\n",
      "Completed batch. Waiting 60 seconds before next batch...\n"
     ]
    },
    {
     "name": "stderr",
     "output_type": "stream",
     "text": [
      " 90%|█████████ | 415/460 [9:50:00<1:04:18, 85.74s/it]"
     ]
    },
    {
     "name": "stdout",
     "output_type": "stream",
     "text": [
      "\n",
      "Completed batch. Waiting 60 seconds before next batch...\n"
     ]
    },
    {
     "name": "stderr",
     "output_type": "stream",
     "text": [
      " 90%|█████████ | 416/460 [9:51:24<1:02:27, 85.17s/it]"
     ]
    },
    {
     "name": "stdout",
     "output_type": "stream",
     "text": [
      "\n",
      "Completed batch. Waiting 60 seconds before next batch...\n"
     ]
    },
    {
     "name": "stderr",
     "output_type": "stream",
     "text": [
      " 91%|█████████ | 417/460 [9:52:51<1:01:22, 85.63s/it]"
     ]
    },
    {
     "name": "stdout",
     "output_type": "stream",
     "text": [
      "Error saving the image: cannot write mode RGBA as JPEG\n",
      "\n",
      "Completed batch. Waiting 60 seconds before next batch...\n"
     ]
    },
    {
     "name": "stderr",
     "output_type": "stream",
     "text": [
      " 91%|█████████ | 418/460 [9:54:17<1:00:12, 86.02s/it]"
     ]
    },
    {
     "name": "stdout",
     "output_type": "stream",
     "text": [
      "\n",
      "Completed batch. Waiting 60 seconds before next batch...\n"
     ]
    },
    {
     "name": "stderr",
     "output_type": "stream",
     "text": [
      " 91%|█████████ | 419/460 [9:55:43<58:42, 85.91s/it]  "
     ]
    },
    {
     "name": "stdout",
     "output_type": "stream",
     "text": [
      "Error saving the image: cannot write mode RGBA as JPEG\n",
      "Error saving the image: cannot write mode RGBA as JPEG\n",
      "Error saving the image: cannot write mode RGBA as JPEG\n",
      "\n",
      "Completed batch. Waiting 60 seconds before next batch...\n"
     ]
    },
    {
     "name": "stderr",
     "output_type": "stream",
     "text": [
      " 91%|█████████▏| 420/460 [9:57:11<57:35, 86.38s/it]"
     ]
    },
    {
     "name": "stdout",
     "output_type": "stream",
     "text": [
      "\n",
      "Completed batch. Waiting 60 seconds before next batch...\n"
     ]
    },
    {
     "name": "stderr",
     "output_type": "stream",
     "text": [
      " 92%|█████████▏| 421/460 [9:58:38<56:15, 86.54s/it]"
     ]
    },
    {
     "name": "stdout",
     "output_type": "stream",
     "text": [
      "\n",
      "Completed batch. Waiting 60 seconds before next batch...\n"
     ]
    },
    {
     "name": "stderr",
     "output_type": "stream",
     "text": [
      " 92%|█████████▏| 422/460 [10:00:02<54:29, 86.03s/it]"
     ]
    },
    {
     "name": "stdout",
     "output_type": "stream",
     "text": [
      "\n",
      "Completed batch. Waiting 60 seconds before next batch...\n"
     ]
    },
    {
     "name": "stderr",
     "output_type": "stream",
     "text": [
      " 92%|█████████▏| 423/460 [10:01:27<52:50, 85.70s/it]"
     ]
    },
    {
     "name": "stdout",
     "output_type": "stream",
     "text": [
      "\n",
      "Completed batch. Waiting 60 seconds before next batch...\n"
     ]
    },
    {
     "name": "stderr",
     "output_type": "stream",
     "text": [
      " 92%|█████████▏| 424/460 [10:02:51<51:00, 85.02s/it]"
     ]
    },
    {
     "name": "stdout",
     "output_type": "stream",
     "text": [
      "\n",
      "Completed batch. Waiting 60 seconds before next batch...\n"
     ]
    },
    {
     "name": "stderr",
     "output_type": "stream",
     "text": [
      " 92%|█████████▏| 425/460 [10:04:15<49:28, 84.83s/it]"
     ]
    },
    {
     "name": "stdout",
     "output_type": "stream",
     "text": [
      "\n",
      "Completed batch. Waiting 60 seconds before next batch...\n"
     ]
    },
    {
     "name": "stderr",
     "output_type": "stream",
     "text": [
      " 93%|█████████▎| 426/460 [10:05:39<47:58, 84.67s/it]"
     ]
    },
    {
     "name": "stdout",
     "output_type": "stream",
     "text": [
      "\n",
      "Completed batch. Waiting 60 seconds before next batch...\n"
     ]
    },
    {
     "name": "stderr",
     "output_type": "stream",
     "text": [
      " 93%|█████████▎| 427/460 [10:07:04<46:30, 84.56s/it]"
     ]
    },
    {
     "name": "stdout",
     "output_type": "stream",
     "text": [
      "\n",
      "Completed batch. Waiting 60 seconds before next batch...\n"
     ]
    },
    {
     "name": "stderr",
     "output_type": "stream",
     "text": [
      " 93%|█████████▎| 428/460 [10:08:28<45:00, 84.40s/it]"
     ]
    },
    {
     "name": "stdout",
     "output_type": "stream",
     "text": [
      "\n",
      "Completed batch. Waiting 60 seconds before next batch...\n"
     ]
    },
    {
     "name": "stderr",
     "output_type": "stream",
     "text": [
      " 93%|█████████▎| 429/460 [10:09:53<43:43, 84.62s/it]"
     ]
    },
    {
     "name": "stdout",
     "output_type": "stream",
     "text": [
      "Error saving the image: cannot write mode RGBA as JPEG\n",
      "\n",
      "Completed batch. Waiting 60 seconds before next batch...\n"
     ]
    },
    {
     "name": "stderr",
     "output_type": "stream",
     "text": [
      " 93%|█████████▎| 430/460 [10:11:19<42:28, 84.94s/it]"
     ]
    },
    {
     "name": "stdout",
     "output_type": "stream",
     "text": [
      "\n",
      "Completed batch. Waiting 60 seconds before next batch...\n"
     ]
    },
    {
     "name": "stderr",
     "output_type": "stream",
     "text": [
      " 94%|█████████▎| 431/460 [10:12:42<40:47, 84.40s/it]"
     ]
    },
    {
     "name": "stdout",
     "output_type": "stream",
     "text": [
      "\n",
      "Completed batch. Waiting 60 seconds before next batch...\n"
     ]
    },
    {
     "name": "stderr",
     "output_type": "stream",
     "text": [
      " 94%|█████████▍| 432/460 [10:14:05<39:12, 84.03s/it]"
     ]
    },
    {
     "name": "stdout",
     "output_type": "stream",
     "text": [
      "\n",
      "Completed batch. Waiting 60 seconds before next batch...\n"
     ]
    },
    {
     "name": "stderr",
     "output_type": "stream",
     "text": [
      " 94%|█████████▍| 433/460 [10:15:30<37:56, 84.32s/it]"
     ]
    },
    {
     "name": "stdout",
     "output_type": "stream",
     "text": [
      "\n",
      "Completed batch. Waiting 60 seconds before next batch...\n"
     ]
    },
    {
     "name": "stderr",
     "output_type": "stream",
     "text": [
      " 94%|█████████▍| 434/460 [10:16:56<36:47, 84.92s/it]"
     ]
    },
    {
     "name": "stdout",
     "output_type": "stream",
     "text": [
      "\n",
      "Completed batch. Waiting 60 seconds before next batch...\n"
     ]
    },
    {
     "name": "stderr",
     "output_type": "stream",
     "text": [
      " 95%|█████████▍| 435/460 [10:18:20<35:12, 84.50s/it]"
     ]
    },
    {
     "name": "stdout",
     "output_type": "stream",
     "text": [
      "\n",
      "Completed batch. Waiting 60 seconds before next batch...\n"
     ]
    },
    {
     "name": "stderr",
     "output_type": "stream",
     "text": [
      " 95%|█████████▍| 436/460 [10:19:44<33:48, 84.54s/it]"
     ]
    },
    {
     "name": "stdout",
     "output_type": "stream",
     "text": [
      "\n",
      "Completed batch. Waiting 60 seconds before next batch...\n"
     ]
    },
    {
     "name": "stderr",
     "output_type": "stream",
     "text": [
      " 95%|█████████▌| 437/460 [10:21:09<32:27, 84.66s/it]"
     ]
    },
    {
     "name": "stdout",
     "output_type": "stream",
     "text": [
      "\n",
      "Completed batch. Waiting 60 seconds before next batch...\n"
     ]
    },
    {
     "name": "stderr",
     "output_type": "stream",
     "text": [
      " 95%|█████████▌| 438/460 [10:22:32<30:52, 84.19s/it]"
     ]
    },
    {
     "name": "stdout",
     "output_type": "stream",
     "text": [
      "\n",
      "Completed batch. Waiting 60 seconds before next batch...\n"
     ]
    },
    {
     "name": "stderr",
     "output_type": "stream",
     "text": [
      " 95%|█████████▌| 439/460 [10:23:55<29:19, 83.80s/it]"
     ]
    },
    {
     "name": "stdout",
     "output_type": "stream",
     "text": [
      "\n",
      "Completed batch. Waiting 60 seconds before next batch...\n"
     ]
    },
    {
     "name": "stderr",
     "output_type": "stream",
     "text": [
      " 96%|█████████▌| 440/460 [10:25:18<27:50, 83.50s/it]"
     ]
    },
    {
     "name": "stdout",
     "output_type": "stream",
     "text": [
      "\n",
      "Completed batch. Waiting 60 seconds before next batch...\n"
     ]
    },
    {
     "name": "stderr",
     "output_type": "stream",
     "text": [
      " 96%|█████████▌| 441/460 [10:26:40<26:19, 83.12s/it]"
     ]
    },
    {
     "name": "stdout",
     "output_type": "stream",
     "text": [
      "\n",
      "Completed batch. Waiting 60 seconds before next batch...\n"
     ]
    },
    {
     "name": "stderr",
     "output_type": "stream",
     "text": [
      " 96%|█████████▌| 442/460 [10:28:04<24:57, 83.21s/it]"
     ]
    },
    {
     "name": "stdout",
     "output_type": "stream",
     "text": [
      "\n",
      "Completed batch. Waiting 60 seconds before next batch...\n"
     ]
    },
    {
     "name": "stderr",
     "output_type": "stream",
     "text": [
      " 96%|█████████▋| 443/460 [10:29:28<23:37, 83.40s/it]"
     ]
    },
    {
     "name": "stdout",
     "output_type": "stream",
     "text": [
      "\n",
      "Completed batch. Waiting 60 seconds before next batch...\n"
     ]
    },
    {
     "name": "stderr",
     "output_type": "stream",
     "text": [
      " 97%|█████████▋| 444/460 [10:30:53<22:23, 83.96s/it]"
     ]
    },
    {
     "name": "stdout",
     "output_type": "stream",
     "text": [
      "\n",
      "Completed batch. Waiting 60 seconds before next batch...\n"
     ]
    },
    {
     "name": "stderr",
     "output_type": "stream",
     "text": [
      " 97%|█████████▋| 445/460 [10:32:14<20:48, 83.21s/it]"
     ]
    },
    {
     "name": "stdout",
     "output_type": "stream",
     "text": [
      "\n",
      "Completed batch. Waiting 60 seconds before next batch...\n"
     ]
    },
    {
     "name": "stderr",
     "output_type": "stream",
     "text": [
      " 97%|█████████▋| 446/460 [10:33:35<19:14, 82.46s/it]"
     ]
    },
    {
     "name": "stdout",
     "output_type": "stream",
     "text": [
      "\n",
      "Completed batch. Waiting 60 seconds before next batch...\n"
     ]
    },
    {
     "name": "stderr",
     "output_type": "stream",
     "text": [
      " 97%|█████████▋| 447/460 [10:34:58<17:53, 82.59s/it]"
     ]
    },
    {
     "name": "stdout",
     "output_type": "stream",
     "text": [
      "\n",
      "Completed batch. Waiting 60 seconds before next batch...\n"
     ]
    },
    {
     "name": "stderr",
     "output_type": "stream",
     "text": [
      " 97%|█████████▋| 448/460 [10:36:19<16:27, 82.27s/it]"
     ]
    },
    {
     "name": "stdout",
     "output_type": "stream",
     "text": [
      "\n",
      "Completed batch. Waiting 60 seconds before next batch...\n"
     ]
    },
    {
     "name": "stderr",
     "output_type": "stream",
     "text": [
      " 98%|█████████▊| 449/460 [10:37:44<15:13, 83.07s/it]"
     ]
    },
    {
     "name": "stdout",
     "output_type": "stream",
     "text": [
      "\n",
      "Completed batch. Waiting 60 seconds before next batch...\n"
     ]
    },
    {
     "name": "stderr",
     "output_type": "stream",
     "text": [
      " 98%|█████████▊| 450/460 [10:39:07<13:49, 82.94s/it]"
     ]
    },
    {
     "name": "stdout",
     "output_type": "stream",
     "text": [
      "\n",
      "Completed batch. Waiting 60 seconds before next batch...\n"
     ]
    },
    {
     "name": "stderr",
     "output_type": "stream",
     "text": [
      " 98%|█████████▊| 451/460 [10:40:32<12:32, 83.59s/it]"
     ]
    },
    {
     "name": "stdout",
     "output_type": "stream",
     "text": [
      "\n",
      "Completed batch. Waiting 60 seconds before next batch...\n"
     ]
    },
    {
     "name": "stderr",
     "output_type": "stream",
     "text": [
      " 98%|█████████▊| 452/460 [10:41:56<11:08, 83.61s/it]"
     ]
    },
    {
     "name": "stdout",
     "output_type": "stream",
     "text": [
      "\n",
      "Completed batch. Waiting 60 seconds before next batch...\n"
     ]
    },
    {
     "name": "stderr",
     "output_type": "stream",
     "text": [
      " 98%|█████████▊| 453/460 [10:43:20<09:46, 83.77s/it]"
     ]
    },
    {
     "name": "stdout",
     "output_type": "stream",
     "text": [
      "\n",
      "Completed batch. Waiting 60 seconds before next batch...\n"
     ]
    },
    {
     "name": "stderr",
     "output_type": "stream",
     "text": [
      " 99%|█████████▊| 454/460 [10:44:41<08:18, 83.11s/it]"
     ]
    },
    {
     "name": "stdout",
     "output_type": "stream",
     "text": [
      "\n",
      "Completed batch. Waiting 60 seconds before next batch...\n"
     ]
    },
    {
     "name": "stderr",
     "output_type": "stream",
     "text": [
      " 99%|█████████▉| 455/460 [10:46:05<06:55, 83.09s/it]"
     ]
    },
    {
     "name": "stdout",
     "output_type": "stream",
     "text": [
      "\n",
      "Completed batch. Waiting 60 seconds before next batch...\n"
     ]
    },
    {
     "name": "stderr",
     "output_type": "stream",
     "text": [
      " 99%|█████████▉| 456/460 [10:47:27<05:31, 82.96s/it]"
     ]
    },
    {
     "name": "stdout",
     "output_type": "stream",
     "text": [
      "\n",
      "Completed batch. Waiting 60 seconds before next batch...\n"
     ]
    },
    {
     "name": "stderr",
     "output_type": "stream",
     "text": [
      " 99%|█████████▉| 457/460 [10:48:53<04:11, 83.70s/it]"
     ]
    },
    {
     "name": "stdout",
     "output_type": "stream",
     "text": [
      "\n",
      "Completed batch. Waiting 60 seconds before next batch...\n"
     ]
    },
    {
     "name": "stderr",
     "output_type": "stream",
     "text": [
      "100%|█████████▉| 458/460 [10:50:17<02:47, 83.98s/it]"
     ]
    },
    {
     "name": "stdout",
     "output_type": "stream",
     "text": [
      "\n",
      "Completed batch. Waiting 60 seconds before next batch...\n"
     ]
    },
    {
     "name": "stderr",
     "output_type": "stream",
     "text": [
      "100%|██████████| 460/460 [10:52:07<00:00, 85.06s/it]"
     ]
    },
    {
     "name": "stdout",
     "output_type": "stream",
     "text": [
      "\n",
      "Download Summary:\n",
      "Total images attempted: 9200\n",
      "Successful downloads: 9200\n",
      "Failed downloads: 0\n"
     ]
    },
    {
     "name": "stderr",
     "output_type": "stream",
     "text": [
      "\n"
     ]
    }
   ],
   "source": [
    "# Create the save directory if it doesn't exist \n",
    "save_dir = \"downloaded_images_wikiart\"\n",
    "os.makedirs(save_dir, exist_ok=True)\n",
    "\n",
    "# Track successful and failed downloads\n",
    "successful_downloads = 0\n",
    "failed_downloads = []\n",
    "\n",
    "# Get total number of images to download\n",
    "total_images = len(all_movements_df)\n",
    "print(f\"Starting download of {total_images} images...\")\n",
    "\n",
    "# Process in batches of 20 with 1 minute delay between batches\n",
    "batch_size = 20\n",
    "for start_idx in tqdm(range(0, total_images, batch_size)):\n",
    "    # Get the current batch\n",
    "    batch = all_movements_df.iloc[start_idx:start_idx + batch_size]\n",
    "\n",
    "    # Process each image in the batch\n",
    "    for idx, row in batch.iterrows():\n",
    "        # Create subdirectory for movement if it doesn't exist\n",
    "        movement_dir = os.path.join(save_dir, row['movement'])\n",
    "        os.makedirs(movement_dir, exist_ok=True)\n",
    "\n",
    "        # Set up save path with movement subfolder\n",
    "        filename = f\"{row['id']}.jpg\"\n",
    "        save_path = os.path.join(movement_dir, filename)\n",
    "\n",
    "        try:\n",
    "            download_image(row['image'], save_path)\n",
    "            successful_downloads += 1\n",
    "            time.sleep(0.5)  # Small delay between individual downloads\n",
    "\n",
    "        except Exception as e:\n",
    "            failed_downloads.append({\n",
    "                'id': row['id'],\n",
    "                'movement': row['movement'],\n",
    "                'url': row['image'],\n",
    "                'error': str(e)\n",
    "            })\n",
    "            print(f\"\\nFailed to download {row['id']}: {e}\")\n",
    "\n",
    "    # After each batch, wait for a minute before continuing\n",
    "    if start_idx + batch_size < total_images:  # Don't wait after the final batch\n",
    "        print(f\"\\nCompleted batch. Waiting 60 seconds before next batch...\")\n",
    "        time.sleep(60)\n",
    "\n",
    "# Print summary\n",
    "print(\"\\nDownload Summary:\")\n",
    "print(f\"Total images attempted: {total_images}\")\n",
    "print(f\"Successful downloads: {successful_downloads}\")\n",
    "print(f\"Failed downloads: {len(failed_downloads)}\")\n",
    "\n",
    "if failed_downloads:\n",
    "    print(\"\\nFailed downloads details:\")\n",
    "    for fail in failed_downloads:\n",
    "        print(f\"ID: {fail['id']}\")\n",
    "        print(f\"Movement: {fail['movement']}\")\n",
    "        print(f\"URL: {fail['url']}\")\n",
    "        print(f\"Error: {fail['error']}\")\n",
    "        print(\"-\" * 50)"
   ]
  },
  {
   "cell_type": "markdown",
   "metadata": {},
   "source": [
    "### Verify image downloads and remove entries that failed."
   ]
  },
  {
   "cell_type": "code",
   "execution_count": 35,
   "metadata": {},
   "outputs": [
    {
     "name": "stdout",
     "output_type": "stream",
     "text": [
      "Starting verification of 9200 files...\n"
     ]
    },
    {
     "name": "stderr",
     "output_type": "stream",
     "text": [
      "100%|██████████| 9200/9200 [00:00<00:00, 10009.29it/s]"
     ]
    },
    {
     "name": "stdout",
     "output_type": "stream",
     "text": [
      "\n",
      "Verification Summary:\n",
      "Total files in DataFrame: 9200\n",
      "Successfully downloaded: 9114\n",
      "Missing files: 86\n",
      "\n",
      "Missing files by movement:\n",
      "abstract_expressionism: 5 files missing\n",
      "art_nouveau: 2 files missing\n",
      "baroque: 1 files missing\n",
      "contemporary: 21 files missing\n",
      "cubism: 1 files missing\n",
      "early_renaissance: 1 files missing\n",
      "fauvism: 5 files missing\n",
      "high_renaissance: 5 files missing\n",
      "neoclassicism: 41 files missing\n",
      "northern_renaissance: 1 files missing\n",
      "rococo: 1 files missing\n",
      "romanticism: 1 files missing\n",
      "surrealism: 1 files missing\n",
      "\n",
      "Sample of file paths (first 3):\n",
      "0    downloaded_images_wikiart\\naive_art\\57728a68ed...\n",
      "1    downloaded_images_wikiart\\naive_art\\57728a68ed...\n",
      "2    downloaded_images_wikiart\\naive_art\\57728a69ed...\n",
      "Name: file_path, dtype: object\n",
      "\n",
      "Verified files distribution by movement:\n",
      "early_renaissance: 466 files\n",
      "abstract_expressionism: 459 files\n",
      "post_impressionism: 458 files\n",
      "minimalism: 453 files\n",
      "impressionism: 444 files\n",
      "expressionism: 440 files\n",
      "surrealism: 434 files\n",
      "high_renaissance: 433 files\n",
      "northern_renaissance: 426 files\n",
      "cubism: 413 files\n",
      "pop_art: 392 files\n",
      "fauvism: 361 files\n",
      "baroque: 351 files\n",
      "romanticism: 336 files\n",
      "mannerism: 327 files\n",
      "art_informel: 319 files\n",
      "modernism: 301 files\n",
      "rococo: 287 files\n",
      "contemporary: 280 files\n",
      "american_realism: 272 files\n",
      "neoclassicism: 272 files\n",
      "art_nouveau: 256 files\n",
      "naive_art: 243 files\n",
      "symbolism: 234 files\n",
      "ukiyo_e: 230 files\n",
      "art_deco: 147 files\n",
      "neo_romantic: 80 files\n",
      "\n",
      "Updated DataFrame Info:\n",
      "<class 'pandas.core.frame.DataFrame'>\n",
      "RangeIndex: 9114 entries, 0 to 9113\n",
      "Data columns (total 12 columns):\n",
      " #   Column            Non-Null Count  Dtype  \n",
      "---  ------            --------------  -----  \n",
      " 0   id                9114 non-null   object \n",
      " 1   title             9114 non-null   object \n",
      " 2   url               0 non-null      object \n",
      " 3   artistUrl         9114 non-null   object \n",
      " 4   artistName        9114 non-null   object \n",
      " 5   artistId          9114 non-null   object \n",
      " 6   completitionYear  7798 non-null   float64\n",
      " 7   width             9114 non-null   int64  \n",
      " 8   image             9114 non-null   object \n",
      " 9   height            9114 non-null   int64  \n",
      " 10  movement          9114 non-null   object \n",
      " 11  file_path         9114 non-null   object \n",
      "dtypes: float64(1), int64(2), object(9)\n",
      "memory usage: 854.6+ KB\n",
      "None\n"
     ]
    },
    {
     "name": "stderr",
     "output_type": "stream",
     "text": [
      "\n"
     ]
    }
   ],
   "source": [
    "\n",
    "def verify_downloads(df, base_dir=\"downloaded_images_wikiart\"):\n",
    "    # Initialize counters and storage\n",
    "    total_files = len(df)\n",
    "    missing_files = 0\n",
    "    missing_by_movement = {}\n",
    "    verified_rows = []\n",
    "    \n",
    "    print(f\"Starting verification of {total_files} files...\")\n",
    "    \n",
    "    # Check each row in the DataFrame\n",
    "    for _, row in tqdm(df.iterrows(), total=len(df)):\n",
    "        movement_dir = os.path.join(base_dir, row['movement'])\n",
    "        file_path = os.path.join(movement_dir, f\"{row['id']}.jpg\")\n",
    "        \n",
    "        # Check if file exists and has size greater than 0\n",
    "        if os.path.exists(file_path) and os.path.getsize(file_path) > 0:\n",
    "            # Create a copy of the row data and add the file path\n",
    "            row_data = row.to_dict()\n",
    "            row_data['file_path'] = file_path\n",
    "            verified_rows.append(row_data)\n",
    "        else:\n",
    "            missing_files += 1\n",
    "            # Track missing files by movement\n",
    "            missing_by_movement[row['movement']] = missing_by_movement.get(row['movement'], 0) + 1\n",
    "    \n",
    "    # Create new DataFrame with only verified files\n",
    "    verified_df = pd.DataFrame(verified_rows)\n",
    "    \n",
    "    # Print summary\n",
    "    print(\"\\nVerification Summary:\")\n",
    "    print(f\"Total files in DataFrame: {total_files}\")\n",
    "    print(f\"Successfully downloaded: {total_files - missing_files}\")\n",
    "    print(f\"Missing files: {missing_files}\")\n",
    "    \n",
    "    if missing_files > 0:\n",
    "        print(\"\\nMissing files by movement:\")\n",
    "        for movement, count in sorted(missing_by_movement.items()):\n",
    "            print(f\"{movement}: {count} files missing\")\n",
    "    \n",
    "    # Display sample of file paths to verify format\n",
    "    print(\"\\nSample of file paths (first 3):\")\n",
    "    if len(verified_df) > 0:\n",
    "        print(verified_df['file_path'].head(3))\n",
    "    \n",
    "    return verified_df\n",
    "\n",
    "# Run the verification\n",
    "verified_df = verify_downloads(all_movements_df)\n",
    "\n",
    "# Print movement distribution in verified dataset\n",
    "print(\"\\nVerified files distribution by movement:\")\n",
    "movement_counts = verified_df['movement'].value_counts()\n",
    "for movement, count in movement_counts.items():\n",
    "    print(f\"{movement}: {count} files\")\n",
    "\n",
    "# Show DataFrame info including new file_path column\n",
    "print(\"\\nUpdated DataFrame Info:\")\n",
    "print(verified_df.info())\n"
   ]
  },
  {
   "cell_type": "markdown",
   "metadata": {},
   "source": [
    "### Examine our classes"
   ]
  },
  {
   "cell_type": "code",
   "execution_count": 28,
   "metadata": {},
   "outputs": [
    {
     "data": {
      "text/plain": [
       "movement\n",
       "early_renaissance         466\n",
       "abstract_expressionism    459\n",
       "post_impressionism        458\n",
       "minimalism                453\n",
       "impressionism             444\n",
       "expressionism             440\n",
       "surrealism                434\n",
       "high_renaissance          433\n",
       "northern_renaissance      426\n",
       "cubism                    413\n",
       "pop_art                   392\n",
       "fauvism                   361\n",
       "baroque                   351\n",
       "romanticism               336\n",
       "mannerism                 327\n",
       "art_informel              319\n",
       "modernism                 301\n",
       "rococo                    287\n",
       "contemporary              280\n",
       "american_realism          272\n",
       "neoclassicism             272\n",
       "art_nouveau               256\n",
       "naive_art                 243\n",
       "symbolism                 234\n",
       "ukiyo_e                   230\n",
       "art_deco                  147\n",
       "neo_romantic               80\n",
       "Name: count, dtype: int64"
      ]
     },
     "execution_count": 28,
     "metadata": {},
     "output_type": "execute_result"
    }
   ],
   "source": [
    "verified_df['movement'].value_counts()"
   ]
  },
  {
   "cell_type": "code",
   "execution_count": 31,
   "metadata": {},
   "outputs": [
    {
     "data": {
      "image/png": "[encoded data removed]",
      "text/plain": [
       "<Figure size 1200x1200 with 1 Axes>"
      ]
     },
     "metadata": {},
     "output_type": "display_data"
    }
   ],
   "source": [
    "def plot_movement_pie(df):\n",
    "    \"\"\"\n",
    "    Creates a pie chart of art style distribution using matplotlib\n",
    "    \"\"\"\n",
    "    plt.figure(figsize=(12, 12))\n",
    "    \n",
    "    # Get style counts and total\n",
    "    mvoement_counts = df['movement'].value_counts()\n",
    "    total_images = len(df)\n",
    "    \n",
    "    # Create pie chart\n",
    "    plt.pie(movement_counts.values, \n",
    "            labels=mvoement_counts.index,\n",
    "            autopct='%1.1f%%',\n",
    "            pctdistance=0.85,\n",
    "            wedgeprops=dict(width=0.5))  # Creates donut effect\n",
    "    \n",
    "    plt.title(f\"Art Style Distribution\\nTotal Images: {total_images:,}\", \n",
    "              pad=20, \n",
    "              size=14)\n",
    "    \n",
    "    return plt\n",
    "\n",
    "#Usage:\n",
    "plot_movement_pie(verified_df)\n",
    "plt.show()"
   ]
  },
  {
   "cell_type": "code",
   "execution_count": 36,
   "metadata": {},
   "outputs": [],
   "source": [
    "# Save the dataframe to be used for image processing\n",
    "verified_df.to_csv('verified_artwork_data.csv', index=False)"
   ]
  }
 ],
 "metadata": {
  "kernelspec": {
   "display_name": "dev",
   "language": "python",
   "name": "python3"
  },
  "language_info": {
   "codemirror_mode": {
    "name": "ipython",
    "version": 3
   },
   "file_extension": ".py",
   "mimetype": "text/x-python",
   "name": "python",
   "nbconvert_exporter": "python",
   "pygments_lexer": "ipython3",
   "version": "3.10.14"
  }
 },
 "nbformat": 4,
 "nbformat_minor": 2
}
